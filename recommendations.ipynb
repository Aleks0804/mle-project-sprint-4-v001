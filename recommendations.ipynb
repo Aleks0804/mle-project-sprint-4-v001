{
 "cells": [
  {
   "cell_type": "markdown",
   "id": "f4095ae4-7294-4b28-853e-88d235002c97",
   "metadata": {},
   "source": [
    "# Инициализация"
   ]
  },
  {
   "cell_type": "markdown",
   "id": "2f2318d2-9df8-4911-915e-15b725c44f8a",
   "metadata": {},
   "source": [
    "Загружаем библиотеки необходимые для выполнения кода ноутбука."
   ]
  },
  {
   "cell_type": "code",
   "execution_count": 2,
   "id": "662d04e7-1b0b-4e4a-9ddf-4526d7fef119",
   "metadata": {},
   "outputs": [],
   "source": [
    "import pandas as pd\n",
    "import numpy as np\n",
    "import random\n",
    "import joblib\n",
    "\n",
    "import matplotlib.pyplot as plt\n",
    "from sklearn.preprocessing import LabelEncoder\n",
    "\n",
    "\n",
    "RANDOM_STATE = 42\n",
    "\n",
    "np.random.seed(RANDOM_STATE) "
   ]
  },
  {
   "cell_type": "markdown",
   "id": "bf80fbc5-b660-4fac-8fbb-a5cae77313b3",
   "metadata": {},
   "source": [
    "# === ЭТАП 1 ==="
   ]
  },
  {
   "cell_type": "markdown",
   "id": "5263a8b3-fe99-4204-8a2e-105182792c11",
   "metadata": {},
   "source": [
    "# Загрузка первичных данных"
   ]
  },
  {
   "cell_type": "markdown",
   "id": "1b54a6a5-1656-4e3c-99d1-49dc39451d33",
   "metadata": {},
   "source": [
    "Загружаем первичные данные из файлов:\n",
    "- tracks.parquet\n",
    "- catalog_names.parquet\n",
    "- interactions.parquet"
   ]
  },
  {
   "cell_type": "code",
   "execution_count": 3,
   "id": "5d4b8961-3f35-4e58-9d6b-3e2dbd2c4224",
   "metadata": {},
   "outputs": [],
   "source": [
    "tracks = pd.read_parquet('tracks.parquet')\n",
    "catalog_names = pd.read_parquet('catalog_names.parquet')\n",
    "interactions = pd.read_parquet('interactions.parquet')"
   ]
  },
  {
   "cell_type": "markdown",
   "id": "e8f2a1f7-a05f-4f39-af90-5f4018aa6f9d",
   "metadata": {},
   "source": [
    "# Обзор данных"
   ]
  },
  {
   "cell_type": "markdown",
   "id": "46a85307-896c-4fac-9fcf-f0dffa90889e",
   "metadata": {},
   "source": [
    "Проверяем данные, есть ли с ними явные проблемы."
   ]
  },
  {
   "cell_type": "code",
   "execution_count": 4,
   "id": "c9f8f17e-9b56-4f5a-a463-f694a993effb",
   "metadata": {},
   "outputs": [
    {
     "name": "stdout",
     "output_type": "stream",
     "text": [
      "<class 'pandas.core.frame.DataFrame'>\n",
      "RangeIndex: 1000000 entries, 0 to 999999\n",
      "Data columns (total 4 columns):\n",
      " #   Column    Non-Null Count    Dtype \n",
      "---  ------    --------------    ----- \n",
      " 0   track_id  1000000 non-null  int64 \n",
      " 1   albums    1000000 non-null  object\n",
      " 2   artists   1000000 non-null  object\n",
      " 3   genres    1000000 non-null  object\n",
      "dtypes: int64(1), object(3)\n",
      "memory usage: 30.5+ MB\n"
     ]
    }
   ],
   "source": [
    "# Что у нас в task?\n",
    "\n",
    "tracks.info()"
   ]
  },
  {
   "cell_type": "code",
   "execution_count": 5,
   "id": "efd2e2eb-3bec-4ce1-87ac-232bab8bc0d0",
   "metadata": {},
   "outputs": [
    {
     "data": {
      "application/vnd.microsoft.datawrangler.viewer.v0+json": {
       "columns": [
        {
         "name": "index",
         "rawType": "int64",
         "type": "integer"
        },
        {
         "name": "track_id",
         "rawType": "int64",
         "type": "integer"
        },
        {
         "name": "albums",
         "rawType": "object",
         "type": "unknown"
        },
        {
         "name": "artists",
         "rawType": "object",
         "type": "unknown"
        },
        {
         "name": "genres",
         "rawType": "object",
         "type": "unknown"
        }
       ],
       "ref": "6d8f11f5-8e1a-4ad1-b9e4-56ac7ac1971a",
       "rows": [
        [
         "0",
         "26",
         "[      3 2490753]",
         "[16]",
         "[11 21]"
        ],
        [
         "1",
         "38",
         "[      3 2490753]",
         "[16]",
         "[11 21]"
        ],
        [
         "2",
         "135",
         "[     12     214 2490809]",
         "[84]",
         "[11]"
        ],
        [
         "3",
         "136",
         "[     12     214 2490809]",
         "[84]",
         "[11]"
        ],
        [
         "4",
         "138",
         "[      12      214      322    72275    72292    91199   213505  2490809\n  6007655 17294156]",
         "[84]",
         "[11]"
        ]
       ],
       "shape": {
        "columns": 4,
        "rows": 5
       }
      },
      "text/html": [
       "<div>\n",
       "<style scoped>\n",
       "    .dataframe tbody tr th:only-of-type {\n",
       "        vertical-align: middle;\n",
       "    }\n",
       "\n",
       "    .dataframe tbody tr th {\n",
       "        vertical-align: top;\n",
       "    }\n",
       "\n",
       "    .dataframe thead th {\n",
       "        text-align: right;\n",
       "    }\n",
       "</style>\n",
       "<table border=\"1\" class=\"dataframe\">\n",
       "  <thead>\n",
       "    <tr style=\"text-align: right;\">\n",
       "      <th></th>\n",
       "      <th>track_id</th>\n",
       "      <th>albums</th>\n",
       "      <th>artists</th>\n",
       "      <th>genres</th>\n",
       "    </tr>\n",
       "  </thead>\n",
       "  <tbody>\n",
       "    <tr>\n",
       "      <th>0</th>\n",
       "      <td>26</td>\n",
       "      <td>[3, 2490753]</td>\n",
       "      <td>[16]</td>\n",
       "      <td>[11, 21]</td>\n",
       "    </tr>\n",
       "    <tr>\n",
       "      <th>1</th>\n",
       "      <td>38</td>\n",
       "      <td>[3, 2490753]</td>\n",
       "      <td>[16]</td>\n",
       "      <td>[11, 21]</td>\n",
       "    </tr>\n",
       "    <tr>\n",
       "      <th>2</th>\n",
       "      <td>135</td>\n",
       "      <td>[12, 214, 2490809]</td>\n",
       "      <td>[84]</td>\n",
       "      <td>[11]</td>\n",
       "    </tr>\n",
       "    <tr>\n",
       "      <th>3</th>\n",
       "      <td>136</td>\n",
       "      <td>[12, 214, 2490809]</td>\n",
       "      <td>[84]</td>\n",
       "      <td>[11]</td>\n",
       "    </tr>\n",
       "    <tr>\n",
       "      <th>4</th>\n",
       "      <td>138</td>\n",
       "      <td>[12, 214, 322, 72275, 72292, 91199, 213505, 24...</td>\n",
       "      <td>[84]</td>\n",
       "      <td>[11]</td>\n",
       "    </tr>\n",
       "  </tbody>\n",
       "</table>\n",
       "</div>"
      ],
      "text/plain": [
       "   track_id                                             albums artists  \\\n",
       "0        26                                       [3, 2490753]    [16]   \n",
       "1        38                                       [3, 2490753]    [16]   \n",
       "2       135                                 [12, 214, 2490809]    [84]   \n",
       "3       136                                 [12, 214, 2490809]    [84]   \n",
       "4       138  [12, 214, 322, 72275, 72292, 91199, 213505, 24...    [84]   \n",
       "\n",
       "     genres  \n",
       "0  [11, 21]  \n",
       "1  [11, 21]  \n",
       "2      [11]  \n",
       "3      [11]  \n",
       "4      [11]  "
      ]
     },
     "execution_count": 5,
     "metadata": {},
     "output_type": "execute_result"
    }
   ],
   "source": [
    "# Как выглядят данные\n",
    "\n",
    "tracks.head()"
   ]
  },
  {
   "cell_type": "code",
   "execution_count": 6,
   "id": "878d7f93",
   "metadata": {},
   "outputs": [
    {
     "name": "stdout",
     "output_type": "stream",
     "text": [
      "образец albums: [      3 2490753] Тип данных: <class 'numpy.ndarray'>\n",
      "образец genres: [11 21] Тип данных: <class 'numpy.ndarray'>\n"
     ]
    },
    {
     "data": {
      "text/plain": [
       "array([      3, 2490753])"
      ]
     },
     "execution_count": 6,
     "metadata": {},
     "output_type": "execute_result"
    }
   ],
   "source": [
    "# Интересно что это за данные не List похожие\n",
    "\n",
    "sample_albums = tracks['albums'][0]\n",
    "sample_genres = tracks['genres'][0]\n",
    "print(f\"образец albums: {sample_albums} Тип данных: {type(sample_albums)}\")\n",
    "print(f\"образец genres: {sample_genres} Тип данных: {type(sample_genres)}\")\n",
    "sample_albums"
   ]
  },
  {
   "cell_type": "code",
   "execution_count": 7,
   "id": "724842a7",
   "metadata": {},
   "outputs": [
    {
     "data": {
      "application/vnd.microsoft.datawrangler.viewer.v0+json": {
       "columns": [
        {
         "name": "index",
         "rawType": "object",
         "type": "string"
        },
        {
         "name": "0",
         "rawType": "int64",
         "type": "integer"
        }
       ],
       "ref": "061e3f0f-fb02-4f55-9705-a958ca3a5def",
       "rows": [
        [
         "track_id",
         "0"
        ],
        [
         "albums",
         "0"
        ],
        [
         "artists",
         "0"
        ],
        [
         "genres",
         "0"
        ]
       ],
       "shape": {
        "columns": 1,
        "rows": 4
       }
      },
      "text/plain": [
       "track_id    0\n",
       "albums      0\n",
       "artists     0\n",
       "genres      0\n",
       "dtype: int64"
      ]
     },
     "execution_count": 7,
     "metadata": {},
     "output_type": "execute_result"
    }
   ],
   "source": [
    "# Пропуски ?\n",
    "tracks.isna().sum()"
   ]
  },
  {
   "cell_type": "code",
   "execution_count": 8,
   "id": "a5b67880",
   "metadata": {},
   "outputs": [
    {
     "data": {
      "application/vnd.microsoft.datawrangler.viewer.v0+json": {
       "columns": [
        {
         "name": "track_id",
         "rawType": "bool",
         "type": "boolean"
        },
        {
         "name": "count",
         "rawType": "int64",
         "type": "integer"
        }
       ],
       "ref": "2a5acb3e-bc1f-4343-8b6b-b9badf56f379",
       "rows": [
        [
         "False",
         "1000000"
        ]
       ],
       "shape": {
        "columns": 1,
        "rows": 1
       }
      },
      "text/plain": [
       "track_id\n",
       "False    1000000\n",
       "Name: count, dtype: int64"
      ]
     },
     "execution_count": 8,
     "metadata": {},
     "output_type": "execute_result"
    }
   ],
   "source": [
    "# А треки у нас точно уникальные\n",
    "tracks['track_id'].duplicated().value_counts()"
   ]
  },
  {
   "cell_type": "code",
   "execution_count": 9,
   "id": "26bbcb6d",
   "metadata": {},
   "outputs": [
    {
     "data": {
      "application/vnd.microsoft.datawrangler.viewer.v0+json": {
       "columns": [
        {
         "name": "index",
         "rawType": "int64",
         "type": "integer"
        },
        {
         "name": "track_id",
         "rawType": "int64",
         "type": "integer"
        },
        {
         "name": "albums",
         "rawType": "object",
         "type": "unknown"
        },
        {
         "name": "artists",
         "rawType": "object",
         "type": "unknown"
        },
        {
         "name": "genres",
         "rawType": "object",
         "type": "unknown"
        }
       ],
       "ref": "4c177b04-e202-4fa2-a24f-87706cbb8d8e",
       "rows": [
        [
         "0",
         "26",
         "3",
         "16",
         "11"
        ],
        [
         "0",
         "26",
         "3",
         "16",
         "21"
        ],
        [
         "0",
         "26",
         "2490753",
         "16",
         "11"
        ],
        [
         "0",
         "26",
         "2490753",
         "16",
         "21"
        ],
        [
         "1",
         "38",
         "3",
         "16",
         "11"
        ],
        [
         "1",
         "38",
         "3",
         "16",
         "21"
        ],
        [
         "1",
         "38",
         "2490753",
         "16",
         "11"
        ],
        [
         "1",
         "38",
         "2490753",
         "16",
         "21"
        ],
        [
         "2",
         "135",
         "12",
         "84",
         "11"
        ],
        [
         "2",
         "135",
         "214",
         "84",
         "11"
        ]
       ],
       "shape": {
        "columns": 4,
        "rows": 10
       }
      },
      "text/html": [
       "<div>\n",
       "<style scoped>\n",
       "    .dataframe tbody tr th:only-of-type {\n",
       "        vertical-align: middle;\n",
       "    }\n",
       "\n",
       "    .dataframe tbody tr th {\n",
       "        vertical-align: top;\n",
       "    }\n",
       "\n",
       "    .dataframe thead th {\n",
       "        text-align: right;\n",
       "    }\n",
       "</style>\n",
       "<table border=\"1\" class=\"dataframe\">\n",
       "  <thead>\n",
       "    <tr style=\"text-align: right;\">\n",
       "      <th></th>\n",
       "      <th>track_id</th>\n",
       "      <th>albums</th>\n",
       "      <th>artists</th>\n",
       "      <th>genres</th>\n",
       "    </tr>\n",
       "  </thead>\n",
       "  <tbody>\n",
       "    <tr>\n",
       "      <th>0</th>\n",
       "      <td>26</td>\n",
       "      <td>3</td>\n",
       "      <td>16</td>\n",
       "      <td>11</td>\n",
       "    </tr>\n",
       "    <tr>\n",
       "      <th>0</th>\n",
       "      <td>26</td>\n",
       "      <td>3</td>\n",
       "      <td>16</td>\n",
       "      <td>21</td>\n",
       "    </tr>\n",
       "    <tr>\n",
       "      <th>0</th>\n",
       "      <td>26</td>\n",
       "      <td>2490753</td>\n",
       "      <td>16</td>\n",
       "      <td>11</td>\n",
       "    </tr>\n",
       "    <tr>\n",
       "      <th>0</th>\n",
       "      <td>26</td>\n",
       "      <td>2490753</td>\n",
       "      <td>16</td>\n",
       "      <td>21</td>\n",
       "    </tr>\n",
       "    <tr>\n",
       "      <th>1</th>\n",
       "      <td>38</td>\n",
       "      <td>3</td>\n",
       "      <td>16</td>\n",
       "      <td>11</td>\n",
       "    </tr>\n",
       "    <tr>\n",
       "      <th>1</th>\n",
       "      <td>38</td>\n",
       "      <td>3</td>\n",
       "      <td>16</td>\n",
       "      <td>21</td>\n",
       "    </tr>\n",
       "    <tr>\n",
       "      <th>1</th>\n",
       "      <td>38</td>\n",
       "      <td>2490753</td>\n",
       "      <td>16</td>\n",
       "      <td>11</td>\n",
       "    </tr>\n",
       "    <tr>\n",
       "      <th>1</th>\n",
       "      <td>38</td>\n",
       "      <td>2490753</td>\n",
       "      <td>16</td>\n",
       "      <td>21</td>\n",
       "    </tr>\n",
       "    <tr>\n",
       "      <th>2</th>\n",
       "      <td>135</td>\n",
       "      <td>12</td>\n",
       "      <td>84</td>\n",
       "      <td>11</td>\n",
       "    </tr>\n",
       "    <tr>\n",
       "      <th>2</th>\n",
       "      <td>135</td>\n",
       "      <td>214</td>\n",
       "      <td>84</td>\n",
       "      <td>11</td>\n",
       "    </tr>\n",
       "  </tbody>\n",
       "</table>\n",
       "</div>"
      ],
      "text/plain": [
       "   track_id   albums artists genres\n",
       "0        26        3      16     11\n",
       "0        26        3      16     21\n",
       "0        26  2490753      16     11\n",
       "0        26  2490753      16     21\n",
       "1        38        3      16     11\n",
       "1        38        3      16     21\n",
       "1        38  2490753      16     11\n",
       "1        38  2490753      16     21\n",
       "2       135       12      84     11\n",
       "2       135      214      84     11"
      ]
     },
     "execution_count": 9,
     "metadata": {},
     "output_type": "execute_result"
    }
   ],
   "source": [
    "# Для удобства развернем данные в колонках albums, artists, genres\n",
    "\n",
    "tracks = tracks.explode(['albums']).explode(['artists']).explode(['genres'])\n",
    "tracks.head(10)"
   ]
  },
  {
   "cell_type": "code",
   "execution_count": 10,
   "id": "d207f03c",
   "metadata": {},
   "outputs": [
    {
     "name": "stdout",
     "output_type": "stream",
     "text": [
      "<class 'pandas.core.frame.DataFrame'>\n",
      "Index: 6765311 entries, 0 to 999999\n",
      "Data columns (total 4 columns):\n",
      " #   Column    Dtype \n",
      "---  ------    ----- \n",
      " 0   track_id  int64 \n",
      " 1   albums    object\n",
      " 2   artists   object\n",
      " 3   genres    object\n",
      "dtypes: int64(1), object(3)\n",
      "memory usage: 258.1+ MB\n"
     ]
    }
   ],
   "source": [
    "# Что получилось?\n",
    "tracks.info()"
   ]
  },
  {
   "cell_type": "code",
   "execution_count": 11,
   "id": "7d5cd0cb",
   "metadata": {},
   "outputs": [
    {
     "data": {
      "application/vnd.microsoft.datawrangler.viewer.v0+json": {
       "columns": [
        {
         "name": "index",
         "rawType": "object",
         "type": "string"
        },
        {
         "name": "0",
         "rawType": "int64",
         "type": "integer"
        }
       ],
       "ref": "22e22d7a-bc9d-47bf-bcb7-3caf16075ea5",
       "rows": [
        [
         "track_id",
         "0"
        ],
        [
         "albums",
         "18"
        ],
        [
         "artists",
         "41789"
        ],
        [
         "genres",
         "36675"
        ]
       ],
       "shape": {
        "columns": 1,
        "rows": 4
       }
      },
      "text/plain": [
       "track_id        0\n",
       "albums         18\n",
       "artists     41789\n",
       "genres      36675\n",
       "dtype: int64"
      ]
     },
     "execution_count": 11,
     "metadata": {},
     "output_type": "execute_result"
    }
   ],
   "source": [
    "# Получилася датасет почти в 7 раз больше исходного, пока оставлю так. Не хочу в дальнейшем нагромождать код чтобы разворачивать эти поля\n",
    "# Посмотим на пропуски в новой таблице\n",
    "tracks.isna().sum()"
   ]
  },
  {
   "cell_type": "code",
   "execution_count": 12,
   "id": "e12ba967",
   "metadata": {},
   "outputs": [
    {
     "name": "stdout",
     "output_type": "stream",
     "text": [
      "<class 'pandas.core.frame.DataFrame'>\n",
      "RangeIndex: 1812471 entries, 0 to 1812470\n",
      "Data columns (total 3 columns):\n",
      " #   Column  Dtype \n",
      "---  ------  ----- \n",
      " 0   id      int64 \n",
      " 1   type    object\n",
      " 2   name    object\n",
      "dtypes: int64(1), object(2)\n",
      "memory usage: 41.5+ MB\n"
     ]
    }
   ],
   "source": [
    "# Что у нас в catalog_names?\n",
    "\n",
    "catalog_names.info()"
   ]
  },
  {
   "cell_type": "code",
   "execution_count": 13,
   "id": "4c43d474",
   "metadata": {},
   "outputs": [
    {
     "data": {
      "application/vnd.microsoft.datawrangler.viewer.v0+json": {
       "columns": [
        {
         "name": "index",
         "rawType": "int64",
         "type": "integer"
        },
        {
         "name": "id",
         "rawType": "int64",
         "type": "integer"
        },
        {
         "name": "type",
         "rawType": "object",
         "type": "string"
        },
        {
         "name": "name",
         "rawType": "object",
         "type": "string"
        }
       ],
       "ref": "9b6f6830-c24f-4bcd-8619-75626080b36d",
       "rows": [
        [
         "0",
         "3",
         "album",
         "Taller Children"
        ],
        [
         "1",
         "12",
         "album",
         "Wild Young Hearts"
        ],
        [
         "2",
         "13",
         "album",
         "Lonesome Crow"
        ],
        [
         "3",
         "17",
         "album",
         "Graffiti Soul"
        ],
        [
         "4",
         "26",
         "album",
         "Blues Six Pack"
        ]
       ],
       "shape": {
        "columns": 3,
        "rows": 5
       }
      },
      "text/html": [
       "<div>\n",
       "<style scoped>\n",
       "    .dataframe tbody tr th:only-of-type {\n",
       "        vertical-align: middle;\n",
       "    }\n",
       "\n",
       "    .dataframe tbody tr th {\n",
       "        vertical-align: top;\n",
       "    }\n",
       "\n",
       "    .dataframe thead th {\n",
       "        text-align: right;\n",
       "    }\n",
       "</style>\n",
       "<table border=\"1\" class=\"dataframe\">\n",
       "  <thead>\n",
       "    <tr style=\"text-align: right;\">\n",
       "      <th></th>\n",
       "      <th>id</th>\n",
       "      <th>type</th>\n",
       "      <th>name</th>\n",
       "    </tr>\n",
       "  </thead>\n",
       "  <tbody>\n",
       "    <tr>\n",
       "      <th>0</th>\n",
       "      <td>3</td>\n",
       "      <td>album</td>\n",
       "      <td>Taller Children</td>\n",
       "    </tr>\n",
       "    <tr>\n",
       "      <th>1</th>\n",
       "      <td>12</td>\n",
       "      <td>album</td>\n",
       "      <td>Wild Young Hearts</td>\n",
       "    </tr>\n",
       "    <tr>\n",
       "      <th>2</th>\n",
       "      <td>13</td>\n",
       "      <td>album</td>\n",
       "      <td>Lonesome Crow</td>\n",
       "    </tr>\n",
       "    <tr>\n",
       "      <th>3</th>\n",
       "      <td>17</td>\n",
       "      <td>album</td>\n",
       "      <td>Graffiti Soul</td>\n",
       "    </tr>\n",
       "    <tr>\n",
       "      <th>4</th>\n",
       "      <td>26</td>\n",
       "      <td>album</td>\n",
       "      <td>Blues Six Pack</td>\n",
       "    </tr>\n",
       "  </tbody>\n",
       "</table>\n",
       "</div>"
      ],
      "text/plain": [
       "   id   type               name\n",
       "0   3  album    Taller Children\n",
       "1  12  album  Wild Young Hearts\n",
       "2  13  album      Lonesome Crow\n",
       "3  17  album      Graffiti Soul\n",
       "4  26  album     Blues Six Pack"
      ]
     },
     "execution_count": 13,
     "metadata": {},
     "output_type": "execute_result"
    }
   ],
   "source": [
    "# Как выглядят данные\n",
    "\n",
    "catalog_names.head()"
   ]
  },
  {
   "cell_type": "code",
   "execution_count": 14,
   "id": "1ea859d6",
   "metadata": {},
   "outputs": [
    {
     "data": {
      "application/vnd.microsoft.datawrangler.viewer.v0+json": {
       "columns": [
        {
         "name": "type",
         "rawType": "object",
         "type": "string"
        },
        {
         "name": "count",
         "rawType": "int64",
         "type": "integer"
        }
       ],
       "ref": "7dfb254e-1d76-4599-a17d-73c316499c9a",
       "rows": [
        [
         "track",
         "1000000"
        ],
        [
         "album",
         "658724"
        ],
        [
         "artist",
         "153581"
        ],
        [
         "genre",
         "166"
        ]
       ],
       "shape": {
        "columns": 1,
        "rows": 4
       }
      },
      "text/plain": [
       "type\n",
       "track     1000000\n",
       "album      658724\n",
       "artist     153581\n",
       "genre         166\n",
       "Name: count, dtype: int64"
      ]
     },
     "execution_count": 14,
     "metadata": {},
     "output_type": "execute_result"
    }
   ],
   "source": [
    "# Судя по всему type поле справочника, проверим\n",
    "\n",
    "catalog_names['type'].value_counts()"
   ]
  },
  {
   "cell_type": "code",
   "execution_count": 15,
   "id": "8ac124c6",
   "metadata": {},
   "outputs": [
    {
     "data": {
      "application/vnd.microsoft.datawrangler.viewer.v0+json": {
       "columns": [
        {
         "name": "index",
         "rawType": "object",
         "type": "string"
        },
        {
         "name": "0",
         "rawType": "int64",
         "type": "integer"
        }
       ],
       "ref": "631db636-a024-4717-bfef-57c78a086636",
       "rows": [
        [
         "id",
         "0"
        ],
        [
         "type",
         "0"
        ],
        [
         "name",
         "0"
        ]
       ],
       "shape": {
        "columns": 1,
        "rows": 3
       }
      },
      "text/plain": [
       "id      0\n",
       "type    0\n",
       "name    0\n",
       "dtype: int64"
      ]
     },
     "execution_count": 15,
     "metadata": {},
     "output_type": "execute_result"
    }
   ],
   "source": [
    "# Пропуски ?\n",
    "\n",
    "catalog_names.isna().sum()"
   ]
  },
  {
   "cell_type": "code",
   "execution_count": 16,
   "id": "149fca4c",
   "metadata": {},
   "outputs": [
    {
     "name": "stdout",
     "output_type": "stream",
     "text": [
      "<class 'pandas.core.frame.DataFrame'>\n",
      "Index: 222629898 entries, 0 to 291\n",
      "Data columns (total 4 columns):\n",
      " #   Column      Dtype         \n",
      "---  ------      -----         \n",
      " 0   user_id     int32         \n",
      " 1   track_id    int32         \n",
      " 2   track_seq   int16         \n",
      " 3   started_at  datetime64[ns]\n",
      "dtypes: datetime64[ns](1), int16(1), int32(2)\n",
      "memory usage: 5.4 GB\n"
     ]
    }
   ],
   "source": [
    "# Что у нас в interactions?\n",
    "\n",
    "interactions.info()"
   ]
  },
  {
   "cell_type": "code",
   "execution_count": 17,
   "id": "30b85dac",
   "metadata": {},
   "outputs": [
    {
     "data": {
      "application/vnd.microsoft.datawrangler.viewer.v0+json": {
       "columns": [
        {
         "name": "index",
         "rawType": "int64",
         "type": "integer"
        },
        {
         "name": "user_id",
         "rawType": "int32",
         "type": "integer"
        },
        {
         "name": "track_id",
         "rawType": "int32",
         "type": "integer"
        },
        {
         "name": "track_seq",
         "rawType": "int16",
         "type": "integer"
        },
        {
         "name": "started_at",
         "rawType": "datetime64[ns]",
         "type": "datetime"
        }
       ],
       "ref": "882d1dbb-1700-458a-977f-b1a1cd0d054b",
       "rows": [
        [
         "0",
         "0",
         "99262",
         "1",
         "2022-07-17 00:00:00"
        ],
        [
         "1",
         "0",
         "589498",
         "2",
         "2022-07-19 00:00:00"
        ],
        [
         "2",
         "0",
         "590262",
         "3",
         "2022-07-21 00:00:00"
        ],
        [
         "3",
         "0",
         "590303",
         "4",
         "2022-07-22 00:00:00"
        ],
        [
         "4",
         "0",
         "590692",
         "5",
         "2022-07-22 00:00:00"
        ]
       ],
       "shape": {
        "columns": 4,
        "rows": 5
       }
      },
      "text/html": [
       "<div>\n",
       "<style scoped>\n",
       "    .dataframe tbody tr th:only-of-type {\n",
       "        vertical-align: middle;\n",
       "    }\n",
       "\n",
       "    .dataframe tbody tr th {\n",
       "        vertical-align: top;\n",
       "    }\n",
       "\n",
       "    .dataframe thead th {\n",
       "        text-align: right;\n",
       "    }\n",
       "</style>\n",
       "<table border=\"1\" class=\"dataframe\">\n",
       "  <thead>\n",
       "    <tr style=\"text-align: right;\">\n",
       "      <th></th>\n",
       "      <th>user_id</th>\n",
       "      <th>track_id</th>\n",
       "      <th>track_seq</th>\n",
       "      <th>started_at</th>\n",
       "    </tr>\n",
       "  </thead>\n",
       "  <tbody>\n",
       "    <tr>\n",
       "      <th>0</th>\n",
       "      <td>0</td>\n",
       "      <td>99262</td>\n",
       "      <td>1</td>\n",
       "      <td>2022-07-17</td>\n",
       "    </tr>\n",
       "    <tr>\n",
       "      <th>1</th>\n",
       "      <td>0</td>\n",
       "      <td>589498</td>\n",
       "      <td>2</td>\n",
       "      <td>2022-07-19</td>\n",
       "    </tr>\n",
       "    <tr>\n",
       "      <th>2</th>\n",
       "      <td>0</td>\n",
       "      <td>590262</td>\n",
       "      <td>3</td>\n",
       "      <td>2022-07-21</td>\n",
       "    </tr>\n",
       "    <tr>\n",
       "      <th>3</th>\n",
       "      <td>0</td>\n",
       "      <td>590303</td>\n",
       "      <td>4</td>\n",
       "      <td>2022-07-22</td>\n",
       "    </tr>\n",
       "    <tr>\n",
       "      <th>4</th>\n",
       "      <td>0</td>\n",
       "      <td>590692</td>\n",
       "      <td>5</td>\n",
       "      <td>2022-07-22</td>\n",
       "    </tr>\n",
       "  </tbody>\n",
       "</table>\n",
       "</div>"
      ],
      "text/plain": [
       "   user_id  track_id  track_seq started_at\n",
       "0        0     99262          1 2022-07-17\n",
       "1        0    589498          2 2022-07-19\n",
       "2        0    590262          3 2022-07-21\n",
       "3        0    590303          4 2022-07-22\n",
       "4        0    590692          5 2022-07-22"
      ]
     },
     "execution_count": 17,
     "metadata": {},
     "output_type": "execute_result"
    }
   ],
   "source": [
    "# Как выглядят данные в interactions\n",
    "\n",
    "interactions.head()"
   ]
  },
  {
   "cell_type": "code",
   "execution_count": 18,
   "id": "0f9de21e",
   "metadata": {},
   "outputs": [
    {
     "data": {
      "application/vnd.microsoft.datawrangler.viewer.v0+json": {
       "columns": [
        {
         "name": "index",
         "rawType": "object",
         "type": "string"
        },
        {
         "name": "0",
         "rawType": "int64",
         "type": "integer"
        }
       ],
       "ref": "3409eb0e-dbef-4efd-b447-5841305ba6d2",
       "rows": [
        [
         "user_id",
         "0"
        ],
        [
         "track_id",
         "0"
        ],
        [
         "track_seq",
         "0"
        ],
        [
         "started_at",
         "0"
        ]
       ],
       "shape": {
        "columns": 1,
        "rows": 4
       }
      },
      "text/plain": [
       "user_id       0\n",
       "track_id      0\n",
       "track_seq     0\n",
       "started_at    0\n",
       "dtype: int64"
      ]
     },
     "execution_count": 18,
     "metadata": {},
     "output_type": "execute_result"
    }
   ],
   "source": [
    "# Пропуски в interactions\n",
    "\n",
    "interactions.isna().sum()"
   ]
  },
  {
   "cell_type": "code",
   "execution_count": 19,
   "id": "0e5f9920",
   "metadata": {},
   "outputs": [
    {
     "data": {
      "application/vnd.microsoft.datawrangler.viewer.v0+json": {
       "columns": [
        {
         "name": "track_seq",
         "rawType": "int16",
         "type": "integer"
        },
        {
         "name": "count",
         "rawType": "int64",
         "type": "integer"
        }
       ],
       "ref": "7042207c-14bb-4217-8911-6f949b013108",
       "rows": [
        [
         "1",
         "1373221"
        ],
        [
         "2",
         "1372372"
        ],
        [
         "3",
         "1371643"
        ],
        [
         "4",
         "1370979"
        ],
        [
         "5",
         "1370280"
        ],
        [
         "6",
         "1369604"
        ],
        [
         "7",
         "1368767"
        ],
        [
         "8",
         "1367812"
        ],
        [
         "9",
         "1366526"
        ],
        [
         "10",
         "1364519"
        ],
        [
         "11",
         "1359712"
        ],
        [
         "12",
         "1319608"
        ],
        [
         "13",
         "1282780"
        ],
        [
         "14",
         "1249019"
        ],
        [
         "15",
         "1217936"
        ],
        [
         "16",
         "1189299"
        ],
        [
         "17",
         "1162396"
        ],
        [
         "18",
         "1137733"
        ],
        [
         "19",
         "1114044"
        ],
        [
         "20",
         "1092058"
        ],
        [
         "21",
         "1070232"
        ],
        [
         "22",
         "1050328"
        ],
        [
         "23",
         "1031563"
        ],
        [
         "24",
         "1013954"
        ],
        [
         "25",
         "997163"
        ],
        [
         "26",
         "981111"
        ],
        [
         "27",
         "965823"
        ],
        [
         "28",
         "951089"
        ],
        [
         "29",
         "936838"
        ],
        [
         "30",
         "923148"
        ],
        [
         "31",
         "909738"
        ],
        [
         "32",
         "897214"
        ],
        [
         "33",
         "885009"
        ],
        [
         "34",
         "873181"
        ],
        [
         "35",
         "861843"
        ],
        [
         "36",
         "851021"
        ],
        [
         "37",
         "840498"
        ],
        [
         "38",
         "830063"
        ],
        [
         "39",
         "820227"
        ],
        [
         "40",
         "810483"
        ],
        [
         "41",
         "801065"
        ],
        [
         "42",
         "791870"
        ],
        [
         "43",
         "783038"
        ],
        [
         "44",
         "774263"
        ],
        [
         "45",
         "765974"
        ],
        [
         "46",
         "757587"
        ],
        [
         "47",
         "749536"
        ],
        [
         "48",
         "741634"
        ],
        [
         "49",
         "733745"
        ],
        [
         "50",
         "726111"
        ]
       ],
       "shape": {
        "columns": 1,
        "rows": 16637
       }
      },
      "text/plain": [
       "track_seq\n",
       "1        1373221\n",
       "2        1372372\n",
       "3        1371643\n",
       "4        1370979\n",
       "5        1370280\n",
       "          ...   \n",
       "15684          1\n",
       "15683          1\n",
       "15682          1\n",
       "15681          1\n",
       "15738          1\n",
       "Name: count, Length: 16637, dtype: int64"
      ]
     },
     "execution_count": 19,
     "metadata": {},
     "output_type": "execute_result"
    }
   ],
   "source": [
    "# Посмотрим на track_seq\n",
    "interactions['track_seq'].value_counts()"
   ]
  },
  {
   "cell_type": "code",
   "execution_count": 20,
   "id": "72cd31ca",
   "metadata": {},
   "outputs": [
    {
     "data": {
      "application/vnd.microsoft.datawrangler.viewer.v0+json": {
       "columns": [
        {
         "name": "index",
         "rawType": "int64",
         "type": "integer"
        },
        {
         "name": "track_id",
         "rawType": "int64",
         "type": "integer"
        },
        {
         "name": "album_id",
         "rawType": "object",
         "type": "unknown"
        },
        {
         "name": "artist_id",
         "rawType": "object",
         "type": "unknown"
        },
        {
         "name": "genre_id",
         "rawType": "object",
         "type": "unknown"
        }
       ],
       "ref": "ba708c4c-04a8-42bb-ad1f-cd5f80438487",
       "rows": [
        [
         "0",
         "26",
         "3",
         "16",
         "11"
        ],
        [
         "0",
         "26",
         "3",
         "16",
         "21"
        ],
        [
         "0",
         "26",
         "2490753",
         "16",
         "11"
        ],
        [
         "0",
         "26",
         "2490753",
         "16",
         "21"
        ],
        [
         "1",
         "38",
         "3",
         "16",
         "11"
        ]
       ],
       "shape": {
        "columns": 4,
        "rows": 5
       }
      },
      "text/html": [
       "<div>\n",
       "<style scoped>\n",
       "    .dataframe tbody tr th:only-of-type {\n",
       "        vertical-align: middle;\n",
       "    }\n",
       "\n",
       "    .dataframe tbody tr th {\n",
       "        vertical-align: top;\n",
       "    }\n",
       "\n",
       "    .dataframe thead th {\n",
       "        text-align: right;\n",
       "    }\n",
       "</style>\n",
       "<table border=\"1\" class=\"dataframe\">\n",
       "  <thead>\n",
       "    <tr style=\"text-align: right;\">\n",
       "      <th></th>\n",
       "      <th>track_id</th>\n",
       "      <th>album_id</th>\n",
       "      <th>artist_id</th>\n",
       "      <th>genre_id</th>\n",
       "    </tr>\n",
       "  </thead>\n",
       "  <tbody>\n",
       "    <tr>\n",
       "      <th>0</th>\n",
       "      <td>26</td>\n",
       "      <td>3</td>\n",
       "      <td>16</td>\n",
       "      <td>11</td>\n",
       "    </tr>\n",
       "    <tr>\n",
       "      <th>0</th>\n",
       "      <td>26</td>\n",
       "      <td>3</td>\n",
       "      <td>16</td>\n",
       "      <td>21</td>\n",
       "    </tr>\n",
       "    <tr>\n",
       "      <th>0</th>\n",
       "      <td>26</td>\n",
       "      <td>2490753</td>\n",
       "      <td>16</td>\n",
       "      <td>11</td>\n",
       "    </tr>\n",
       "    <tr>\n",
       "      <th>0</th>\n",
       "      <td>26</td>\n",
       "      <td>2490753</td>\n",
       "      <td>16</td>\n",
       "      <td>21</td>\n",
       "    </tr>\n",
       "    <tr>\n",
       "      <th>1</th>\n",
       "      <td>38</td>\n",
       "      <td>3</td>\n",
       "      <td>16</td>\n",
       "      <td>11</td>\n",
       "    </tr>\n",
       "  </tbody>\n",
       "</table>\n",
       "</div>"
      ],
      "text/plain": [
       "   track_id album_id artist_id genre_id\n",
       "0        26        3        16       11\n",
       "0        26        3        16       21\n",
       "0        26  2490753        16       11\n",
       "0        26  2490753        16       21\n",
       "1        38        3        16       11"
      ]
     },
     "execution_count": 20,
     "metadata": {},
     "output_type": "execute_result"
    }
   ],
   "source": [
    "# Хочу избавиться от таблицы catalog_names, одновременно сделаем таблицу tracks более читаемой, для этого:\n",
    "# возму tracks в которой уже развернуты данные и переименную столбцы  для удовства\n",
    "\n",
    "tracks = tracks.rename(columns = {\"albums\": \"album_id\", \"artists\": \"artist_id\", \"genres\": \"genre_id\"})\n",
    "tracks.head()"
   ]
  },
  {
   "cell_type": "code",
   "execution_count": 21,
   "id": "0292f00c",
   "metadata": {},
   "outputs": [
    {
     "data": {
      "application/vnd.microsoft.datawrangler.viewer.v0+json": {
       "columns": [
        {
         "name": "index",
         "rawType": "int64",
         "type": "integer"
        },
        {
         "name": "track_id",
         "rawType": "int64",
         "type": "integer"
        },
        {
         "name": "track",
         "rawType": "object",
         "type": "string"
        }
       ],
       "ref": "b85cc28f-b876-4de4-80bf-a142d001ff0b",
       "rows": [
        [
         "812471",
         "26",
         "Complimentary Me"
        ],
        [
         "812472",
         "38",
         "Momma's Boy"
        ],
        [
         "812473",
         "135",
         "Atticus"
        ],
        [
         "812474",
         "136",
         "24 Hours"
        ],
        [
         "812475",
         "138",
         "Don't Upset The Rhythm (Go Baby Go)"
        ]
       ],
       "shape": {
        "columns": 2,
        "rows": 5
       }
      },
      "text/html": [
       "<div>\n",
       "<style scoped>\n",
       "    .dataframe tbody tr th:only-of-type {\n",
       "        vertical-align: middle;\n",
       "    }\n",
       "\n",
       "    .dataframe tbody tr th {\n",
       "        vertical-align: top;\n",
       "    }\n",
       "\n",
       "    .dataframe thead th {\n",
       "        text-align: right;\n",
       "    }\n",
       "</style>\n",
       "<table border=\"1\" class=\"dataframe\">\n",
       "  <thead>\n",
       "    <tr style=\"text-align: right;\">\n",
       "      <th></th>\n",
       "      <th>track_id</th>\n",
       "      <th>track</th>\n",
       "    </tr>\n",
       "  </thead>\n",
       "  <tbody>\n",
       "    <tr>\n",
       "      <th>812471</th>\n",
       "      <td>26</td>\n",
       "      <td>Complimentary Me</td>\n",
       "    </tr>\n",
       "    <tr>\n",
       "      <th>812472</th>\n",
       "      <td>38</td>\n",
       "      <td>Momma's Boy</td>\n",
       "    </tr>\n",
       "    <tr>\n",
       "      <th>812473</th>\n",
       "      <td>135</td>\n",
       "      <td>Atticus</td>\n",
       "    </tr>\n",
       "    <tr>\n",
       "      <th>812474</th>\n",
       "      <td>136</td>\n",
       "      <td>24 Hours</td>\n",
       "    </tr>\n",
       "    <tr>\n",
       "      <th>812475</th>\n",
       "      <td>138</td>\n",
       "      <td>Don't Upset The Rhythm (Go Baby Go)</td>\n",
       "    </tr>\n",
       "  </tbody>\n",
       "</table>\n",
       "</div>"
      ],
      "text/plain": [
       "        track_id                                track\n",
       "812471        26                     Complimentary Me\n",
       "812472        38                          Momma's Boy\n",
       "812473       135                              Atticus\n",
       "812474       136                             24 Hours\n",
       "812475       138  Don't Upset The Rhythm (Go Baby Go)"
      ]
     },
     "execution_count": 21,
     "metadata": {},
     "output_type": "execute_result"
    }
   ],
   "source": [
    "#Теперь разберем catalog_names на отдельные временные справочники \n",
    "#    - track\n",
    "#    - album\n",
    "#    - artist\n",
    "#    - genre\n",
    "\n",
    "track = catalog_names.query(\"type == 'track'\")\n",
    "\n",
    "# Не смотря на то что, таблица по сути на \"один раз\" удалим лишний столбец\n",
    "track = track.drop(\"type\", axis=1)\n",
    "\n",
    "# Переименнуем столбец id, name иначе в 4-х справочниках будут одинаковые названия столбцов\n",
    "track = track.rename(columns={'id': 'track_id', 'name': 'track'})\n",
    "track.head()\n"
   ]
  },
  {
   "cell_type": "code",
   "execution_count": 22,
   "id": "f5d32f26",
   "metadata": {},
   "outputs": [
    {
     "data": {
      "application/vnd.microsoft.datawrangler.viewer.v0+json": {
       "columns": [
        {
         "name": "index",
         "rawType": "int64",
         "type": "integer"
        },
        {
         "name": "album_id",
         "rawType": "int64",
         "type": "integer"
        },
        {
         "name": "album",
         "rawType": "object",
         "type": "string"
        }
       ],
       "ref": "2692cf28-3c1a-44e1-a7fe-230764819888",
       "rows": [
        [
         "0",
         "3",
         "Taller Children"
        ],
        [
         "1",
         "12",
         "Wild Young Hearts"
        ],
        [
         "2",
         "13",
         "Lonesome Crow"
        ],
        [
         "3",
         "17",
         "Graffiti Soul"
        ],
        [
         "4",
         "26",
         "Blues Six Pack"
        ]
       ],
       "shape": {
        "columns": 2,
        "rows": 5
       }
      },
      "text/html": [
       "<div>\n",
       "<style scoped>\n",
       "    .dataframe tbody tr th:only-of-type {\n",
       "        vertical-align: middle;\n",
       "    }\n",
       "\n",
       "    .dataframe tbody tr th {\n",
       "        vertical-align: top;\n",
       "    }\n",
       "\n",
       "    .dataframe thead th {\n",
       "        text-align: right;\n",
       "    }\n",
       "</style>\n",
       "<table border=\"1\" class=\"dataframe\">\n",
       "  <thead>\n",
       "    <tr style=\"text-align: right;\">\n",
       "      <th></th>\n",
       "      <th>album_id</th>\n",
       "      <th>album</th>\n",
       "    </tr>\n",
       "  </thead>\n",
       "  <tbody>\n",
       "    <tr>\n",
       "      <th>0</th>\n",
       "      <td>3</td>\n",
       "      <td>Taller Children</td>\n",
       "    </tr>\n",
       "    <tr>\n",
       "      <th>1</th>\n",
       "      <td>12</td>\n",
       "      <td>Wild Young Hearts</td>\n",
       "    </tr>\n",
       "    <tr>\n",
       "      <th>2</th>\n",
       "      <td>13</td>\n",
       "      <td>Lonesome Crow</td>\n",
       "    </tr>\n",
       "    <tr>\n",
       "      <th>3</th>\n",
       "      <td>17</td>\n",
       "      <td>Graffiti Soul</td>\n",
       "    </tr>\n",
       "    <tr>\n",
       "      <th>4</th>\n",
       "      <td>26</td>\n",
       "      <td>Blues Six Pack</td>\n",
       "    </tr>\n",
       "  </tbody>\n",
       "</table>\n",
       "</div>"
      ],
      "text/plain": [
       "   album_id              album\n",
       "0         3    Taller Children\n",
       "1        12  Wild Young Hearts\n",
       "2        13      Lonesome Crow\n",
       "3        17      Graffiti Soul\n",
       "4        26     Blues Six Pack"
      ]
     },
     "execution_count": 22,
     "metadata": {},
     "output_type": "execute_result"
    }
   ],
   "source": [
    "# По тойже схеме обрабатываю album\n",
    "\n",
    "album = catalog_names.query(\"type == 'album'\")\n",
    "album = album.drop(\"type\", axis=1)\n",
    "album = album.rename(columns={'id': 'album_id', 'name': 'album'})\n",
    "album.head()"
   ]
  },
  {
   "cell_type": "code",
   "execution_count": 23,
   "id": "d3de32ca",
   "metadata": {},
   "outputs": [
    {
     "data": {
      "application/vnd.microsoft.datawrangler.viewer.v0+json": {
       "columns": [
        {
         "name": "index",
         "rawType": "int64",
         "type": "integer"
        },
        {
         "name": "artist_id",
         "rawType": "int64",
         "type": "integer"
        },
        {
         "name": "artist",
         "rawType": "object",
         "type": "string"
        }
       ],
       "ref": "d07e7240-b3c0-45b0-aa26-502763a33cc2",
       "rows": [
        [
         "658724",
         "4",
         "Kenny Dorham"
        ],
        [
         "658725",
         "5",
         "Max Roach"
        ],
        [
         "658726",
         "7",
         "Francis Rossi"
        ],
        [
         "658727",
         "9",
         "Status Quo"
        ],
        [
         "658728",
         "12",
         "Phil Everly"
        ]
       ],
       "shape": {
        "columns": 2,
        "rows": 5
       }
      },
      "text/html": [
       "<div>\n",
       "<style scoped>\n",
       "    .dataframe tbody tr th:only-of-type {\n",
       "        vertical-align: middle;\n",
       "    }\n",
       "\n",
       "    .dataframe tbody tr th {\n",
       "        vertical-align: top;\n",
       "    }\n",
       "\n",
       "    .dataframe thead th {\n",
       "        text-align: right;\n",
       "    }\n",
       "</style>\n",
       "<table border=\"1\" class=\"dataframe\">\n",
       "  <thead>\n",
       "    <tr style=\"text-align: right;\">\n",
       "      <th></th>\n",
       "      <th>artist_id</th>\n",
       "      <th>artist</th>\n",
       "    </tr>\n",
       "  </thead>\n",
       "  <tbody>\n",
       "    <tr>\n",
       "      <th>658724</th>\n",
       "      <td>4</td>\n",
       "      <td>Kenny Dorham</td>\n",
       "    </tr>\n",
       "    <tr>\n",
       "      <th>658725</th>\n",
       "      <td>5</td>\n",
       "      <td>Max Roach</td>\n",
       "    </tr>\n",
       "    <tr>\n",
       "      <th>658726</th>\n",
       "      <td>7</td>\n",
       "      <td>Francis Rossi</td>\n",
       "    </tr>\n",
       "    <tr>\n",
       "      <th>658727</th>\n",
       "      <td>9</td>\n",
       "      <td>Status Quo</td>\n",
       "    </tr>\n",
       "    <tr>\n",
       "      <th>658728</th>\n",
       "      <td>12</td>\n",
       "      <td>Phil Everly</td>\n",
       "    </tr>\n",
       "  </tbody>\n",
       "</table>\n",
       "</div>"
      ],
      "text/plain": [
       "        artist_id         artist\n",
       "658724          4   Kenny Dorham\n",
       "658725          5      Max Roach\n",
       "658726          7  Francis Rossi\n",
       "658727          9     Status Quo\n",
       "658728         12    Phil Everly"
      ]
     },
     "execution_count": 23,
     "metadata": {},
     "output_type": "execute_result"
    }
   ],
   "source": [
    "# По тойже схеме обрабатываю artist\n",
    "\n",
    "artist = catalog_names.query(\"type == 'artist'\")\n",
    "artist = artist.drop(\"type\", axis=1)\n",
    "artist = artist.rename(columns={'id': 'artist_id', 'name': 'artist'})\n",
    "artist.head()"
   ]
  },
  {
   "cell_type": "code",
   "execution_count": 24,
   "id": "f8f9b572",
   "metadata": {},
   "outputs": [
    {
     "data": {
      "application/vnd.microsoft.datawrangler.viewer.v0+json": {
       "columns": [
        {
         "name": "index",
         "rawType": "int64",
         "type": "integer"
        },
        {
         "name": "genre_id",
         "rawType": "int64",
         "type": "integer"
        },
        {
         "name": "genre",
         "rawType": "object",
         "type": "string"
        }
       ],
       "ref": "e2282334-2e83-4f11-82bd-81ae9126c465",
       "rows": [
        [
         "812305",
         "0",
         "all"
        ],
        [
         "812306",
         "1",
         "eastern"
        ],
        [
         "812307",
         "2",
         "rusrock"
        ],
        [
         "812308",
         "3",
         "rusrap"
        ],
        [
         "812309",
         "4",
         "postrock"
        ]
       ],
       "shape": {
        "columns": 2,
        "rows": 5
       }
      },
      "text/html": [
       "<div>\n",
       "<style scoped>\n",
       "    .dataframe tbody tr th:only-of-type {\n",
       "        vertical-align: middle;\n",
       "    }\n",
       "\n",
       "    .dataframe tbody tr th {\n",
       "        vertical-align: top;\n",
       "    }\n",
       "\n",
       "    .dataframe thead th {\n",
       "        text-align: right;\n",
       "    }\n",
       "</style>\n",
       "<table border=\"1\" class=\"dataframe\">\n",
       "  <thead>\n",
       "    <tr style=\"text-align: right;\">\n",
       "      <th></th>\n",
       "      <th>genre_id</th>\n",
       "      <th>genre</th>\n",
       "    </tr>\n",
       "  </thead>\n",
       "  <tbody>\n",
       "    <tr>\n",
       "      <th>812305</th>\n",
       "      <td>0</td>\n",
       "      <td>all</td>\n",
       "    </tr>\n",
       "    <tr>\n",
       "      <th>812306</th>\n",
       "      <td>1</td>\n",
       "      <td>eastern</td>\n",
       "    </tr>\n",
       "    <tr>\n",
       "      <th>812307</th>\n",
       "      <td>2</td>\n",
       "      <td>rusrock</td>\n",
       "    </tr>\n",
       "    <tr>\n",
       "      <th>812308</th>\n",
       "      <td>3</td>\n",
       "      <td>rusrap</td>\n",
       "    </tr>\n",
       "    <tr>\n",
       "      <th>812309</th>\n",
       "      <td>4</td>\n",
       "      <td>postrock</td>\n",
       "    </tr>\n",
       "  </tbody>\n",
       "</table>\n",
       "</div>"
      ],
      "text/plain": [
       "        genre_id     genre\n",
       "812305         0       all\n",
       "812306         1   eastern\n",
       "812307         2   rusrock\n",
       "812308         3    rusrap\n",
       "812309         4  postrock"
      ]
     },
     "execution_count": 24,
     "metadata": {},
     "output_type": "execute_result"
    }
   ],
   "source": [
    "# По тойже схеме обрабатываю genre\n",
    "\n",
    "genre = catalog_names.query(\"type == 'genre'\")\n",
    "genre = genre.drop(\"type\", axis=1)\n",
    "genre = genre.rename(columns={'id': 'genre_id', 'name': 'genre'})\n",
    "genre.head()"
   ]
  },
  {
   "cell_type": "code",
   "execution_count": 25,
   "id": "d8f16801",
   "metadata": {},
   "outputs": [
    {
     "data": {
      "application/vnd.microsoft.datawrangler.viewer.v0+json": {
       "columns": [
        {
         "name": "index",
         "rawType": "int64",
         "type": "integer"
        },
        {
         "name": "track_id",
         "rawType": "int64",
         "type": "integer"
        },
        {
         "name": "album_id",
         "rawType": "object",
         "type": "unknown"
        },
        {
         "name": "artist_id",
         "rawType": "object",
         "type": "unknown"
        },
        {
         "name": "genre_id",
         "rawType": "object",
         "type": "unknown"
        },
        {
         "name": "track",
         "rawType": "object",
         "type": "string"
        },
        {
         "name": "album",
         "rawType": "object",
         "type": "string"
        },
        {
         "name": "artist",
         "rawType": "object",
         "type": "string"
        },
        {
         "name": "genre",
         "rawType": "object",
         "type": "string"
        }
       ],
       "ref": "7f66bbeb-b5c4-4b2e-a7ff-497d902d57c3",
       "rows": [
        [
         "0",
         "26",
         "3",
         "16",
         "11",
         "Complimentary Me",
         "Taller Children",
         "Elizabeth & the Catapult",
         "pop"
        ],
        [
         "1",
         "26",
         "3",
         "16",
         "21",
         "Complimentary Me",
         "Taller Children",
         "Elizabeth & the Catapult",
         "folk"
        ],
        [
         "2",
         "26",
         "2490753",
         "16",
         "11",
         "Complimentary Me",
         "Taller Children",
         "Elizabeth & the Catapult",
         "pop"
        ],
        [
         "3",
         "26",
         "2490753",
         "16",
         "21",
         "Complimentary Me",
         "Taller Children",
         "Elizabeth & the Catapult",
         "folk"
        ],
        [
         "4",
         "38",
         "3",
         "16",
         "11",
         "Momma's Boy",
         "Taller Children",
         "Elizabeth & the Catapult",
         "pop"
        ]
       ],
       "shape": {
        "columns": 8,
        "rows": 5
       }
      },
      "text/html": [
       "<div>\n",
       "<style scoped>\n",
       "    .dataframe tbody tr th:only-of-type {\n",
       "        vertical-align: middle;\n",
       "    }\n",
       "\n",
       "    .dataframe tbody tr th {\n",
       "        vertical-align: top;\n",
       "    }\n",
       "\n",
       "    .dataframe thead th {\n",
       "        text-align: right;\n",
       "    }\n",
       "</style>\n",
       "<table border=\"1\" class=\"dataframe\">\n",
       "  <thead>\n",
       "    <tr style=\"text-align: right;\">\n",
       "      <th></th>\n",
       "      <th>track_id</th>\n",
       "      <th>album_id</th>\n",
       "      <th>artist_id</th>\n",
       "      <th>genre_id</th>\n",
       "      <th>track</th>\n",
       "      <th>album</th>\n",
       "      <th>artist</th>\n",
       "      <th>genre</th>\n",
       "    </tr>\n",
       "  </thead>\n",
       "  <tbody>\n",
       "    <tr>\n",
       "      <th>0</th>\n",
       "      <td>26</td>\n",
       "      <td>3</td>\n",
       "      <td>16</td>\n",
       "      <td>11</td>\n",
       "      <td>Complimentary Me</td>\n",
       "      <td>Taller Children</td>\n",
       "      <td>Elizabeth &amp; the Catapult</td>\n",
       "      <td>pop</td>\n",
       "    </tr>\n",
       "    <tr>\n",
       "      <th>1</th>\n",
       "      <td>26</td>\n",
       "      <td>3</td>\n",
       "      <td>16</td>\n",
       "      <td>21</td>\n",
       "      <td>Complimentary Me</td>\n",
       "      <td>Taller Children</td>\n",
       "      <td>Elizabeth &amp; the Catapult</td>\n",
       "      <td>folk</td>\n",
       "    </tr>\n",
       "    <tr>\n",
       "      <th>2</th>\n",
       "      <td>26</td>\n",
       "      <td>2490753</td>\n",
       "      <td>16</td>\n",
       "      <td>11</td>\n",
       "      <td>Complimentary Me</td>\n",
       "      <td>Taller Children</td>\n",
       "      <td>Elizabeth &amp; the Catapult</td>\n",
       "      <td>pop</td>\n",
       "    </tr>\n",
       "    <tr>\n",
       "      <th>3</th>\n",
       "      <td>26</td>\n",
       "      <td>2490753</td>\n",
       "      <td>16</td>\n",
       "      <td>21</td>\n",
       "      <td>Complimentary Me</td>\n",
       "      <td>Taller Children</td>\n",
       "      <td>Elizabeth &amp; the Catapult</td>\n",
       "      <td>folk</td>\n",
       "    </tr>\n",
       "    <tr>\n",
       "      <th>4</th>\n",
       "      <td>38</td>\n",
       "      <td>3</td>\n",
       "      <td>16</td>\n",
       "      <td>11</td>\n",
       "      <td>Momma's Boy</td>\n",
       "      <td>Taller Children</td>\n",
       "      <td>Elizabeth &amp; the Catapult</td>\n",
       "      <td>pop</td>\n",
       "    </tr>\n",
       "  </tbody>\n",
       "</table>\n",
       "</div>"
      ],
      "text/plain": [
       "   track_id album_id artist_id genre_id             track            album  \\\n",
       "0        26        3        16       11  Complimentary Me  Taller Children   \n",
       "1        26        3        16       21  Complimentary Me  Taller Children   \n",
       "2        26  2490753        16       11  Complimentary Me  Taller Children   \n",
       "3        26  2490753        16       21  Complimentary Me  Taller Children   \n",
       "4        38        3        16       11       Momma's Boy  Taller Children   \n",
       "\n",
       "                     artist genre  \n",
       "0  Elizabeth & the Catapult   pop  \n",
       "1  Elizabeth & the Catapult  folk  \n",
       "2  Elizabeth & the Catapult   pop  \n",
       "3  Elizabeth & the Catapult  folk  \n",
       "4  Elizabeth & the Catapult   pop  "
      ]
     },
     "execution_count": 25,
     "metadata": {},
     "output_type": "execute_result"
    }
   ],
   "source": [
    "# Теперь можно собрать датасет items (как в спринте завещали:)\n",
    "\n",
    "items = tracks.merge(track, on='track_id', how='left')\n",
    "items = items.merge(album, on='album_id', how='left')\n",
    "items = items.merge(artist, on='artist_id', how='left')\n",
    "items = items.merge(genre, on='genre_id', how='left')\n",
    "items.head()"
   ]
  },
  {
   "cell_type": "code",
   "execution_count": 26,
   "id": "79efec55",
   "metadata": {},
   "outputs": [
    {
     "data": {
      "application/vnd.microsoft.datawrangler.viewer.v0+json": {
       "columns": [
        {
         "name": "track_id",
         "rawType": "bool",
         "type": "boolean"
        },
        {
         "name": "count",
         "rawType": "int64",
         "type": "integer"
        }
       ],
       "ref": "5285bdf0-ee54-4447-a3d2-1cbdc3f4e366",
       "rows": [
        [
         "True",
         "5765311"
        ],
        [
         "False",
         "1000000"
        ]
       ],
       "shape": {
        "columns": 1,
        "rows": 2
       }
      },
      "text/plain": [
       "track_id\n",
       "True     5765311\n",
       "False    1000000\n",
       "Name: count, dtype: int64"
      ]
     },
     "execution_count": 26,
     "metadata": {},
     "output_type": "execute_result"
    }
   ],
   "source": [
    "# Какая прелесть! у меня получилось 4 трека с id = 26, помойму id не так должен работать!\n",
    "\n",
    "items['track_id'].duplicated().value_counts()"
   ]
  },
  {
   "cell_type": "code",
   "execution_count": 27,
   "id": "1f9768cf",
   "metadata": {},
   "outputs": [
    {
     "data": {
      "application/vnd.microsoft.datawrangler.viewer.v0+json": {
       "columns": [
        {
         "name": "index",
         "rawType": "int64",
         "type": "integer"
        },
        {
         "name": "track_id",
         "rawType": "int64",
         "type": "integer"
        },
        {
         "name": "album_id",
         "rawType": "object",
         "type": "unknown"
        },
        {
         "name": "artist_id",
         "rawType": "object",
         "type": "unknown"
        },
        {
         "name": "genre_id",
         "rawType": "object",
         "type": "unknown"
        },
        {
         "name": "track",
         "rawType": "object",
         "type": "string"
        },
        {
         "name": "album",
         "rawType": "object",
         "type": "string"
        },
        {
         "name": "artist",
         "rawType": "object",
         "type": "string"
        },
        {
         "name": "genre",
         "rawType": "object",
         "type": "string"
        }
       ],
       "ref": "b7d88bd1-4d66-4928-93a3-2571f71097ae",
       "rows": [
        [
         "0",
         "26",
         "3",
         "16",
         "11",
         "Complimentary Me",
         "Taller Children",
         "Elizabeth & the Catapult",
         "pop"
        ],
        [
         "4",
         "38",
         "3",
         "16",
         "11",
         "Momma's Boy",
         "Taller Children",
         "Elizabeth & the Catapult",
         "pop"
        ],
        [
         "8",
         "135",
         "12",
         "84",
         "11",
         "Atticus",
         "Wild Young Hearts",
         "Noisettes",
         "pop"
        ],
        [
         "11",
         "136",
         "12",
         "84",
         "11",
         "24 Hours",
         "Wild Young Hearts",
         "Noisettes",
         "pop"
        ],
        [
         "14",
         "138",
         "12",
         "84",
         "11",
         "Don't Upset The Rhythm (Go Baby Go)",
         "Wild Young Hearts",
         "Noisettes",
         "pop"
        ]
       ],
       "shape": {
        "columns": 8,
        "rows": 5
       }
      },
      "text/html": [
       "<div>\n",
       "<style scoped>\n",
       "    .dataframe tbody tr th:only-of-type {\n",
       "        vertical-align: middle;\n",
       "    }\n",
       "\n",
       "    .dataframe tbody tr th {\n",
       "        vertical-align: top;\n",
       "    }\n",
       "\n",
       "    .dataframe thead th {\n",
       "        text-align: right;\n",
       "    }\n",
       "</style>\n",
       "<table border=\"1\" class=\"dataframe\">\n",
       "  <thead>\n",
       "    <tr style=\"text-align: right;\">\n",
       "      <th></th>\n",
       "      <th>track_id</th>\n",
       "      <th>album_id</th>\n",
       "      <th>artist_id</th>\n",
       "      <th>genre_id</th>\n",
       "      <th>track</th>\n",
       "      <th>album</th>\n",
       "      <th>artist</th>\n",
       "      <th>genre</th>\n",
       "    </tr>\n",
       "  </thead>\n",
       "  <tbody>\n",
       "    <tr>\n",
       "      <th>0</th>\n",
       "      <td>26</td>\n",
       "      <td>3</td>\n",
       "      <td>16</td>\n",
       "      <td>11</td>\n",
       "      <td>Complimentary Me</td>\n",
       "      <td>Taller Children</td>\n",
       "      <td>Elizabeth &amp; the Catapult</td>\n",
       "      <td>pop</td>\n",
       "    </tr>\n",
       "    <tr>\n",
       "      <th>4</th>\n",
       "      <td>38</td>\n",
       "      <td>3</td>\n",
       "      <td>16</td>\n",
       "      <td>11</td>\n",
       "      <td>Momma's Boy</td>\n",
       "      <td>Taller Children</td>\n",
       "      <td>Elizabeth &amp; the Catapult</td>\n",
       "      <td>pop</td>\n",
       "    </tr>\n",
       "    <tr>\n",
       "      <th>8</th>\n",
       "      <td>135</td>\n",
       "      <td>12</td>\n",
       "      <td>84</td>\n",
       "      <td>11</td>\n",
       "      <td>Atticus</td>\n",
       "      <td>Wild Young Hearts</td>\n",
       "      <td>Noisettes</td>\n",
       "      <td>pop</td>\n",
       "    </tr>\n",
       "    <tr>\n",
       "      <th>11</th>\n",
       "      <td>136</td>\n",
       "      <td>12</td>\n",
       "      <td>84</td>\n",
       "      <td>11</td>\n",
       "      <td>24 Hours</td>\n",
       "      <td>Wild Young Hearts</td>\n",
       "      <td>Noisettes</td>\n",
       "      <td>pop</td>\n",
       "    </tr>\n",
       "    <tr>\n",
       "      <th>14</th>\n",
       "      <td>138</td>\n",
       "      <td>12</td>\n",
       "      <td>84</td>\n",
       "      <td>11</td>\n",
       "      <td>Don't Upset The Rhythm (Go Baby Go)</td>\n",
       "      <td>Wild Young Hearts</td>\n",
       "      <td>Noisettes</td>\n",
       "      <td>pop</td>\n",
       "    </tr>\n",
       "  </tbody>\n",
       "</table>\n",
       "</div>"
      ],
      "text/plain": [
       "    track_id album_id artist_id genre_id                                track  \\\n",
       "0         26        3        16       11                     Complimentary Me   \n",
       "4         38        3        16       11                          Momma's Boy   \n",
       "8        135       12        84       11                              Atticus   \n",
       "11       136       12        84       11                             24 Hours   \n",
       "14       138       12        84       11  Don't Upset The Rhythm (Go Baby Go)   \n",
       "\n",
       "                album                    artist genre  \n",
       "0     Taller Children  Elizabeth & the Catapult   pop  \n",
       "4     Taller Children  Elizabeth & the Catapult   pop  \n",
       "8   Wild Young Hearts                 Noisettes   pop  \n",
       "11  Wild Young Hearts                 Noisettes   pop  \n",
       "14  Wild Young Hearts                 Noisettes   pop  "
      ]
     },
     "execution_count": 27,
     "metadata": {},
     "output_type": "execute_result"
    }
   ],
   "source": [
    "# Оставлю только по одной записи на track_id\n",
    "\n",
    "items = items.groupby('track_id').head(1)\n",
    "items.head()"
   ]
  },
  {
   "cell_type": "code",
   "execution_count": 28,
   "id": "10908e3f",
   "metadata": {},
   "outputs": [
    {
     "data": {
      "application/vnd.microsoft.datawrangler.viewer.v0+json": {
       "columns": [
        {
         "name": "index",
         "rawType": "int64",
         "type": "integer"
        },
        {
         "name": "track_id",
         "rawType": "int64",
         "type": "integer"
        },
        {
         "name": "track",
         "rawType": "object",
         "type": "string"
        },
        {
         "name": "album",
         "rawType": "object",
         "type": "string"
        },
        {
         "name": "artist",
         "rawType": "object",
         "type": "string"
        },
        {
         "name": "genre",
         "rawType": "object",
         "type": "string"
        }
       ],
       "ref": "9b20e6d1-0da1-4a34-85ba-addf73f153e0",
       "rows": [
        [
         "0",
         "26",
         "Complimentary Me",
         "Taller Children",
         "Elizabeth & the Catapult",
         "pop"
        ],
        [
         "4",
         "38",
         "Momma's Boy",
         "Taller Children",
         "Elizabeth & the Catapult",
         "pop"
        ],
        [
         "8",
         "135",
         "Atticus",
         "Wild Young Hearts",
         "Noisettes",
         "pop"
        ],
        [
         "11",
         "136",
         "24 Hours",
         "Wild Young Hearts",
         "Noisettes",
         "pop"
        ],
        [
         "14",
         "138",
         "Don't Upset The Rhythm (Go Baby Go)",
         "Wild Young Hearts",
         "Noisettes",
         "pop"
        ]
       ],
       "shape": {
        "columns": 5,
        "rows": 5
       }
      },
      "text/html": [
       "<div>\n",
       "<style scoped>\n",
       "    .dataframe tbody tr th:only-of-type {\n",
       "        vertical-align: middle;\n",
       "    }\n",
       "\n",
       "    .dataframe tbody tr th {\n",
       "        vertical-align: top;\n",
       "    }\n",
       "\n",
       "    .dataframe thead th {\n",
       "        text-align: right;\n",
       "    }\n",
       "</style>\n",
       "<table border=\"1\" class=\"dataframe\">\n",
       "  <thead>\n",
       "    <tr style=\"text-align: right;\">\n",
       "      <th></th>\n",
       "      <th>track_id</th>\n",
       "      <th>track</th>\n",
       "      <th>album</th>\n",
       "      <th>artist</th>\n",
       "      <th>genre</th>\n",
       "    </tr>\n",
       "  </thead>\n",
       "  <tbody>\n",
       "    <tr>\n",
       "      <th>0</th>\n",
       "      <td>26</td>\n",
       "      <td>Complimentary Me</td>\n",
       "      <td>Taller Children</td>\n",
       "      <td>Elizabeth &amp; the Catapult</td>\n",
       "      <td>pop</td>\n",
       "    </tr>\n",
       "    <tr>\n",
       "      <th>4</th>\n",
       "      <td>38</td>\n",
       "      <td>Momma's Boy</td>\n",
       "      <td>Taller Children</td>\n",
       "      <td>Elizabeth &amp; the Catapult</td>\n",
       "      <td>pop</td>\n",
       "    </tr>\n",
       "    <tr>\n",
       "      <th>8</th>\n",
       "      <td>135</td>\n",
       "      <td>Atticus</td>\n",
       "      <td>Wild Young Hearts</td>\n",
       "      <td>Noisettes</td>\n",
       "      <td>pop</td>\n",
       "    </tr>\n",
       "    <tr>\n",
       "      <th>11</th>\n",
       "      <td>136</td>\n",
       "      <td>24 Hours</td>\n",
       "      <td>Wild Young Hearts</td>\n",
       "      <td>Noisettes</td>\n",
       "      <td>pop</td>\n",
       "    </tr>\n",
       "    <tr>\n",
       "      <th>14</th>\n",
       "      <td>138</td>\n",
       "      <td>Don't Upset The Rhythm (Go Baby Go)</td>\n",
       "      <td>Wild Young Hearts</td>\n",
       "      <td>Noisettes</td>\n",
       "      <td>pop</td>\n",
       "    </tr>\n",
       "  </tbody>\n",
       "</table>\n",
       "</div>"
      ],
      "text/plain": [
       "    track_id                                track              album  \\\n",
       "0         26                     Complimentary Me    Taller Children   \n",
       "4         38                          Momma's Boy    Taller Children   \n",
       "8        135                              Atticus  Wild Young Hearts   \n",
       "11       136                             24 Hours  Wild Young Hearts   \n",
       "14       138  Don't Upset The Rhythm (Go Baby Go)  Wild Young Hearts   \n",
       "\n",
       "                      artist genre  \n",
       "0   Elizabeth & the Catapult   pop  \n",
       "4   Elizabeth & the Catapult   pop  \n",
       "8                  Noisettes   pop  \n",
       "11                 Noisettes   pop  \n",
       "14                 Noisettes   pop  "
      ]
     },
     "execution_count": 28,
     "metadata": {},
     "output_type": "execute_result"
    }
   ],
   "source": [
    "# Оставлю самое необходимое\n",
    "\n",
    "items = items[['track_id', 'track', 'album', 'artist', 'genre']]\n",
    "items.head()"
   ]
  },
  {
   "cell_type": "code",
   "execution_count": 29,
   "id": "e68cdd68",
   "metadata": {},
   "outputs": [
    {
     "data": {
      "application/vnd.microsoft.datawrangler.viewer.v0+json": {
       "columns": [
        {
         "name": "index",
         "rawType": "object",
         "type": "string"
        },
        {
         "name": "0",
         "rawType": "int64",
         "type": "integer"
        }
       ],
       "ref": "25c15b0a-b492-4636-82dc-839103ae569f",
       "rows": [
        [
         "track_id",
         "0"
        ],
        [
         "track",
         "0"
        ],
        [
         "album",
         "18"
        ],
        [
         "artist",
         "15369"
        ],
        [
         "genre",
         "3694"
        ]
       ],
       "shape": {
        "columns": 1,
        "rows": 5
       }
      },
      "text/plain": [
       "track_id        0\n",
       "track           0\n",
       "album          18\n",
       "artist      15369\n",
       "genre        3694\n",
       "dtype: int64"
      ]
     },
     "execution_count": 29,
     "metadata": {},
     "output_type": "execute_result"
    }
   ],
   "source": [
    "# Как складывается ситуация с пропусками\n",
    "# Треки с неизвестными исполнителями, альбомами, жанрами\n",
    "\n",
    "items.isna().sum()"
   ]
  },
  {
   "cell_type": "code",
   "execution_count": 30,
   "id": "72da4a0c",
   "metadata": {},
   "outputs": [
    {
     "data": {
      "application/vnd.microsoft.datawrangler.viewer.v0+json": {
       "columns": [
        {
         "name": "index",
         "rawType": "int64",
         "type": "integer"
        },
        {
         "name": "track_id",
         "rawType": "int64",
         "type": "integer"
        },
        {
         "name": "track",
         "rawType": "object",
         "type": "string"
        },
        {
         "name": "album",
         "rawType": "object",
         "type": "unknown"
        },
        {
         "name": "artist",
         "rawType": "object",
         "type": "unknown"
        },
        {
         "name": "genre",
         "rawType": "object",
         "type": "unknown"
        }
       ],
       "ref": "21d855dd-2858-409a-892c-9a8f7a9fe85d",
       "rows": [
        [
         "1371915",
         "3599314",
         "Sparkles(Magikal Remake)",
         "In Search of Sunrise 1",
         null,
         "electronics"
        ],
        [
         "1372195",
         "3599591",
         "Cry For Love",
         "Tales from the Albums Magik: the Remix Edition",
         null,
         "electronics"
        ],
        [
         "1577575",
         "4790215",
         "Try To Be Love",
         "A State of Trance 2012",
         null,
         "electronics"
        ],
        [
         "1960647",
         "10063296",
         "Теплое Солнце",
         "Тёплое Солнце",
         null,
         "pop"
        ],
        [
         "2031555",
         "12122918",
         "17 & 4",
         "Kompakt: Total 1",
         null,
         "electronics"
        ],
        [
         "2349666",
         "16610995",
         "Mirrors",
         "Space Odyssey: Mars",
         null,
         "electronics"
        ],
        [
         "2730910",
         "20200372",
         "На скотч",
         null,
         null,
         null
        ],
        [
         "2730923",
         "20200380",
         "Yo Te Quiero (Я тебя люблю)",
         null,
         null,
         null
        ],
        [
         "2732037",
         "20210042",
         "Fear of the dark",
         "The Maiden Story: A Tribute To Iron Maiden",
         null,
         "rock"
        ],
        [
         "2732041",
         "20210069",
         "La Grange",
         "Tribute To ZZ Top",
         null,
         "rock"
        ],
        [
         "2732043",
         "20210109",
         "Sharp Dressed Man",
         "Tribute To ZZ Top",
         null,
         "rock"
        ],
        [
         "2739901",
         "20305116",
         "Мой путь",
         null,
         null,
         null
        ],
        [
         "2739914",
         "20305121",
         "Вечность",
         null,
         null,
         null
        ],
        [
         "2744579",
         "20357639",
         "Киса и кот",
         "100 детских песен на бис!",
         null,
         "forchildren"
        ],
        [
         "2837815",
         "20756854",
         "Виновата",
         null,
         null,
         null
        ],
        [
         "2879025",
         "21196099",
         "Are You with Me",
         null,
         null,
         null
        ],
        [
         "2879037",
         "21196103",
         "Historia de Amor",
         null,
         null,
         null
        ],
        [
         "2879042",
         "21196105",
         "Stronger Than Ever",
         null,
         null,
         null
        ],
        [
         "2879051",
         "21196107",
         "Here We Go",
         null,
         null,
         null
        ],
        [
         "2879058",
         "21196109",
         "Long Story Short",
         null,
         null,
         null
        ],
        [
         "2879060",
         "21196111",
         "Otherside",
         null,
         null,
         null
        ],
        [
         "2879072",
         "21196116",
         "Just Friends",
         null,
         null,
         null
        ],
        [
         "2879073",
         "21196117",
         "Lost",
         null,
         null,
         null
        ],
        [
         "2879074",
         "21196118",
         "Promesses",
         null,
         null,
         null
        ],
        [
         "4423407",
         "27055330",
         "Американская народная музыка",
         "Кантри музыка",
         null,
         "country"
        ],
        [
         "4423408",
         "27055333",
         "Дикий Запад",
         "Кантри музыка",
         null,
         "country"
        ],
        [
         "4486171",
         "28530632",
         "Рухты ару",
         null,
         null,
         null
        ],
        [
         "4797327",
         "33718622",
         "Neurofunk",
         "Dnb Summer Vol. 2",
         null,
         "electronics"
        ],
        [
         "4797352",
         "33721289",
         "Ocean",
         "Chillout June 2016 - Top 10 June Relaxing Chill out & Lounge Music",
         null,
         "electronics"
        ],
        [
         "4797363",
         "33721303",
         "Games Rain",
         "Музыка для сна и прослушивания перед сном",
         null,
         "electronics"
        ],
        [
         "4797375",
         "33721304",
         "Dream of the Sea",
         "Музыка для сна и прослушивания перед сном",
         null,
         "electronics"
        ],
        [
         "4797384",
         "33721305",
         "After Sun",
         "Музыка для сна и прослушивания перед сном",
         null,
         "electronics"
        ],
        [
         "4797393",
         "33721309",
         "Erotic Wav",
         "Музыка для секса",
         null,
         "electronics"
        ],
        [
         "4797402",
         "33721310",
         "Northern Wind",
         "Музыка для секса",
         null,
         "electronics"
        ],
        [
         "4797409",
         "33721311",
         "Mallorca",
         "Музыка для секса",
         null,
         "electronics"
        ],
        [
         "4798030",
         "33741212",
         "Carmina Burana: I. O Fortuna",
         "66 Classical Masterpieces from the Movies",
         null,
         "classical"
        ],
        [
         "4840821",
         "34174106",
         "Динозавр",
         "Самое Большое Простое Число",
         null,
         "local-indie"
        ],
        [
         "4879792",
         "34828749",
         "Алтыным",
         null,
         null,
         null
        ],
        [
         "4996810",
         "36598340",
         "Ғашықтар Сыры",
         null,
         null,
         null
        ],
        [
         "5520706",
         "46494965",
         "46 пар за полтора года: зачем коллекционировать кроссовки?",
         "Два по цене одного",
         null,
         "podcasts"
        ],
        [
         "5520709",
         "46494967",
         "Шесть кувшинов или четыре конверта: как научиться экономить, если ты этого совсем не умеешь",
         "Два по цене одного",
         null,
         "podcasts"
        ],
        [
         "5520712",
         "46494968",
         "15 тысяч в месяц на каршеринг: как ездить на чужих машинах (и не ездить на своей)",
         "Два по цене одного",
         null,
         "podcasts"
        ],
        [
         "5520715",
         "46494969",
         "Делать ремонт в квартире 500 дней: выпуск про то, как не надо",
         "Два по цене одного",
         null,
         "podcasts"
        ],
        [
         "5520718",
         "46494971",
         "Посетить 122 страны и не обанкротиться: выясняем, как правильно путешествовать",
         "Два по цене одного",
         null,
         "podcasts"
        ],
        [
         "5520721",
         "46494972",
         "Семь кучек с деньгами. Как правильно копить?",
         "Два по цене одного",
         null,
         "podcasts"
        ],
        [
         "5520724",
         "46494974",
         "Скоро новый сезон «Два по цене одного»! И для него нам нужны ваши истории",
         "Два по цене одного",
         null,
         "podcasts"
        ],
        [
         "5520727",
         "46494975",
         "Кажется, дело не в деньгах. Подводим итоги сезона",
         "Два по цене одного",
         null,
         "podcasts"
        ],
        [
         "5520730",
         "46494977",
         "Когда исчезнут наличные деньги? И как к этому относиться",
         "Два по цене одного",
         null,
         "podcasts"
        ],
        [
         "5520733",
         "46494978",
         "Как платить алименты? Ведущие подкаста готовятся к разводу",
         "Два по цене одного",
         null,
         "podcasts"
        ],
        [
         "5520736",
         "46494979",
         "Как мы все даём взятки? Выпуск с историями читателей «Медузы»",
         "Два по цене одного",
         null,
         "podcasts"
        ]
       ],
       "shape": {
        "columns": 5,
        "rows": 15369
       }
      },
      "text/html": [
       "<div>\n",
       "<style scoped>\n",
       "    .dataframe tbody tr th:only-of-type {\n",
       "        vertical-align: middle;\n",
       "    }\n",
       "\n",
       "    .dataframe tbody tr th {\n",
       "        vertical-align: top;\n",
       "    }\n",
       "\n",
       "    .dataframe thead th {\n",
       "        text-align: right;\n",
       "    }\n",
       "</style>\n",
       "<table border=\"1\" class=\"dataframe\">\n",
       "  <thead>\n",
       "    <tr style=\"text-align: right;\">\n",
       "      <th></th>\n",
       "      <th>track_id</th>\n",
       "      <th>track</th>\n",
       "      <th>album</th>\n",
       "      <th>artist</th>\n",
       "      <th>genre</th>\n",
       "    </tr>\n",
       "  </thead>\n",
       "  <tbody>\n",
       "    <tr>\n",
       "      <th>1371915</th>\n",
       "      <td>3599314</td>\n",
       "      <td>Sparkles(Magikal Remake)</td>\n",
       "      <td>In Search of Sunrise 1</td>\n",
       "      <td>NaN</td>\n",
       "      <td>electronics</td>\n",
       "    </tr>\n",
       "    <tr>\n",
       "      <th>1372195</th>\n",
       "      <td>3599591</td>\n",
       "      <td>Cry For Love</td>\n",
       "      <td>Tales from the Albums Magik: the Remix Edition</td>\n",
       "      <td>NaN</td>\n",
       "      <td>electronics</td>\n",
       "    </tr>\n",
       "    <tr>\n",
       "      <th>1577575</th>\n",
       "      <td>4790215</td>\n",
       "      <td>Try To Be Love</td>\n",
       "      <td>A State of Trance 2012</td>\n",
       "      <td>NaN</td>\n",
       "      <td>electronics</td>\n",
       "    </tr>\n",
       "    <tr>\n",
       "      <th>1960647</th>\n",
       "      <td>10063296</td>\n",
       "      <td>Теплое Солнце</td>\n",
       "      <td>Тёплое Солнце</td>\n",
       "      <td>NaN</td>\n",
       "      <td>pop</td>\n",
       "    </tr>\n",
       "    <tr>\n",
       "      <th>2031555</th>\n",
       "      <td>12122918</td>\n",
       "      <td>17 &amp; 4</td>\n",
       "      <td>Kompakt: Total 1</td>\n",
       "      <td>NaN</td>\n",
       "      <td>electronics</td>\n",
       "    </tr>\n",
       "    <tr>\n",
       "      <th>...</th>\n",
       "      <td>...</td>\n",
       "      <td>...</td>\n",
       "      <td>...</td>\n",
       "      <td>...</td>\n",
       "      <td>...</td>\n",
       "    </tr>\n",
       "    <tr>\n",
       "      <th>6765009</th>\n",
       "      <td>101201589</td>\n",
       "      <td>Троя | История на ночь #40</td>\n",
       "      <td>LABELSMART</td>\n",
       "      <td>NaN</td>\n",
       "      <td>podcasts</td>\n",
       "    </tr>\n",
       "    <tr>\n",
       "      <th>6765027</th>\n",
       "      <td>101219571</td>\n",
       "      <td>Главное — не победа!</td>\n",
       "      <td>Закат империи</td>\n",
       "      <td>NaN</td>\n",
       "      <td>podcasts</td>\n",
       "    </tr>\n",
       "    <tr>\n",
       "      <th>6765082</th>\n",
       "      <td>101243616</td>\n",
       "      <td>Кинокраши. В каких актеров и актрис мы были вл...</td>\n",
       "      <td>Крупным планом</td>\n",
       "      <td>NaN</td>\n",
       "      <td>podcasts</td>\n",
       "    </tr>\n",
       "    <tr>\n",
       "      <th>6765131</th>\n",
       "      <td>101292599</td>\n",
       "      <td>«Все у женщины в психике настроено для любви, ...</td>\n",
       "      <td>Никакого правильно</td>\n",
       "      <td>NaN</td>\n",
       "      <td>podcasts</td>\n",
       "    </tr>\n",
       "    <tr>\n",
       "      <th>6765188</th>\n",
       "      <td>101362545</td>\n",
       "      <td>45. Т-киллеры против рака</td>\n",
       "      <td>Голый землекоп</td>\n",
       "      <td>NaN</td>\n",
       "      <td>podcasts</td>\n",
       "    </tr>\n",
       "  </tbody>\n",
       "</table>\n",
       "<p>15369 rows × 5 columns</p>\n",
       "</div>"
      ],
      "text/plain": [
       "          track_id                                              track  \\\n",
       "1371915    3599314                           Sparkles(Magikal Remake)   \n",
       "1372195    3599591                                       Cry For Love   \n",
       "1577575    4790215                                     Try To Be Love   \n",
       "1960647   10063296                                      Теплое Солнце   \n",
       "2031555   12122918                                             17 & 4   \n",
       "...            ...                                                ...   \n",
       "6765009  101201589                         Троя | История на ночь #40   \n",
       "6765027  101219571                               Главное — не победа!   \n",
       "6765082  101243616  Кинокраши. В каких актеров и актрис мы были вл...   \n",
       "6765131  101292599  «Все у женщины в психике настроено для любви, ...   \n",
       "6765188  101362545                          45. Т-киллеры против рака   \n",
       "\n",
       "                                                  album artist        genre  \n",
       "1371915                          In Search of Sunrise 1    NaN  electronics  \n",
       "1372195  Tales from the Albums Magik: the Remix Edition    NaN  electronics  \n",
       "1577575                          A State of Trance 2012    NaN  electronics  \n",
       "1960647                                   Тёплое Солнце    NaN          pop  \n",
       "2031555                                Kompakt: Total 1    NaN  electronics  \n",
       "...                                                 ...    ...          ...  \n",
       "6765009                                      LABELSMART    NaN     podcasts  \n",
       "6765027                                   Закат империи    NaN     podcasts  \n",
       "6765082                                  Крупным планом    NaN     podcasts  \n",
       "6765131                              Никакого правильно    NaN     podcasts  \n",
       "6765188                                  Голый землекоп    NaN     podcasts  \n",
       "\n",
       "[15369 rows x 5 columns]"
      ]
     },
     "execution_count": 30,
     "metadata": {},
     "output_type": "execute_result"
    }
   ],
   "source": [
    "# А трек без artist - это как?\n",
    "\n",
    "items[(items.artist.isna() == True)]"
   ]
  },
  {
   "cell_type": "code",
   "execution_count": 31,
   "id": "bc42bccb",
   "metadata": {},
   "outputs": [
    {
     "data": {
      "application/vnd.microsoft.datawrangler.viewer.v0+json": {
       "columns": [
        {
         "name": "index",
         "rawType": "int64",
         "type": "integer"
        },
        {
         "name": "user_id",
         "rawType": "int32",
         "type": "integer"
        },
        {
         "name": "track_id",
         "rawType": "int32",
         "type": "integer"
        },
        {
         "name": "started_at",
         "rawType": "datetime64[ns]",
         "type": "datetime"
        }
       ],
       "ref": "062da4a5-29bc-43bf-a9f6-3692a6cb3bc6",
       "rows": [
        [
         "0",
         "0",
         "99262",
         "2022-07-17 00:00:00"
        ],
        [
         "1",
         "0",
         "589498",
         "2022-07-19 00:00:00"
        ],
        [
         "2",
         "0",
         "590262",
         "2022-07-21 00:00:00"
        ],
        [
         "3",
         "0",
         "590303",
         "2022-07-22 00:00:00"
        ],
        [
         "4",
         "0",
         "590692",
         "2022-07-22 00:00:00"
        ]
       ],
       "shape": {
        "columns": 3,
        "rows": 5
       }
      },
      "text/html": [
       "<div>\n",
       "<style scoped>\n",
       "    .dataframe tbody tr th:only-of-type {\n",
       "        vertical-align: middle;\n",
       "    }\n",
       "\n",
       "    .dataframe tbody tr th {\n",
       "        vertical-align: top;\n",
       "    }\n",
       "\n",
       "    .dataframe thead th {\n",
       "        text-align: right;\n",
       "    }\n",
       "</style>\n",
       "<table border=\"1\" class=\"dataframe\">\n",
       "  <thead>\n",
       "    <tr style=\"text-align: right;\">\n",
       "      <th></th>\n",
       "      <th>user_id</th>\n",
       "      <th>track_id</th>\n",
       "      <th>started_at</th>\n",
       "    </tr>\n",
       "  </thead>\n",
       "  <tbody>\n",
       "    <tr>\n",
       "      <th>0</th>\n",
       "      <td>0</td>\n",
       "      <td>99262</td>\n",
       "      <td>2022-07-17</td>\n",
       "    </tr>\n",
       "    <tr>\n",
       "      <th>1</th>\n",
       "      <td>0</td>\n",
       "      <td>589498</td>\n",
       "      <td>2022-07-19</td>\n",
       "    </tr>\n",
       "    <tr>\n",
       "      <th>2</th>\n",
       "      <td>0</td>\n",
       "      <td>590262</td>\n",
       "      <td>2022-07-21</td>\n",
       "    </tr>\n",
       "    <tr>\n",
       "      <th>3</th>\n",
       "      <td>0</td>\n",
       "      <td>590303</td>\n",
       "      <td>2022-07-22</td>\n",
       "    </tr>\n",
       "    <tr>\n",
       "      <th>4</th>\n",
       "      <td>0</td>\n",
       "      <td>590692</td>\n",
       "      <td>2022-07-22</td>\n",
       "    </tr>\n",
       "  </tbody>\n",
       "</table>\n",
       "</div>"
      ],
      "text/plain": [
       "   user_id  track_id started_at\n",
       "0        0     99262 2022-07-17\n",
       "1        0    589498 2022-07-19\n",
       "2        0    590262 2022-07-21\n",
       "3        0    590303 2022-07-22\n",
       "4        0    590692 2022-07-22"
      ]
     },
     "execution_count": 31,
     "metadata": {},
     "output_type": "execute_result"
    }
   ],
   "source": [
    "# interactions - это наш events, с бесполезным для нашей задачи track_seq. Удалить!\n",
    "\n",
    "events = interactions.drop(columns= 'track_seq')\n",
    "events.head()"
   ]
  },
  {
   "cell_type": "markdown",
   "id": "318b573a-9e2d-4808-95db-60cfb8bbdb73",
   "metadata": {
    "editable": true,
    "slideshow": {
     "slide_type": ""
    },
    "tags": []
   },
   "source": [
    "# Выводы"
   ]
  },
  {
   "cell_type": "markdown",
   "id": "caa96e12-36a8-4401-8f11-98627a49ae9d",
   "metadata": {},
   "source": [
    "Приведём выводы по первому знакомству с данными:\n",
    "- есть ли с данными явные проблемы,\n",
    "- какие корректирующие действия (в целом) были предприняты."
   ]
  },
  {
   "cell_type": "markdown",
   "id": "24e774f7",
   "metadata": {},
   "source": [
    "В результате \"знакомства\" с таблицами было решено развернуть данные из полей датафрейма tracks в более читаемый вид, так работать с ними будет удобнее.  \n",
    "Была упарзднена таблица catalog_names, данные из нее были обьеденены с таблицей tracks в итоговом датасете items.\n",
    "\n",
    "Таблица interactions на данном этапе почти не пострадала, из нее удалено бесполезное для данной задачи поле track_seq.\n",
    "В дальнейшем interactions надо как-то уменьшить (там вот столько: 222_629_898 записей) иначе спринт до нового года я не здам!\n",
    "\n",
    "В итоге у нас получилось два датафрейма в переменных: \n",
    "    items - результат обработки tracks и catalog_names\n",
    "    events - результат обработки interactions\n"
   ]
  },
  {
   "cell_type": "markdown",
   "id": "7bc3296b-eba6-4333-a78d-b9304aa87e3d",
   "metadata": {},
   "source": [
    "# === ЭТАП 2 ==="
   ]
  },
  {
   "cell_type": "markdown",
   "id": "68e73960-fd38-4e15-8db0-9a25c35dfd25",
   "metadata": {},
   "source": [
    "# EDA"
   ]
  },
  {
   "cell_type": "markdown",
   "id": "b943b887",
   "metadata": {},
   "source": [
    "Подготовка данных для EDA"
   ]
  },
  {
   "cell_type": "code",
   "execution_count": 32,
   "id": "9bf5eaba-35f7-4da7-be59-9ab4a34b2423",
   "metadata": {},
   "outputs": [
    {
     "name": "stdout",
     "output_type": "stream",
     "text": [
      "Количество уникальных пользователей: 1373221\n",
      "Количество уникальных треков: 1000000\n"
     ]
    }
   ],
   "source": [
    "# Для решения задач EDA необходимо уменьшить количество записей в events\n",
    "# Просто оторвать 20% записей от events мне кажется не корректным, попробую выбрать всех уникальных пользователей из events и взять 20% пользователей, \n",
    "# затем оставить в events только то, что касается истории этих пользователей.\n",
    "\n",
    "print(f\"Количество уникальных пользователей: {events.user_id.unique().size}\")\n",
    "print(f\"Количество уникальных треков: {events.track_id.unique().size}\")"
   ]
  },
  {
   "cell_type": "code",
   "execution_count": 33,
   "id": "1af77a5c",
   "metadata": {},
   "outputs": [
    {
     "name": "stdout",
     "output_type": "stream",
     "text": [
      "Количество уникальных пользователей после деления: 274644\n",
      "Количество уникальных треков после деления: 920133\n",
      "<class 'pandas.core.frame.DataFrame'>\n",
      "Index: 44474032 entries, 0 to 276\n",
      "Data columns (total 3 columns):\n",
      " #   Column      Dtype         \n",
      "---  ------      -----         \n",
      " 0   user_id     int32         \n",
      " 1   track_id    int32         \n",
      " 2   started_at  datetime64[ns]\n",
      "dtypes: datetime64[ns](1), int32(2)\n",
      "memory usage: 1017.9 MB\n"
     ]
    }
   ],
   "source": [
    "\n",
    "events_prop = 0.2\n",
    "events_user_to_split = events.user_id.unique()\n",
    "user_count = int(events_prop * len(events_user_to_split)) # приведем к целому числу\n",
    "events_user_splited = random.sample(list(events_user_to_split), user_count)\n",
    "\n",
    "events = events[events.user_id.isin(events_user_splited)]\n",
    "\n",
    "# events_spl = events.sample(frac=0.20, random_state=RANDOM_STATE)\n",
    "print(f\"Количество уникальных пользователей после деления: {events.user_id.unique().size}\")\n",
    "print(f\"Количество уникальных треков после деления: {events.track_id.unique().size}\")\n",
    "events.info()"
   ]
  },
  {
   "cell_type": "markdown",
   "id": "be30d84d",
   "metadata": {},
   "source": [
    "Распределение количества прослушанных треков."
   ]
  },
  {
   "cell_type": "code",
   "execution_count": 34,
   "id": "a1baa4bd",
   "metadata": {},
   "outputs": [
    {
     "data": {
      "application/vnd.microsoft.datawrangler.viewer.v0+json": {
       "columns": [
        {
         "name": "index",
         "rawType": "int64",
         "type": "integer"
        },
        {
         "name": "user_id",
         "rawType": "int32",
         "type": "integer"
        },
        {
         "name": "track_id",
         "rawType": "int32",
         "type": "integer"
        },
        {
         "name": "started_at",
         "rawType": "datetime64[ns]",
         "type": "datetime"
        },
        {
         "name": "track",
         "rawType": "object",
         "type": "string"
        },
        {
         "name": "genre",
         "rawType": "object",
         "type": "string"
        }
       ],
       "ref": "cd652c07-5b93-4c1d-86ec-9803a569e97e",
       "rows": [
        [
         "0",
         "1",
         "24417",
         "2022-06-11 00:00:00",
         "Du Riechst So Gut",
         "metal"
        ],
        [
         "1",
         "1",
         "108208",
         "2022-06-13 00:00:00",
         "Я не знаю",
         "punk"
        ],
        [
         "2",
         "1",
         "108209",
         "2022-06-13 00:00:00",
         "Измена",
         "punk"
        ],
        [
         "3",
         "1",
         "592642",
         "2022-06-15 00:00:00",
         "Улица роз",
         "classicmetal"
        ],
        [
         "4",
         "1",
         "628687",
         "2022-06-15 00:00:00",
         "Holding Out for a Hero",
         "pop"
        ]
       ],
       "shape": {
        "columns": 5,
        "rows": 5
       }
      },
      "text/html": [
       "<div>\n",
       "<style scoped>\n",
       "    .dataframe tbody tr th:only-of-type {\n",
       "        vertical-align: middle;\n",
       "    }\n",
       "\n",
       "    .dataframe tbody tr th {\n",
       "        vertical-align: top;\n",
       "    }\n",
       "\n",
       "    .dataframe thead th {\n",
       "        text-align: right;\n",
       "    }\n",
       "</style>\n",
       "<table border=\"1\" class=\"dataframe\">\n",
       "  <thead>\n",
       "    <tr style=\"text-align: right;\">\n",
       "      <th></th>\n",
       "      <th>user_id</th>\n",
       "      <th>track_id</th>\n",
       "      <th>started_at</th>\n",
       "      <th>track</th>\n",
       "      <th>genre</th>\n",
       "    </tr>\n",
       "  </thead>\n",
       "  <tbody>\n",
       "    <tr>\n",
       "      <th>0</th>\n",
       "      <td>1</td>\n",
       "      <td>24417</td>\n",
       "      <td>2022-06-11</td>\n",
       "      <td>Du Riechst So Gut</td>\n",
       "      <td>metal</td>\n",
       "    </tr>\n",
       "    <tr>\n",
       "      <th>1</th>\n",
       "      <td>1</td>\n",
       "      <td>108208</td>\n",
       "      <td>2022-06-13</td>\n",
       "      <td>Я не знаю</td>\n",
       "      <td>punk</td>\n",
       "    </tr>\n",
       "    <tr>\n",
       "      <th>2</th>\n",
       "      <td>1</td>\n",
       "      <td>108209</td>\n",
       "      <td>2022-06-13</td>\n",
       "      <td>Измена</td>\n",
       "      <td>punk</td>\n",
       "    </tr>\n",
       "    <tr>\n",
       "      <th>3</th>\n",
       "      <td>1</td>\n",
       "      <td>592642</td>\n",
       "      <td>2022-06-15</td>\n",
       "      <td>Улица роз</td>\n",
       "      <td>classicmetal</td>\n",
       "    </tr>\n",
       "    <tr>\n",
       "      <th>4</th>\n",
       "      <td>1</td>\n",
       "      <td>628687</td>\n",
       "      <td>2022-06-15</td>\n",
       "      <td>Holding Out for a Hero</td>\n",
       "      <td>pop</td>\n",
       "    </tr>\n",
       "  </tbody>\n",
       "</table>\n",
       "</div>"
      ],
      "text/plain": [
       "   user_id  track_id started_at                   track         genre\n",
       "0        1     24417 2022-06-11       Du Riechst So Gut         metal\n",
       "1        1    108208 2022-06-13               Я не знаю          punk\n",
       "2        1    108209 2022-06-13                  Измена          punk\n",
       "3        1    592642 2022-06-15               Улица роз  classicmetal\n",
       "4        1    628687 2022-06-15  Holding Out for a Hero           pop"
      ]
     },
     "execution_count": 34,
     "metadata": {},
     "output_type": "execute_result"
    }
   ],
   "source": [
    "# Обьеденим информацию о событиях с названием и жанром треков \n",
    "events = events.merge(items[['track_id', 'track', 'genre']], on='track_id', how='left')\n",
    "events.head()"
   ]
  },
  {
   "cell_type": "code",
   "execution_count": 35,
   "id": "672c446e",
   "metadata": {},
   "outputs": [
    {
     "data": {
      "text/plain": [
       "Text(0.5, 1.0, 'Количество прослушиваний по каждому жанру')"
      ]
     },
     "execution_count": 35,
     "metadata": {},
     "output_type": "execute_result"
    },
    {
     "data": {
      "image/png": "[encoded data removed]",
      "text/plain": [
       "<Figure size 1200x600 with 1 Axes>"
      ]
     },
     "metadata": {},
     "output_type": "display_data"
    }
   ],
   "source": [
    "# Количество прослушиваний по каждому жанру\n",
    "\n",
    "events.groupby('genre')['track'].count().sort_values(ascending=False).plot(kind='bar', figsize=(12, 6))\n",
    "plt.xlabel(\"Жанр\")\n",
    "plt.ylabel(\"Прослушиваний\")\n",
    "plt.title(\"Количество прослушиваний по каждому жанру\")"
   ]
  },
  {
   "cell_type": "markdown",
   "id": "1079e7f1",
   "metadata": {},
   "source": [
    "Pop на то и pop!"
   ]
  },
  {
   "cell_type": "code",
   "execution_count": 36,
   "id": "e6b897c6",
   "metadata": {},
   "outputs": [
    {
     "data": {
      "text/plain": [
       "Text(0.5, 1.0, 'Количество прослушиваний по месяцам')"
      ]
     },
     "execution_count": 36,
     "metadata": {},
     "output_type": "execute_result"
    },
    {
     "data": {
      "image/png": "[encoded data removed]",
      "text/plain": [
       "<Figure size 1200x600 with 1 Axes>"
      ]
     },
     "metadata": {},
     "output_type": "display_data"
    }
   ],
   "source": [
    "# Количество прослушиваний по месецам жанру\n",
    "\n",
    "# создаем поле с месяцами, месяц берем из started_at\n",
    "events['month'] = events['started_at'].dt.month\n",
    "\n",
    "events.groupby('month')['track'].count().plot(kind='bar', figsize=(12, 6))\n",
    "\n",
    "plt.xlabel(\"Месяц\")\n",
    "plt.ylabel(\"Прослушиваний\")\n",
    "plt.title(\"Количество прослушиваний по месяцам\")\n"
   ]
  },
  {
   "cell_type": "markdown",
   "id": "b858d8d9",
   "metadata": {},
   "source": [
    "В январе вообше не до музыки, понимаю. Летом такое себе, а вот ноябре!"
   ]
  },
  {
   "cell_type": "markdown",
   "id": "d765519a-18dd-4d30-9e29-cc2d84cacd79",
   "metadata": {},
   "source": [
    "Наиболее популярные треки"
   ]
  },
  {
   "cell_type": "code",
   "execution_count": 37,
   "id": "aecaf630-fde0-4860-b84a-42c933a9606e",
   "metadata": {},
   "outputs": [
    {
     "data": {
      "application/vnd.microsoft.datawrangler.viewer.v0+json": {
       "columns": [
        {
         "name": "index",
         "rawType": "int64",
         "type": "integer"
        },
        {
         "name": "track_id",
         "rawType": "int32",
         "type": "integer"
        },
        {
         "name": "count",
         "rawType": "int64",
         "type": "integer"
        },
        {
         "name": "track",
         "rawType": "object",
         "type": "string"
        },
        {
         "name": "artist",
         "rawType": "object",
         "type": "string"
        },
        {
         "name": "genre",
         "rawType": "object",
         "type": "string"
        }
       ],
       "ref": "6871def0-9cbe-4343-bb4f-0422afbbdd30",
       "rows": [
        [
         "0",
         "53404",
         "22082",
         "Smells Like Teen Spirit",
         "Nirvana",
         "alternative"
        ],
        [
         "1",
         "33311009",
         "21294",
         "Believer",
         "Imagine Dragons",
         "rock"
        ],
        [
         "2",
         "178529",
         "20225",
         "Numb",
         "Linkin Park",
         "numetal"
        ],
        [
         "3",
         "35505245",
         "19934",
         "I Got Love",
         "Miyagi & Эндшпиль",
         "rusrap"
        ],
        [
         "4",
         "24692821",
         "17379",
         "Way Down We Go",
         "KALEO",
         "indie"
        ],
        [
         "5",
         "32947997",
         "17261",
         "Shape of You",
         "Ed Sheeran",
         "pop"
        ],
        [
         "6",
         "65851540",
         "17249",
         "Юность",
         "Dabro",
         "pop"
        ],
        [
         "7",
         "51241318",
         "17026",
         "In The End",
         "Tommee Profitt",
         "rnb"
        ],
        [
         "8",
         "60292250",
         "17024",
         "Blinding Lights",
         "The Weeknd",
         "rnb"
        ],
        [
         "9",
         "45499814",
         "17016",
         "Life",
         "Zivert",
         "pop"
        ]
       ],
       "shape": {
        "columns": 5,
        "rows": 10
       }
      },
      "text/html": [
       "<div>\n",
       "<style scoped>\n",
       "    .dataframe tbody tr th:only-of-type {\n",
       "        vertical-align: middle;\n",
       "    }\n",
       "\n",
       "    .dataframe tbody tr th {\n",
       "        vertical-align: top;\n",
       "    }\n",
       "\n",
       "    .dataframe thead th {\n",
       "        text-align: right;\n",
       "    }\n",
       "</style>\n",
       "<table border=\"1\" class=\"dataframe\">\n",
       "  <thead>\n",
       "    <tr style=\"text-align: right;\">\n",
       "      <th></th>\n",
       "      <th>track_id</th>\n",
       "      <th>count</th>\n",
       "      <th>track</th>\n",
       "      <th>artist</th>\n",
       "      <th>genre</th>\n",
       "    </tr>\n",
       "  </thead>\n",
       "  <tbody>\n",
       "    <tr>\n",
       "      <th>0</th>\n",
       "      <td>53404</td>\n",
       "      <td>22082</td>\n",
       "      <td>Smells Like Teen Spirit</td>\n",
       "      <td>Nirvana</td>\n",
       "      <td>alternative</td>\n",
       "    </tr>\n",
       "    <tr>\n",
       "      <th>1</th>\n",
       "      <td>33311009</td>\n",
       "      <td>21294</td>\n",
       "      <td>Believer</td>\n",
       "      <td>Imagine Dragons</td>\n",
       "      <td>rock</td>\n",
       "    </tr>\n",
       "    <tr>\n",
       "      <th>2</th>\n",
       "      <td>178529</td>\n",
       "      <td>20225</td>\n",
       "      <td>Numb</td>\n",
       "      <td>Linkin Park</td>\n",
       "      <td>numetal</td>\n",
       "    </tr>\n",
       "    <tr>\n",
       "      <th>3</th>\n",
       "      <td>35505245</td>\n",
       "      <td>19934</td>\n",
       "      <td>I Got Love</td>\n",
       "      <td>Miyagi &amp; Эндшпиль</td>\n",
       "      <td>rusrap</td>\n",
       "    </tr>\n",
       "    <tr>\n",
       "      <th>4</th>\n",
       "      <td>24692821</td>\n",
       "      <td>17379</td>\n",
       "      <td>Way Down We Go</td>\n",
       "      <td>KALEO</td>\n",
       "      <td>indie</td>\n",
       "    </tr>\n",
       "    <tr>\n",
       "      <th>5</th>\n",
       "      <td>32947997</td>\n",
       "      <td>17261</td>\n",
       "      <td>Shape of You</td>\n",
       "      <td>Ed Sheeran</td>\n",
       "      <td>pop</td>\n",
       "    </tr>\n",
       "    <tr>\n",
       "      <th>6</th>\n",
       "      <td>65851540</td>\n",
       "      <td>17249</td>\n",
       "      <td>Юность</td>\n",
       "      <td>Dabro</td>\n",
       "      <td>pop</td>\n",
       "    </tr>\n",
       "    <tr>\n",
       "      <th>7</th>\n",
       "      <td>51241318</td>\n",
       "      <td>17026</td>\n",
       "      <td>In The End</td>\n",
       "      <td>Tommee Profitt</td>\n",
       "      <td>rnb</td>\n",
       "    </tr>\n",
       "    <tr>\n",
       "      <th>8</th>\n",
       "      <td>60292250</td>\n",
       "      <td>17024</td>\n",
       "      <td>Blinding Lights</td>\n",
       "      <td>The Weeknd</td>\n",
       "      <td>rnb</td>\n",
       "    </tr>\n",
       "    <tr>\n",
       "      <th>9</th>\n",
       "      <td>45499814</td>\n",
       "      <td>17016</td>\n",
       "      <td>Life</td>\n",
       "      <td>Zivert</td>\n",
       "      <td>pop</td>\n",
       "    </tr>\n",
       "  </tbody>\n",
       "</table>\n",
       "</div>"
      ],
      "text/plain": [
       "   track_id  count                    track             artist        genre\n",
       "0     53404  22082  Smells Like Teen Spirit            Nirvana  alternative\n",
       "1  33311009  21294                 Believer    Imagine Dragons         rock\n",
       "2    178529  20225                     Numb        Linkin Park      numetal\n",
       "3  35505245  19934               I Got Love  Miyagi & Эндшпиль       rusrap\n",
       "4  24692821  17379           Way Down We Go              KALEO        indie\n",
       "5  32947997  17261             Shape of You         Ed Sheeran          pop\n",
       "6  65851540  17249                   Юность              Dabro          pop\n",
       "7  51241318  17026               In The End     Tommee Profitt          rnb\n",
       "8  60292250  17024          Blinding Lights         The Weeknd          rnb\n",
       "9  45499814  17016                     Life             Zivert          pop"
      ]
     },
     "execution_count": 37,
     "metadata": {},
     "output_type": "execute_result"
    }
   ],
   "source": [
    "# Топ-10 треков встречаемых в истории прослушивания\n",
    "\n",
    "events.track_id.value_counts().head(10).reset_index().merge(items[['track_id', 'track', 'artist', 'genre']], on='track_id', how='left')"
   ]
  },
  {
   "cell_type": "markdown",
   "id": "b9ef61f9",
   "metadata": {},
   "source": [
    "Вот как так, самый прослушиваемый трек Smell Like ... а самый прослушиваемый жанр pop!?"
   ]
  },
  {
   "cell_type": "markdown",
   "id": "b1c32a5a-d3be-4f96-8dd9-f7860951020c",
   "metadata": {},
   "source": [
    "Наиболее популярные жанры"
   ]
  },
  {
   "cell_type": "code",
   "execution_count": 38,
   "id": "1bc50491-9235-4d3c-a6c2-297f7c05a959",
   "metadata": {},
   "outputs": [
    {
     "data": {
      "application/vnd.microsoft.datawrangler.viewer.v0+json": {
       "columns": [
        {
         "name": "genre",
         "rawType": "object",
         "type": "string"
        },
        {
         "name": "count",
         "rawType": "int64",
         "type": "integer"
        }
       ],
       "ref": "18764b99-ac9e-42a5-a9d8-1d1aa021bde7",
       "rows": [
        [
         "pop",
         "11095957"
        ],
        [
         "rusrap",
         "5069490"
        ],
        [
         "electronics",
         "3715404"
        ],
        [
         "dance",
         "3064344"
        ],
        [
         "rusrock",
         "2636764"
        ],
        [
         "foreignrap",
         "2367730"
        ],
        [
         "rock",
         "2071196"
        ],
        [
         "alternative",
         "1986663"
        ],
        [
         "metal",
         "1276190"
        ],
        [
         "indie",
         "1091620"
        ]
       ],
       "shape": {
        "columns": 1,
        "rows": 10
       }
      },
      "text/plain": [
       "genre\n",
       "pop            11095957\n",
       "rusrap          5069490\n",
       "electronics     3715404\n",
       "dance           3064344\n",
       "rusrock         2636764\n",
       "foreignrap      2367730\n",
       "rock            2071196\n",
       "alternative     1986663\n",
       "metal           1276190\n",
       "indie           1091620\n",
       "Name: count, dtype: int64"
      ]
     },
     "execution_count": 38,
     "metadata": {},
     "output_type": "execute_result"
    }
   ],
   "source": [
    "# Топ-10 самых популярных жанров\n",
    "\n",
    "events.genre.value_counts().head(10)"
   ]
  },
  {
   "cell_type": "markdown",
   "id": "15254e66-e80e-473b-ba24-abebea5ccac7",
   "metadata": {},
   "source": [
    "Треки, которые никто не прослушал"
   ]
  },
  {
   "cell_type": "code",
   "execution_count": 39,
   "id": "50bc50c6-2d83-4c7e-97fa-3e7627978438",
   "metadata": {},
   "outputs": [
    {
     "data": {
      "application/vnd.microsoft.datawrangler.viewer.v0+json": {
       "columns": [
        {
         "name": "index",
         "rawType": "int64",
         "type": "integer"
        },
        {
         "name": "track_id",
         "rawType": "int64",
         "type": "integer"
        },
        {
         "name": "track",
         "rawType": "object",
         "type": "string"
        },
        {
         "name": "album",
         "rawType": "object",
         "type": "string"
        },
        {
         "name": "artist",
         "rawType": "object",
         "type": "string"
        },
        {
         "name": "genre",
         "rawType": "object",
         "type": "string"
        }
       ],
       "ref": "c5eefaa3-b5e0-40be-aea5-b6c3feacea30",
       "rows": [
        [
         "4",
         "38",
         "Momma's Boy",
         "Taller Children",
         "Elizabeth & the Catapult",
         "pop"
        ],
        [
         "149",
         "321",
         "Back To New Orleans",
         "Blues Six Pack",
         "Sam \"Lightnin'\" Hopkins",
         "blues"
        ],
        [
         "1500",
         "633",
         "Just Friends",
         "The Real Thing",
         "Vanessa Williams",
         "pop"
        ],
        [
         "2604",
         "1006",
         "Sheila",
         "Picturesque Matchstickable Messages From The Status Quo",
         "Status Quo",
         "rock"
        ],
        [
         "2616",
         "1008",
         "Gentleman Joe's Sidewalk Cafe",
         "Picturesque Matchstickable Messages From The Status Quo",
         "Status Quo",
         "rock"
        ],
        [
         "4090",
         "1085",
         "Welcome To England",
         "Abnormally Attracted To Sin",
         "Tori Amos",
         "rock"
        ],
        [
         "5248",
         "1108",
         "Someday We'll Be Together",
         "Motown Love",
         "The Supremes",
         "pop"
        ],
        [
         "5378",
         "1112",
         "You Really Got A Hold On Me",
         "Motown Love",
         "The Miracles",
         "rnb"
        ],
        [
         "6081",
         "1136",
         "Your Kiss Is Sweet",
         "Motown Love",
         "Syreeta",
         "soul"
        ],
        [
         "6694",
         "1160",
         "Love Machine",
         "Motown Love",
         "The Miracles",
         "pop"
        ]
       ],
       "shape": {
        "columns": 5,
        "rows": 10
       }
      },
      "text/html": [
       "<div>\n",
       "<style scoped>\n",
       "    .dataframe tbody tr th:only-of-type {\n",
       "        vertical-align: middle;\n",
       "    }\n",
       "\n",
       "    .dataframe tbody tr th {\n",
       "        vertical-align: top;\n",
       "    }\n",
       "\n",
       "    .dataframe thead th {\n",
       "        text-align: right;\n",
       "    }\n",
       "</style>\n",
       "<table border=\"1\" class=\"dataframe\">\n",
       "  <thead>\n",
       "    <tr style=\"text-align: right;\">\n",
       "      <th></th>\n",
       "      <th>track_id</th>\n",
       "      <th>track</th>\n",
       "      <th>album</th>\n",
       "      <th>artist</th>\n",
       "      <th>genre</th>\n",
       "    </tr>\n",
       "  </thead>\n",
       "  <tbody>\n",
       "    <tr>\n",
       "      <th>4</th>\n",
       "      <td>38</td>\n",
       "      <td>Momma's Boy</td>\n",
       "      <td>Taller Children</td>\n",
       "      <td>Elizabeth &amp; the Catapult</td>\n",
       "      <td>pop</td>\n",
       "    </tr>\n",
       "    <tr>\n",
       "      <th>149</th>\n",
       "      <td>321</td>\n",
       "      <td>Back To New Orleans</td>\n",
       "      <td>Blues Six Pack</td>\n",
       "      <td>Sam \"Lightnin'\" Hopkins</td>\n",
       "      <td>blues</td>\n",
       "    </tr>\n",
       "    <tr>\n",
       "      <th>1500</th>\n",
       "      <td>633</td>\n",
       "      <td>Just Friends</td>\n",
       "      <td>The Real Thing</td>\n",
       "      <td>Vanessa Williams</td>\n",
       "      <td>pop</td>\n",
       "    </tr>\n",
       "    <tr>\n",
       "      <th>2604</th>\n",
       "      <td>1006</td>\n",
       "      <td>Sheila</td>\n",
       "      <td>Picturesque Matchstickable Messages From The S...</td>\n",
       "      <td>Status Quo</td>\n",
       "      <td>rock</td>\n",
       "    </tr>\n",
       "    <tr>\n",
       "      <th>2616</th>\n",
       "      <td>1008</td>\n",
       "      <td>Gentleman Joe's Sidewalk Cafe</td>\n",
       "      <td>Picturesque Matchstickable Messages From The S...</td>\n",
       "      <td>Status Quo</td>\n",
       "      <td>rock</td>\n",
       "    </tr>\n",
       "    <tr>\n",
       "      <th>4090</th>\n",
       "      <td>1085</td>\n",
       "      <td>Welcome To England</td>\n",
       "      <td>Abnormally Attracted To Sin</td>\n",
       "      <td>Tori Amos</td>\n",
       "      <td>rock</td>\n",
       "    </tr>\n",
       "    <tr>\n",
       "      <th>5248</th>\n",
       "      <td>1108</td>\n",
       "      <td>Someday We'll Be Together</td>\n",
       "      <td>Motown Love</td>\n",
       "      <td>The Supremes</td>\n",
       "      <td>pop</td>\n",
       "    </tr>\n",
       "    <tr>\n",
       "      <th>5378</th>\n",
       "      <td>1112</td>\n",
       "      <td>You Really Got A Hold On Me</td>\n",
       "      <td>Motown Love</td>\n",
       "      <td>The Miracles</td>\n",
       "      <td>rnb</td>\n",
       "    </tr>\n",
       "    <tr>\n",
       "      <th>6081</th>\n",
       "      <td>1136</td>\n",
       "      <td>Your Kiss Is Sweet</td>\n",
       "      <td>Motown Love</td>\n",
       "      <td>Syreeta</td>\n",
       "      <td>soul</td>\n",
       "    </tr>\n",
       "    <tr>\n",
       "      <th>6694</th>\n",
       "      <td>1160</td>\n",
       "      <td>Love Machine</td>\n",
       "      <td>Motown Love</td>\n",
       "      <td>The Miracles</td>\n",
       "      <td>pop</td>\n",
       "    </tr>\n",
       "  </tbody>\n",
       "</table>\n",
       "</div>"
      ],
      "text/plain": [
       "      track_id                          track  \\\n",
       "4           38                    Momma's Boy   \n",
       "149        321            Back To New Orleans   \n",
       "1500       633                   Just Friends   \n",
       "2604      1006                         Sheila   \n",
       "2616      1008  Gentleman Joe's Sidewalk Cafe   \n",
       "4090      1085             Welcome To England   \n",
       "5248      1108      Someday We'll Be Together   \n",
       "5378      1112    You Really Got A Hold On Me   \n",
       "6081      1136             Your Kiss Is Sweet   \n",
       "6694      1160                   Love Machine   \n",
       "\n",
       "                                                  album  \\\n",
       "4                                       Taller Children   \n",
       "149                                      Blues Six Pack   \n",
       "1500                                     The Real Thing   \n",
       "2604  Picturesque Matchstickable Messages From The S...   \n",
       "2616  Picturesque Matchstickable Messages From The S...   \n",
       "4090                        Abnormally Attracted To Sin   \n",
       "5248                                        Motown Love   \n",
       "5378                                        Motown Love   \n",
       "6081                                        Motown Love   \n",
       "6694                                        Motown Love   \n",
       "\n",
       "                        artist  genre  \n",
       "4     Elizabeth & the Catapult    pop  \n",
       "149    Sam \"Lightnin'\" Hopkins  blues  \n",
       "1500          Vanessa Williams    pop  \n",
       "2604                Status Quo   rock  \n",
       "2616                Status Quo   rock  \n",
       "4090                 Tori Amos   rock  \n",
       "5248              The Supremes    pop  \n",
       "5378              The Miracles    rnb  \n",
       "6081                   Syreeta   soul  \n",
       "6694              The Miracles    pop  "
      ]
     },
     "execution_count": 39,
     "metadata": {},
     "output_type": "execute_result"
    }
   ],
   "source": [
    "# Создаем список значений track_id которые есть в items но нет в events\n",
    "no_in_events = list(set(items.track_id.values.tolist()) - set(events.track_id.values.tolist()))\n",
    "\n",
    "items[items.track_id.isin(no_in_events)].head(10)"
   ]
  },
  {
   "cell_type": "markdown",
   "id": "0d850a07-ef1e-462f-891a-1cf89f2e24ef",
   "metadata": {},
   "source": [
    "# Преобразование данных"
   ]
  },
  {
   "cell_type": "markdown",
   "id": "fabcf8d2-1192-4df5-b20b-fbb84689f57a",
   "metadata": {},
   "source": [
    "Преобразуем данные в формат, более пригодный для дальнейшего использования в расчётах рекомендаций."
   ]
  },
  {
   "cell_type": "code",
   "execution_count": 40,
   "id": "a425556a-9382-45ca-a04e-f1981a522126",
   "metadata": {},
   "outputs": [
    {
     "data": {
      "application/vnd.microsoft.datawrangler.viewer.v0+json": {
       "columns": [
        {
         "name": "index",
         "rawType": "int64",
         "type": "integer"
        },
        {
         "name": "track_id",
         "rawType": "int64",
         "type": "integer"
        },
        {
         "name": "track",
         "rawType": "object",
         "type": "string"
        },
        {
         "name": "album",
         "rawType": "object",
         "type": "string"
        },
        {
         "name": "artist",
         "rawType": "object",
         "type": "string"
        },
        {
         "name": "genre",
         "rawType": "object",
         "type": "string"
        },
        {
         "name": "track_id_enc",
         "rawType": "int64",
         "type": "integer"
        }
       ],
       "ref": "a595f99b-1825-4b8e-9006-f8ae1e21b84e",
       "rows": [
        [
         "0",
         "26",
         "Complimentary Me",
         "Taller Children",
         "Elizabeth & the Catapult",
         "pop",
         "0"
        ],
        [
         "1",
         "38",
         "Momma's Boy",
         "Taller Children",
         "Elizabeth & the Catapult",
         "pop",
         "1"
        ],
        [
         "2",
         "135",
         "Atticus",
         "Wild Young Hearts",
         "Noisettes",
         "pop",
         "2"
        ],
        [
         "3",
         "136",
         "24 Hours",
         "Wild Young Hearts",
         "Noisettes",
         "pop",
         "3"
        ],
        [
         "4",
         "138",
         "Don't Upset The Rhythm (Go Baby Go)",
         "Wild Young Hearts",
         "Noisettes",
         "pop",
         "4"
        ]
       ],
       "shape": {
        "columns": 6,
        "rows": 5
       }
      },
      "text/html": [
       "<div>\n",
       "<style scoped>\n",
       "    .dataframe tbody tr th:only-of-type {\n",
       "        vertical-align: middle;\n",
       "    }\n",
       "\n",
       "    .dataframe tbody tr th {\n",
       "        vertical-align: top;\n",
       "    }\n",
       "\n",
       "    .dataframe thead th {\n",
       "        text-align: right;\n",
       "    }\n",
       "</style>\n",
       "<table border=\"1\" class=\"dataframe\">\n",
       "  <thead>\n",
       "    <tr style=\"text-align: right;\">\n",
       "      <th></th>\n",
       "      <th>track_id</th>\n",
       "      <th>track</th>\n",
       "      <th>album</th>\n",
       "      <th>artist</th>\n",
       "      <th>genre</th>\n",
       "      <th>track_id_enc</th>\n",
       "    </tr>\n",
       "  </thead>\n",
       "  <tbody>\n",
       "    <tr>\n",
       "      <th>0</th>\n",
       "      <td>26</td>\n",
       "      <td>Complimentary Me</td>\n",
       "      <td>Taller Children</td>\n",
       "      <td>Elizabeth &amp; the Catapult</td>\n",
       "      <td>pop</td>\n",
       "      <td>0</td>\n",
       "    </tr>\n",
       "    <tr>\n",
       "      <th>1</th>\n",
       "      <td>38</td>\n",
       "      <td>Momma's Boy</td>\n",
       "      <td>Taller Children</td>\n",
       "      <td>Elizabeth &amp; the Catapult</td>\n",
       "      <td>pop</td>\n",
       "      <td>1</td>\n",
       "    </tr>\n",
       "    <tr>\n",
       "      <th>2</th>\n",
       "      <td>135</td>\n",
       "      <td>Atticus</td>\n",
       "      <td>Wild Young Hearts</td>\n",
       "      <td>Noisettes</td>\n",
       "      <td>pop</td>\n",
       "      <td>2</td>\n",
       "    </tr>\n",
       "    <tr>\n",
       "      <th>3</th>\n",
       "      <td>136</td>\n",
       "      <td>24 Hours</td>\n",
       "      <td>Wild Young Hearts</td>\n",
       "      <td>Noisettes</td>\n",
       "      <td>pop</td>\n",
       "      <td>3</td>\n",
       "    </tr>\n",
       "    <tr>\n",
       "      <th>4</th>\n",
       "      <td>138</td>\n",
       "      <td>Don't Upset The Rhythm (Go Baby Go)</td>\n",
       "      <td>Wild Young Hearts</td>\n",
       "      <td>Noisettes</td>\n",
       "      <td>pop</td>\n",
       "      <td>4</td>\n",
       "    </tr>\n",
       "  </tbody>\n",
       "</table>\n",
       "</div>"
      ],
      "text/plain": [
       "   track_id                                track              album  \\\n",
       "0        26                     Complimentary Me    Taller Children   \n",
       "1        38                          Momma's Boy    Taller Children   \n",
       "2       135                              Atticus  Wild Young Hearts   \n",
       "3       136                             24 Hours  Wild Young Hearts   \n",
       "4       138  Don't Upset The Rhythm (Go Baby Go)  Wild Young Hearts   \n",
       "\n",
       "                     artist genre  track_id_enc  \n",
       "0  Elizabeth & the Catapult   pop             0  \n",
       "1  Elizabeth & the Catapult   pop             1  \n",
       "2                 Noisettes   pop             2  \n",
       "3                 Noisettes   pop             3  \n",
       "4                 Noisettes   pop             4  "
      ]
     },
     "execution_count": 40,
     "metadata": {},
     "output_type": "execute_result"
    }
   ],
   "source": [
    "# По анологии со спринтом подготовим данные для рекомендательной системы\n",
    "\n",
    "# Перестрим индексы items\n",
    "items = items.reset_index(drop=True)\n",
    " \n",
    "# Закодируем track_id для этого обучим энкодер\n",
    "i_encoder = LabelEncoder()\n",
    "i_encoder.fit(items['track_id'])\n",
    "\n",
    "# Добавим закодированное поле в items\n",
    "items['track_id_enc'] = i_encoder.transform(items['track_id'])\n",
    "\n",
    "items.head()"
   ]
  },
  {
   "cell_type": "code",
   "execution_count": 41,
   "id": "347e067d",
   "metadata": {},
   "outputs": [
    {
     "data": {
      "application/vnd.microsoft.datawrangler.viewer.v0+json": {
       "columns": [
        {
         "name": "index",
         "rawType": "int64",
         "type": "integer"
        },
        {
         "name": "user_id",
         "rawType": "int32",
         "type": "integer"
        },
        {
         "name": "track_id",
         "rawType": "int32",
         "type": "integer"
        },
        {
         "name": "started_at",
         "rawType": "datetime64[ns]",
         "type": "datetime"
        },
        {
         "name": "track",
         "rawType": "object",
         "type": "string"
        },
        {
         "name": "genre",
         "rawType": "object",
         "type": "string"
        },
        {
         "name": "month",
         "rawType": "int32",
         "type": "integer"
        },
        {
         "name": "user_id_enc",
         "rawType": "int64",
         "type": "integer"
        },
        {
         "name": "track_id_enc",
         "rawType": "int64",
         "type": "integer"
        }
       ],
       "ref": "ddc66576-e138-4b62-b286-2d5f7519ee37",
       "rows": [
        [
         "0",
         "1",
         "24417",
         "2022-06-11 00:00:00",
         "Du Riechst So Gut",
         "metal",
         "6",
         "0",
         "4345"
        ],
        [
         "1",
         "1",
         "108208",
         "2022-06-13 00:00:00",
         "Я не знаю",
         "punk",
         "6",
         "0",
         "18060"
        ],
        [
         "2",
         "1",
         "108209",
         "2022-06-13 00:00:00",
         "Измена",
         "punk",
         "6",
         "0",
         "18061"
        ],
        [
         "3",
         "1",
         "592642",
         "2022-06-15 00:00:00",
         "Улица роз",
         "classicmetal",
         "6",
         "0",
         "61771"
        ],
        [
         "4",
         "1",
         "628687",
         "2022-06-15 00:00:00",
         "Holding Out for a Hero",
         "pop",
         "6",
         "0",
         "64517"
        ]
       ],
       "shape": {
        "columns": 8,
        "rows": 5
       }
      },
      "text/html": [
       "<div>\n",
       "<style scoped>\n",
       "    .dataframe tbody tr th:only-of-type {\n",
       "        vertical-align: middle;\n",
       "    }\n",
       "\n",
       "    .dataframe tbody tr th {\n",
       "        vertical-align: top;\n",
       "    }\n",
       "\n",
       "    .dataframe thead th {\n",
       "        text-align: right;\n",
       "    }\n",
       "</style>\n",
       "<table border=\"1\" class=\"dataframe\">\n",
       "  <thead>\n",
       "    <tr style=\"text-align: right;\">\n",
       "      <th></th>\n",
       "      <th>user_id</th>\n",
       "      <th>track_id</th>\n",
       "      <th>started_at</th>\n",
       "      <th>track</th>\n",
       "      <th>genre</th>\n",
       "      <th>month</th>\n",
       "      <th>user_id_enc</th>\n",
       "      <th>track_id_enc</th>\n",
       "    </tr>\n",
       "  </thead>\n",
       "  <tbody>\n",
       "    <tr>\n",
       "      <th>0</th>\n",
       "      <td>1</td>\n",
       "      <td>24417</td>\n",
       "      <td>2022-06-11</td>\n",
       "      <td>Du Riechst So Gut</td>\n",
       "      <td>metal</td>\n",
       "      <td>6</td>\n",
       "      <td>0</td>\n",
       "      <td>4345</td>\n",
       "    </tr>\n",
       "    <tr>\n",
       "      <th>1</th>\n",
       "      <td>1</td>\n",
       "      <td>108208</td>\n",
       "      <td>2022-06-13</td>\n",
       "      <td>Я не знаю</td>\n",
       "      <td>punk</td>\n",
       "      <td>6</td>\n",
       "      <td>0</td>\n",
       "      <td>18060</td>\n",
       "    </tr>\n",
       "    <tr>\n",
       "      <th>2</th>\n",
       "      <td>1</td>\n",
       "      <td>108209</td>\n",
       "      <td>2022-06-13</td>\n",
       "      <td>Измена</td>\n",
       "      <td>punk</td>\n",
       "      <td>6</td>\n",
       "      <td>0</td>\n",
       "      <td>18061</td>\n",
       "    </tr>\n",
       "    <tr>\n",
       "      <th>3</th>\n",
       "      <td>1</td>\n",
       "      <td>592642</td>\n",
       "      <td>2022-06-15</td>\n",
       "      <td>Улица роз</td>\n",
       "      <td>classicmetal</td>\n",
       "      <td>6</td>\n",
       "      <td>0</td>\n",
       "      <td>61771</td>\n",
       "    </tr>\n",
       "    <tr>\n",
       "      <th>4</th>\n",
       "      <td>1</td>\n",
       "      <td>628687</td>\n",
       "      <td>2022-06-15</td>\n",
       "      <td>Holding Out for a Hero</td>\n",
       "      <td>pop</td>\n",
       "      <td>6</td>\n",
       "      <td>0</td>\n",
       "      <td>64517</td>\n",
       "    </tr>\n",
       "  </tbody>\n",
       "</table>\n",
       "</div>"
      ],
      "text/plain": [
       "   user_id  track_id started_at                   track         genre  month  \\\n",
       "0        1     24417 2022-06-11       Du Riechst So Gut         metal      6   \n",
       "1        1    108208 2022-06-13               Я не знаю          punk      6   \n",
       "2        1    108209 2022-06-13                  Измена          punk      6   \n",
       "3        1    592642 2022-06-15               Улица роз  classicmetal      6   \n",
       "4        1    628687 2022-06-15  Holding Out for a Hero           pop      6   \n",
       "\n",
       "   user_id_enc  track_id_enc  \n",
       "0            0          4345  \n",
       "1            0         18060  \n",
       "2            0         18061  \n",
       "3            0         61771  \n",
       "4            0         64517  "
      ]
     },
     "execution_count": 41,
     "metadata": {},
     "output_type": "execute_result"
    }
   ],
   "source": [
    "# По анологии поступим и с events\n",
    "\n",
    "events = events.reset_index(drop=True)\n",
    "\n",
    "# Закодируем user_id и track_id (для track_id энкодер уже обучен)\n",
    "u_encoder = LabelEncoder()\n",
    "u_encoder.fit(events['user_id'])\n",
    "\n",
    "# Добавляем закодированные поля в events\n",
    "events['user_id_enc'] = u_encoder.transform(events['user_id'])\n",
    "events['track_id_enc'] = i_encoder.transform(events['track_id'])\n",
    "events.head()\n"
   ]
  },
  {
   "cell_type": "code",
   "execution_count": 42,
   "id": "0c3a6f8e",
   "metadata": {},
   "outputs": [
    {
     "data": {
      "application/vnd.microsoft.datawrangler.viewer.v0+json": {
       "columns": [
        {
         "name": "index",
         "rawType": "int64",
         "type": "integer"
        },
        {
         "name": "track_id_enc",
         "rawType": "int64",
         "type": "integer"
        },
        {
         "name": "user_id",
         "rawType": "float64",
         "type": "float"
        }
       ],
       "ref": "9643e536-8eef-4634-a673-3ce74da01894",
       "rows": [
        [
         "0",
         "0",
         "4.528575310207409e-05"
        ],
        [
         "1",
         "2",
         "0.00022642876551037043"
        ],
        [
         "2",
         "3",
         "0.00013585725930622227"
        ],
        [
         "3",
         "4",
         "4.528575310207409e-05"
        ],
        [
         "4",
         "5",
         "4.528575310207409e-05"
        ]
       ],
       "shape": {
        "columns": 2,
        "rows": 5
       }
      },
      "text/html": [
       "<div>\n",
       "<style scoped>\n",
       "    .dataframe tbody tr th:only-of-type {\n",
       "        vertical-align: middle;\n",
       "    }\n",
       "\n",
       "    .dataframe tbody tr th {\n",
       "        vertical-align: top;\n",
       "    }\n",
       "\n",
       "    .dataframe thead th {\n",
       "        text-align: right;\n",
       "    }\n",
       "</style>\n",
       "<table border=\"1\" class=\"dataframe\">\n",
       "  <thead>\n",
       "    <tr style=\"text-align: right;\">\n",
       "      <th></th>\n",
       "      <th>track_id_enc</th>\n",
       "      <th>user_id</th>\n",
       "    </tr>\n",
       "  </thead>\n",
       "  <tbody>\n",
       "    <tr>\n",
       "      <th>0</th>\n",
       "      <td>0</td>\n",
       "      <td>0.000045</td>\n",
       "    </tr>\n",
       "    <tr>\n",
       "      <th>1</th>\n",
       "      <td>2</td>\n",
       "      <td>0.000226</td>\n",
       "    </tr>\n",
       "    <tr>\n",
       "      <th>2</th>\n",
       "      <td>3</td>\n",
       "      <td>0.000136</td>\n",
       "    </tr>\n",
       "    <tr>\n",
       "      <th>3</th>\n",
       "      <td>4</td>\n",
       "      <td>0.000045</td>\n",
       "    </tr>\n",
       "    <tr>\n",
       "      <th>4</th>\n",
       "      <td>5</td>\n",
       "      <td>0.000045</td>\n",
       "    </tr>\n",
       "  </tbody>\n",
       "</table>\n",
       "</div>"
      ],
      "text/plain": [
       "   track_id_enc   user_id\n",
       "0             0  0.000045\n",
       "1             2  0.000226\n",
       "2             3  0.000136\n",
       "3             4  0.000045\n",
       "4             5  0.000045"
      ]
     },
     "execution_count": 42,
     "metadata": {},
     "output_type": "execute_result"
    }
   ],
   "source": [
    "# Так-же для построения рекомендательной системы нам понадобиться некий рейтинг треков\n",
    "# Построим его на основании истроии прослушиваний треков в events и нормализуем по отнашению к самому популярному треку\n",
    "# т.е. самый популярный будет с рейтингом 1, непрослушанные с рейтингом 0\n",
    "\n",
    "track_rating = events.groupby('track_id_enc')['user_id'].count()\n",
    "track_rating = track_rating / track_rating.max()\n",
    "track_rating = track_rating.reset_index()\n",
    "\n",
    "track_rating.head()"
   ]
  },
  {
   "cell_type": "code",
   "execution_count": 43,
   "id": "c0802060",
   "metadata": {},
   "outputs": [
    {
     "data": {
      "application/vnd.microsoft.datawrangler.viewer.v0+json": {
       "columns": [
        {
         "name": "index",
         "rawType": "int64",
         "type": "integer"
        },
        {
         "name": "user_id",
         "rawType": "int32",
         "type": "integer"
        },
        {
         "name": "track_id",
         "rawType": "int32",
         "type": "integer"
        },
        {
         "name": "started_at",
         "rawType": "datetime64[ns]",
         "type": "datetime"
        },
        {
         "name": "track",
         "rawType": "object",
         "type": "string"
        },
        {
         "name": "genre",
         "rawType": "object",
         "type": "string"
        },
        {
         "name": "month",
         "rawType": "int32",
         "type": "integer"
        },
        {
         "name": "user_id_enc",
         "rawType": "int64",
         "type": "integer"
        },
        {
         "name": "track_id_enc",
         "rawType": "int64",
         "type": "integer"
        },
        {
         "name": "tracks_rating",
         "rawType": "float64",
         "type": "float"
        }
       ],
       "ref": "474b4aed-6020-43fa-9454-6a3ccdc484ef",
       "rows": [
        [
         "0",
         "1",
         "24417",
         "2022-06-11 00:00:00",
         "Du Riechst So Gut",
         "metal",
         "6",
         "0",
         "4345",
         "0.07440449234670772"
        ],
        [
         "1",
         "1",
         "108208",
         "2022-06-13 00:00:00",
         "Я не знаю",
         "punk",
         "6",
         "0",
         "18060",
         "0.00099628656824563"
        ],
        [
         "2",
         "1",
         "108209",
         "2022-06-13 00:00:00",
         "Измена",
         "punk",
         "6",
         "0",
         "18061",
         "0.0023548591613078524"
        ],
        [
         "3",
         "1",
         "592642",
         "2022-06-15 00:00:00",
         "Улица роз",
         "classicmetal",
         "6",
         "0",
         "61771",
         "0.006113576668780002"
        ],
        [
         "4",
         "1",
         "628687",
         "2022-06-15 00:00:00",
         "Holding Out for a Hero",
         "pop",
         "6",
         "0",
         "64517",
         "0.07902363916311929"
        ]
       ],
       "shape": {
        "columns": 9,
        "rows": 5
       }
      },
      "text/html": [
       "<div>\n",
       "<style scoped>\n",
       "    .dataframe tbody tr th:only-of-type {\n",
       "        vertical-align: middle;\n",
       "    }\n",
       "\n",
       "    .dataframe tbody tr th {\n",
       "        vertical-align: top;\n",
       "    }\n",
       "\n",
       "    .dataframe thead th {\n",
       "        text-align: right;\n",
       "    }\n",
       "</style>\n",
       "<table border=\"1\" class=\"dataframe\">\n",
       "  <thead>\n",
       "    <tr style=\"text-align: right;\">\n",
       "      <th></th>\n",
       "      <th>user_id</th>\n",
       "      <th>track_id</th>\n",
       "      <th>started_at</th>\n",
       "      <th>track</th>\n",
       "      <th>genre</th>\n",
       "      <th>month</th>\n",
       "      <th>user_id_enc</th>\n",
       "      <th>track_id_enc</th>\n",
       "      <th>tracks_rating</th>\n",
       "    </tr>\n",
       "  </thead>\n",
       "  <tbody>\n",
       "    <tr>\n",
       "      <th>0</th>\n",
       "      <td>1</td>\n",
       "      <td>24417</td>\n",
       "      <td>2022-06-11</td>\n",
       "      <td>Du Riechst So Gut</td>\n",
       "      <td>metal</td>\n",
       "      <td>6</td>\n",
       "      <td>0</td>\n",
       "      <td>4345</td>\n",
       "      <td>0.074404</td>\n",
       "    </tr>\n",
       "    <tr>\n",
       "      <th>1</th>\n",
       "      <td>1</td>\n",
       "      <td>108208</td>\n",
       "      <td>2022-06-13</td>\n",
       "      <td>Я не знаю</td>\n",
       "      <td>punk</td>\n",
       "      <td>6</td>\n",
       "      <td>0</td>\n",
       "      <td>18060</td>\n",
       "      <td>0.000996</td>\n",
       "    </tr>\n",
       "    <tr>\n",
       "      <th>2</th>\n",
       "      <td>1</td>\n",
       "      <td>108209</td>\n",
       "      <td>2022-06-13</td>\n",
       "      <td>Измена</td>\n",
       "      <td>punk</td>\n",
       "      <td>6</td>\n",
       "      <td>0</td>\n",
       "      <td>18061</td>\n",
       "      <td>0.002355</td>\n",
       "    </tr>\n",
       "    <tr>\n",
       "      <th>3</th>\n",
       "      <td>1</td>\n",
       "      <td>592642</td>\n",
       "      <td>2022-06-15</td>\n",
       "      <td>Улица роз</td>\n",
       "      <td>classicmetal</td>\n",
       "      <td>6</td>\n",
       "      <td>0</td>\n",
       "      <td>61771</td>\n",
       "      <td>0.006114</td>\n",
       "    </tr>\n",
       "    <tr>\n",
       "      <th>4</th>\n",
       "      <td>1</td>\n",
       "      <td>628687</td>\n",
       "      <td>2022-06-15</td>\n",
       "      <td>Holding Out for a Hero</td>\n",
       "      <td>pop</td>\n",
       "      <td>6</td>\n",
       "      <td>0</td>\n",
       "      <td>64517</td>\n",
       "      <td>0.079024</td>\n",
       "    </tr>\n",
       "  </tbody>\n",
       "</table>\n",
       "</div>"
      ],
      "text/plain": [
       "   user_id  track_id started_at                   track         genre  month  \\\n",
       "0        1     24417 2022-06-11       Du Riechst So Gut         metal      6   \n",
       "1        1    108208 2022-06-13               Я не знаю          punk      6   \n",
       "2        1    108209 2022-06-13                  Измена          punk      6   \n",
       "3        1    592642 2022-06-15               Улица роз  classicmetal      6   \n",
       "4        1    628687 2022-06-15  Holding Out for a Hero           pop      6   \n",
       "\n",
       "   user_id_enc  track_id_enc  tracks_rating  \n",
       "0            0          4345       0.074404  \n",
       "1            0         18060       0.000996  \n",
       "2            0         18061       0.002355  \n",
       "3            0         61771       0.006114  \n",
       "4            0         64517       0.079024  "
      ]
     },
     "execution_count": 43,
     "metadata": {},
     "output_type": "execute_result"
    }
   ],
   "source": [
    "# Переименуем поле user_id\n",
    "\n",
    "track_rating = track_rating.rename(columns= {'user_id': 'tracks_rating'})\n",
    "\n",
    "# И обьеденим с events\n",
    "\n",
    "events = events.merge(track_rating, on='track_id_enc', how='left')\n",
    "events.head()"
   ]
  },
  {
   "cell_type": "code",
   "execution_count": 44,
   "id": "7c6a1d5c",
   "metadata": {},
   "outputs": [
    {
     "data": {
      "application/vnd.microsoft.datawrangler.viewer.v0+json": {
       "columns": [
        {
         "name": "index",
         "rawType": "int64",
         "type": "integer"
        },
        {
         "name": "user_id",
         "rawType": "int32",
         "type": "integer"
        },
        {
         "name": "track_id",
         "rawType": "int32",
         "type": "integer"
        },
        {
         "name": "started_at",
         "rawType": "datetime64[ns]",
         "type": "datetime"
        },
        {
         "name": "user_id_enc",
         "rawType": "int64",
         "type": "integer"
        },
        {
         "name": "track_id_enc",
         "rawType": "int64",
         "type": "integer"
        },
        {
         "name": "tracks_rating",
         "rawType": "float64",
         "type": "float"
        }
       ],
       "ref": "1beb3c92-9404-42c0-bf95-9b7f83672626",
       "rows": [
        [
         "0",
         "1",
         "24417",
         "2022-06-11 00:00:00",
         "0",
         "4345",
         "0.07440449234670772"
        ],
        [
         "1",
         "1",
         "108208",
         "2022-06-13 00:00:00",
         "0",
         "18060",
         "0.00099628656824563"
        ],
        [
         "2",
         "1",
         "108209",
         "2022-06-13 00:00:00",
         "0",
         "18061",
         "0.0023548591613078524"
        ],
        [
         "3",
         "1",
         "592642",
         "2022-06-15 00:00:00",
         "0",
         "61771",
         "0.006113576668780002"
        ],
        [
         "4",
         "1",
         "628687",
         "2022-06-15 00:00:00",
         "0",
         "64517",
         "0.07902363916311929"
        ]
       ],
       "shape": {
        "columns": 6,
        "rows": 5
       }
      },
      "text/html": [
       "<div>\n",
       "<style scoped>\n",
       "    .dataframe tbody tr th:only-of-type {\n",
       "        vertical-align: middle;\n",
       "    }\n",
       "\n",
       "    .dataframe tbody tr th {\n",
       "        vertical-align: top;\n",
       "    }\n",
       "\n",
       "    .dataframe thead th {\n",
       "        text-align: right;\n",
       "    }\n",
       "</style>\n",
       "<table border=\"1\" class=\"dataframe\">\n",
       "  <thead>\n",
       "    <tr style=\"text-align: right;\">\n",
       "      <th></th>\n",
       "      <th>user_id</th>\n",
       "      <th>track_id</th>\n",
       "      <th>started_at</th>\n",
       "      <th>user_id_enc</th>\n",
       "      <th>track_id_enc</th>\n",
       "      <th>tracks_rating</th>\n",
       "    </tr>\n",
       "  </thead>\n",
       "  <tbody>\n",
       "    <tr>\n",
       "      <th>0</th>\n",
       "      <td>1</td>\n",
       "      <td>24417</td>\n",
       "      <td>2022-06-11</td>\n",
       "      <td>0</td>\n",
       "      <td>4345</td>\n",
       "      <td>0.074404</td>\n",
       "    </tr>\n",
       "    <tr>\n",
       "      <th>1</th>\n",
       "      <td>1</td>\n",
       "      <td>108208</td>\n",
       "      <td>2022-06-13</td>\n",
       "      <td>0</td>\n",
       "      <td>18060</td>\n",
       "      <td>0.000996</td>\n",
       "    </tr>\n",
       "    <tr>\n",
       "      <th>2</th>\n",
       "      <td>1</td>\n",
       "      <td>108209</td>\n",
       "      <td>2022-06-13</td>\n",
       "      <td>0</td>\n",
       "      <td>18061</td>\n",
       "      <td>0.002355</td>\n",
       "    </tr>\n",
       "    <tr>\n",
       "      <th>3</th>\n",
       "      <td>1</td>\n",
       "      <td>592642</td>\n",
       "      <td>2022-06-15</td>\n",
       "      <td>0</td>\n",
       "      <td>61771</td>\n",
       "      <td>0.006114</td>\n",
       "    </tr>\n",
       "    <tr>\n",
       "      <th>4</th>\n",
       "      <td>1</td>\n",
       "      <td>628687</td>\n",
       "      <td>2022-06-15</td>\n",
       "      <td>0</td>\n",
       "      <td>64517</td>\n",
       "      <td>0.079024</td>\n",
       "    </tr>\n",
       "  </tbody>\n",
       "</table>\n",
       "</div>"
      ],
      "text/plain": [
       "   user_id  track_id started_at  user_id_enc  track_id_enc  tracks_rating\n",
       "0        1     24417 2022-06-11            0          4345       0.074404\n",
       "1        1    108208 2022-06-13            0         18060       0.000996\n",
       "2        1    108209 2022-06-13            0         18061       0.002355\n",
       "3        1    592642 2022-06-15            0         61771       0.006114\n",
       "4        1    628687 2022-06-15            0         64517       0.079024"
      ]
     },
     "execution_count": 44,
     "metadata": {},
     "output_type": "execute_result"
    }
   ],
   "source": [
    "# Удаляем лишнее\n",
    "events = events.drop(columns=['track', 'genre', 'month'])\n",
    "events.head()"
   ]
  },
  {
   "cell_type": "code",
   "execution_count": 45,
   "id": "f6efb4ff",
   "metadata": {},
   "outputs": [],
   "source": [
    "# Сохраняем оба энкодера для дальнейшей экономии времени и ресурсов\n",
    "\n",
    "with open('item_encoder.pkl', 'wb') as enc_i:\n",
    "\tjoblib.dump(i_encoder, enc_i)\n",
    "\t\n",
    "with open('user_encoder.pkl', 'wb') as enc_u:\n",
    "\tjoblib.dump(u_encoder, enc_u)"
   ]
  },
  {
   "cell_type": "markdown",
   "id": "4d1be653-eed8-4fa0-a9c5-3811b080d71d",
   "metadata": {},
   "source": [
    "# Сохранение данных"
   ]
  },
  {
   "cell_type": "markdown",
   "id": "36f1314a-3af3-4faf-a0b1-3045173d1500",
   "metadata": {},
   "source": [
    "Сохраним данные в двух файлах в персональном S3-бакете по пути `recsys/data/`:\n",
    "- `items.parquet` — все данные о музыкальных треках,\n",
    "- `events.parquet` — все данные о взаимодействиях."
   ]
  },
  {
   "cell_type": "code",
   "execution_count": 46,
   "id": "9f77af17-7705-4fae-9aad-db579b39faad",
   "metadata": {},
   "outputs": [],
   "source": [
    "items.to_parquet('items.parquet')\n",
    "events.to_parquet('events.parquet')"
   ]
  },
  {
   "cell_type": "markdown",
   "id": "72ecbbed-c560-44d9-9c14-86c7dc76f399",
   "metadata": {},
   "source": [
    "# Очистка памяти"
   ]
  },
  {
   "cell_type": "markdown",
   "id": "b5358ede-ba6e-4c4f-bd73-5b9344f0ba79",
   "metadata": {},
   "source": [
    "Здесь, может понадобится очистка памяти для высвобождения ресурсов для выполнения кода ниже. \n",
    "\n",
    "Приведите соответствующие код, комментарии, например:\n",
    "- код для удаление более ненужных переменных,\n",
    "- комментарий, что следует перезапустить kernel, выполнить такие-то начальные секции и продолжить с этапа 3."
   ]
  },
  {
   "cell_type": "code",
   "execution_count": 46,
   "id": "767fe920-e12e-4ad8-b04e-56e8091fac9f",
   "metadata": {},
   "outputs": [],
   "source": [
    "# Перегружаем кернел нотебука и продолжаем, я импорты повторил ниже"
   ]
  },
  {
   "cell_type": "markdown",
   "id": "708503df-ee89-4cf3-8489-093dc478e2a8",
   "metadata": {},
   "source": [
    "# === ЭТАП 3 ==="
   ]
  },
  {
   "cell_type": "markdown",
   "id": "fd77de22-e10f-4b42-85c1-8fb6f805fe68",
   "metadata": {},
   "source": [
    "# Загрузка данных"
   ]
  },
  {
   "cell_type": "markdown",
   "id": "780a4241-1ecd-4a3e-bbb3-fc2f6ca94f68",
   "metadata": {},
   "source": [
    "Если необходимо, то загружаем items.parquet, events.parquet."
   ]
  },
  {
   "cell_type": "code",
   "execution_count": 1,
   "id": "f19fc8a5-bd2c-40d7-864a-ee75aca6d512",
   "metadata": {},
   "outputs": [
    {
     "name": "stderr",
     "output_type": "stream",
     "text": [
      "/home/mle-user/env_recsys_start_s4/lib/python3.10/site-packages/tqdm/auto.py:21: TqdmWarning: IProgress not found. Please update jupyter and ipywidgets. See https://ipywidgets.readthedocs.io/en/stable/user_install.html\n",
      "  from .autonotebook import tqdm as notebook_tqdm\n"
     ]
    }
   ],
   "source": [
    "# Импотры тут что-бы не мотать ноутбук\n",
    "\n",
    "import pandas as pd\n",
    "import numpy as np\n",
    "import random\n",
    "import scipy\n",
    "import joblib\n",
    "\n",
    "import matplotlib.pyplot as plt\n",
    "from implicit.als import AlternatingLeastSquares\n",
    "from sklearn.preprocessing import LabelEncoder\n",
    "from catboost import CatBoostClassifier, Pool\n",
    "\n",
    "\n",
    "RANDOM_STATE = 42\n",
    "\n",
    "np.random.seed(RANDOM_STATE) "
   ]
  },
  {
   "cell_type": "code",
   "execution_count": 2,
   "id": "5db1e801-5845-4ce3-86f2-c2fa30f68cc5",
   "metadata": {},
   "outputs": [],
   "source": [
    "# Загружаем все что насохраняли\n",
    "\n",
    "items = pd.read_parquet('items.parquet')\n",
    "events = pd.read_parquet('events.parquet')\n",
    "\n",
    "with open('item_encoder.pkl', 'rb') as enc_i:\n",
    "\ti_encoder = joblib.load(enc_i)\n",
    "\n",
    "with open('user_encoder.pkl', 'rb') as enc_u:\n",
    "\tu_encoder = joblib.load(enc_u)"
   ]
  },
  {
   "cell_type": "markdown",
   "id": "a694c023-6477-490b-939d-1cfa6f5f1b72",
   "metadata": {},
   "source": [
    "# Разбиение данных"
   ]
  },
  {
   "cell_type": "markdown",
   "id": "fbd5f6e0-54e7-4428-8678-eabce505d82c",
   "metadata": {},
   "source": [
    "Разбиваем данные на тренировочную, тестовую выборки."
   ]
  },
  {
   "cell_type": "code",
   "execution_count": 3,
   "id": "00c2dfa5-d8a2-47d1-922e-6eefee2c62d1",
   "metadata": {},
   "outputs": [
    {
     "name": "stdout",
     "output_type": "stream",
     "text": [
      "Набор events_train: (41705074, 6)\n",
      "Набор events_test: (2768958, 6)\n"
     ]
    }
   ],
   "source": [
    "# Делим выборку на train и test\n",
    "# По условиям задачи \"...в тренировочную отнесите все данные до 16 декабря 2022 года...\"\n",
    "\n",
    "split_date = pd.to_datetime(\"2022-12-16\")\n",
    "split_idx = events['started_at'] < split_date\n",
    "\n",
    "events_train = events[split_idx].copy()\n",
    "events_test = events[~split_idx].copy()\n",
    "\n",
    "print(f\"Набор events_train: {events_train.shape}\")\n",
    "print(f\"Набор events_test: {events_test.shape}\")"
   ]
  },
  {
   "cell_type": "code",
   "execution_count": 4,
   "id": "7b7d112c",
   "metadata": {},
   "outputs": [
    {
     "name": "stdout",
     "output_type": "stream",
     "text": [
      "Пользователей train: 268466\n",
      "Пользователей test: 156922\n",
      "Пользователи представленные в обеих выборках: 150744\n",
      "Пользователи представленные только в тестовой выборке: 6178\n"
     ]
    }
   ],
   "source": [
    "# Количество пользователей в тренировочной и тестовой выборке\n",
    "users_train = events_train[\"user_id\"].drop_duplicates()\n",
    "users_test = events_test[\"user_id\"].drop_duplicates()\n",
    "\n",
    "# Пользователи представленные в обеих выборках\n",
    "common_users = set(users_train).intersection(set(users_test))\n",
    "\n",
    "# Пользователи представленные только в тестовой выборке\n",
    "cold_users = users_test[~users_test.isin(common_users)]\n",
    "\n",
    "print(f\"Пользователей train: {len(users_train)}\")\n",
    "print(f\"Пользователей test: {len(users_test)}\")\n",
    "print(f\"Пользователи представленные в обеих выборках: {len(common_users)}\")\n",
    "print(f\"Пользователи представленные только в тестовой выборке: {len(cold_users)}\")"
   ]
  },
  {
   "cell_type": "markdown",
   "id": "9131c7e6-8852-4556-b510-51f7253cc299",
   "metadata": {},
   "source": [
    "# Топ популярных"
   ]
  },
  {
   "cell_type": "markdown",
   "id": "dd70d43a-88cc-4719-b291-feaed7136f30",
   "metadata": {},
   "source": [
    "Рассчитаем рекомендации как топ популярных."
   ]
  },
  {
   "cell_type": "code",
   "execution_count": 10,
   "id": "ee45e200-b7d6-4f56-9077-aad431689b96",
   "metadata": {},
   "outputs": [
    {
     "data": {
      "application/vnd.microsoft.datawrangler.viewer.v0+json": {
       "columns": [
        {
         "name": "index",
         "rawType": "int64",
         "type": "integer"
        },
        {
         "name": "track_id",
         "rawType": "int32",
         "type": "integer"
        },
        {
         "name": "tracks_rating",
         "rawType": "int64",
         "type": "integer"
        },
        {
         "name": "track",
         "rawType": "object",
         "type": "string"
        },
        {
         "name": "album",
         "rawType": "object",
         "type": "string"
        },
        {
         "name": "artist",
         "rawType": "object",
         "type": "string"
        },
        {
         "name": "track_id_enc",
         "rawType": "int64",
         "type": "integer"
        }
       ],
       "ref": "289b961c-f909-40cb-a44d-0cf6eb9995a5",
       "rows": [
        [
         "0",
         "53404",
         "21891",
         "Smells Like Teen Spirit",
         "Nevermind",
         "Nirvana",
         "9098"
        ],
        [
         "1",
         "33311009",
         "20192",
         "Believer",
         "Shape Of Pop",
         "Imagine Dragons",
         "483876"
        ],
        [
         "2",
         "178529",
         "20026",
         "Numb",
         "Meteora",
         "Linkin Park",
         "26665"
        ],
        [
         "3",
         "35505245",
         "19139",
         "I Got Love",
         "I Got Love",
         "Miyagi & Эндшпиль",
         "512157"
        ],
        [
         "4",
         "24692821",
         "16966",
         "Way Down We Go",
         "Way down We Go",
         "KALEO",
         "368072"
        ]
       ],
       "shape": {
        "columns": 6,
        "rows": 5
       }
      },
      "text/html": [
       "<div>\n",
       "<style scoped>\n",
       "    .dataframe tbody tr th:only-of-type {\n",
       "        vertical-align: middle;\n",
       "    }\n",
       "\n",
       "    .dataframe tbody tr th {\n",
       "        vertical-align: top;\n",
       "    }\n",
       "\n",
       "    .dataframe thead th {\n",
       "        text-align: right;\n",
       "    }\n",
       "</style>\n",
       "<table border=\"1\" class=\"dataframe\">\n",
       "  <thead>\n",
       "    <tr style=\"text-align: right;\">\n",
       "      <th></th>\n",
       "      <th>track_id</th>\n",
       "      <th>tracks_rating</th>\n",
       "      <th>track</th>\n",
       "      <th>album</th>\n",
       "      <th>artist</th>\n",
       "      <th>track_id_enc</th>\n",
       "    </tr>\n",
       "  </thead>\n",
       "  <tbody>\n",
       "    <tr>\n",
       "      <th>0</th>\n",
       "      <td>53404</td>\n",
       "      <td>21891</td>\n",
       "      <td>Smells Like Teen Spirit</td>\n",
       "      <td>Nevermind</td>\n",
       "      <td>Nirvana</td>\n",
       "      <td>9098</td>\n",
       "    </tr>\n",
       "    <tr>\n",
       "      <th>1</th>\n",
       "      <td>33311009</td>\n",
       "      <td>20192</td>\n",
       "      <td>Believer</td>\n",
       "      <td>Shape Of Pop</td>\n",
       "      <td>Imagine Dragons</td>\n",
       "      <td>483876</td>\n",
       "    </tr>\n",
       "    <tr>\n",
       "      <th>2</th>\n",
       "      <td>178529</td>\n",
       "      <td>20026</td>\n",
       "      <td>Numb</td>\n",
       "      <td>Meteora</td>\n",
       "      <td>Linkin Park</td>\n",
       "      <td>26665</td>\n",
       "    </tr>\n",
       "    <tr>\n",
       "      <th>3</th>\n",
       "      <td>35505245</td>\n",
       "      <td>19139</td>\n",
       "      <td>I Got Love</td>\n",
       "      <td>I Got Love</td>\n",
       "      <td>Miyagi &amp; Эндшпиль</td>\n",
       "      <td>512157</td>\n",
       "    </tr>\n",
       "    <tr>\n",
       "      <th>4</th>\n",
       "      <td>24692821</td>\n",
       "      <td>16966</td>\n",
       "      <td>Way Down We Go</td>\n",
       "      <td>Way down We Go</td>\n",
       "      <td>KALEO</td>\n",
       "      <td>368072</td>\n",
       "    </tr>\n",
       "  </tbody>\n",
       "</table>\n",
       "</div>"
      ],
      "text/plain": [
       "   track_id  tracks_rating                    track           album  \\\n",
       "0     53404          21891  Smells Like Teen Spirit       Nevermind   \n",
       "1  33311009          20192                 Believer    Shape Of Pop   \n",
       "2    178529          20026                     Numb         Meteora   \n",
       "3  35505245          19139               I Got Love      I Got Love   \n",
       "4  24692821          16966           Way Down We Go  Way down We Go   \n",
       "\n",
       "              artist  track_id_enc  \n",
       "0            Nirvana          9098  \n",
       "1    Imagine Dragons        483876  \n",
       "2        Linkin Park         26665  \n",
       "3  Miyagi & Эндшпиль        512157  \n",
       "4              KALEO        368072  "
      ]
     },
     "execution_count": 10,
     "metadata": {},
     "output_type": "execute_result"
    }
   ],
   "source": [
    "# Топ-100 популярных\n",
    "\n",
    "top_popular = events_train.track_id.value_counts().head(100)\n",
    "top_popular = top_popular.reset_index()\n",
    "top_popular = top_popular.merge(items[['track_id', 'track', 'album',  'artist']], on='track_id', how='left')\n",
    "top_popular['track_id_enc'] = i_encoder.transform(top_popular['track_id'])\n",
    "top_popular = top_popular.rename(columns= {'count': 'tracks_rating'})\n",
    "\n",
    "top_popular.head()"
   ]
  },
  {
   "cell_type": "code",
   "execution_count": 11,
   "id": "7690c86f-7aa9-46ed-bba5-2c837626411e",
   "metadata": {},
   "outputs": [],
   "source": [
    "# Сохраняем в файл\n",
    "\n",
    "top_popular.to_parquet('top_popular.parquet')"
   ]
  },
  {
   "cell_type": "markdown",
   "id": "2ad231f2-6158-421a-b7fa-01d8bc3ed572",
   "metadata": {},
   "source": [
    "# Персональные"
   ]
  },
  {
   "cell_type": "markdown",
   "id": "86159460-cd9d-4b63-8248-604ea3c9aebf",
   "metadata": {},
   "source": [
    "Рассчитаем персональные рекомендации."
   ]
  },
  {
   "cell_type": "code",
   "execution_count": 7,
   "id": "d2944822-569c-4f9b-82dc-70a7fa2d542e",
   "metadata": {},
   "outputs": [
    {
     "data": {
      "text/plain": [
       "<Compressed Sparse Row sparse matrix of dtype 'int8'\n",
       "\twith 41661709 stored elements and shape (274644, 1000000)>"
      ]
     },
     "execution_count": 7,
     "metadata": {},
     "output_type": "execute_result"
    }
   ],
   "source": [
    "# Для определения песональных рекомендаций по заданию необходимо использовать ALS модель\n",
    "# для нее необходимо создать user-item матрицу, с осями user_id_enc, track_id_enc и значениями tracks_rating\n",
    "\n",
    "ui_matrix_train = scipy.sparse.csr_matrix(\n",
    "\t\t(\n",
    "\t\tevents_train['tracks_rating'],\n",
    "\t\t(events_train['user_id_enc'], events_train['track_id_enc'])\n",
    "\t\t), \n",
    "\t\tdtype=np.int8\n",
    "\t)\n",
    "\n",
    "ui_matrix_train"
   ]
  },
  {
   "cell_type": "code",
   "execution_count": 8,
   "id": "1e8cdb58-3a8c-45ad-8e5f-7f950314aa56",
   "metadata": {},
   "outputs": [
    {
     "name": "stderr",
     "output_type": "stream",
     "text": [
      "/home/mle-user/env_recsys_start_s4/lib/python3.10/site-packages/implicit/cpu/als.py:95: RuntimeWarning: OpenBLAS is configured to use 4 threads. It is highly recommended to disable its internal threadpool by setting the environment variable 'OPENBLAS_NUM_THREADS=1' or by calling 'threadpoolctl.threadpool_limits(1, \"blas\")'. Having OpenBLAS use a threadpool can lead to severe performance issues here.\n",
      "  check_blas_config()\n",
      "100%|██████████| 50/50 [04:10<00:00,  5.01s/it]\n"
     ]
    }
   ],
   "source": [
    "# Тренируем ALS\n",
    "\n",
    "als_model = AlternatingLeastSquares(\n",
    "\tfactors = 50,\n",
    "\titerations = 50,\n",
    "\tregularization = 0.5,\n",
    "\trandom_state = RANDOM_STATE\n",
    "\t)\n",
    "\n",
    "als_model.fit(ui_matrix_train)"
   ]
  },
  {
   "cell_type": "code",
   "execution_count": 9,
   "id": "6183f1e8",
   "metadata": {},
   "outputs": [],
   "source": [
    "# Теперь можем сгенерировать рекомендации для каждого пользователя\n",
    "\n",
    "user_id_enc = range(len(u_encoder.classes_))\n",
    "\n",
    "personal_als = als_model.recommend(\n",
    "\tuser_id_enc,\n",
    "\tui_matrix_train[user_id_enc],\n",
    "\tfilter_already_liked_items=False,\n",
    "\tN=10\t\t\t\t\t\t\t\t# Количество рекомендаций на каждого пользователя\n",
    "\t)"
   ]
  },
  {
   "cell_type": "code",
   "execution_count": 10,
   "id": "2ffd21e9",
   "metadata": {},
   "outputs": [],
   "source": [
    "# Собираем итоговый датафрейм с рекомендациями\n",
    "\n",
    "track_ids_enc = personal_als[0]\n",
    "als_score = personal_als[1]\n",
    "\n",
    "personal_als = pd.DataFrame({\n",
    "\t'user_id_enc': user_id_enc,\n",
    "\t'track_id_enc': track_ids_enc.tolist(),\n",
    "\t'score': als_score.tolist()\n",
    "})"
   ]
  },
  {
   "cell_type": "code",
   "execution_count": 11,
   "id": "af1295f8",
   "metadata": {},
   "outputs": [
    {
     "data": {
      "application/vnd.microsoft.datawrangler.viewer.v0+json": {
       "columns": [
        {
         "name": "index",
         "rawType": "int64",
         "type": "integer"
        },
        {
         "name": "user_id_enc",
         "rawType": "int64",
         "type": "integer"
        },
        {
         "name": "track_id_enc",
         "rawType": "object",
         "type": "unknown"
        },
        {
         "name": "score",
         "rawType": "object",
         "type": "unknown"
        }
       ],
       "ref": "443160e3-bfe0-40ba-81e6-e597d6ce731a",
       "rows": [
        [
         "0",
         "0",
         "[9098, 126601, 265629, 15636, 377703, 696106, 504691, 23039, 43524, 427412]",
         "[2.770947533925483e-13, 6.807570476002072e-23, 5.593083140357046e-23, 4.955009210636686e-23, 4.884204842316393e-23, 4.689409210179634e-23, 4.2226335861287573e-23, 3.0473980758613566e-23, 3.011225016824628e-23, 2.8363187769190254e-23]"
        ],
        [
         "1",
         "1",
         "[9098, 504691, 83145, 58616, 427412, 92014, 265629, 126601, 177764, 568244]",
         "[3.540543509414351e-12, 1.2764221306002482e-22, 9.522059783529299e-23, 9.333419159719436e-23, 8.389065565925949e-23, 6.565448238261846e-23, 6.164030371297254e-23, 6.029953678579718e-23, 5.440844345246426e-23, 5.420681691597701e-23]"
        ],
        [
         "2",
         "2",
         "[265629, 27812, 23039, 39466, 394794, 60200, 61983, 562231, 69992, 599686]",
         "[3.4989979093619534e-23, 2.1696775116935343e-23, 2.093096788280851e-23, 1.8132785166402765e-23, 1.5448289928213852e-23, 1.4091218823849387e-23, 1.355008864186036e-23, 1.3464295285252144e-23, 1.3444600583892397e-23, 1.301777398048718e-23]"
        ],
        [
         "3",
         "3",
         "[112845, 330585, 27812, 169233, 6366, 427048, 7606, 43524, 15636, 71400]",
         "[1.2621135821747322e-22, 8.151485273733623e-23, 5.195727907054343e-23, 5.091360978204879e-23, 5.0053562068740634e-23, 4.752350844085408e-23, 4.6471502470313063e-23, 4.454702264948485e-23, 4.360664996336347e-23, 4.330280283077768e-23]"
        ],
        [
         "4",
         "4",
         "[15636, 504691, 4018, 126601, 34954, 1966, 58621, 282821, 69992, 10405]",
         "[5.5377335432461645e-25, 4.752791304571838e-25, 4.050869034082004e-25, 3.91074662971599e-25, 3.592005408809177e-25, 3.224459828886669e-25, 2.8078318164793755e-25, 2.8010463800993104e-25, 2.3454488854931316e-25, 2.2363494223010657e-25]"
        ],
        [
         "5",
         "5",
         "[83145, 39466, 37377, 699153, 146858, 126601, 696106, 90461, 7606, 43524]",
         "[6.274528327102096e-23, 5.0648931171129036e-23, 3.5431794843084855e-23, 3.2086709060585677e-23, 2.85100421153062e-23, 2.829033488687128e-23, 2.35222197620003e-23, 2.321928928578638e-23, 2.2994486015903737e-23, 2.1478240135805587e-23]"
        ],
        [
         "6",
         "6",
         "[83145, 150671, 39466, 126601, 504691, 568244, 15643, 466556, 298105, 427770]",
         "[2.4720747179355257e-23, 2.2938435870865974e-23, 2.1430129086917968e-23, 1.9728625534115905e-23, 1.8317814069444164e-23, 1.4988811583080632e-23, 1.231817505327464e-23, 1.182535471312135e-23, 1.1601445222644323e-23, 1.132525949770011e-23]"
        ],
        [
         "7",
         "7",
         "[9098, 58616, 64267, 265629, 568244, 493656, 169233, 60200, 231021, 29336]",
         "[4.0403897133382827e-13, 6.49325042603857e-23, 4.7733266555552346e-23, 3.630354609678287e-23, 3.557176085577641e-23, 3.5374192219785617e-23, 3.215624241621548e-23, 2.7656857491873464e-23, 2.5312602695271804e-23, 2.4651101805476914e-23]"
        ],
        [
         "8",
         "8",
         "[9098, 112845, 668078, 209994, 126601, 486976, 91113, 170709, 15643, 886899]",
         "[0.9900982975959778, 1.011358152173264e-13, 9.893909286686278e-14, 9.37386426076367e-14, 9.347125124684746e-14, 9.277042973881641e-14, 9.170612267619602e-14, 9.162126352740829e-14, 9.080616711039727e-14, 9.078463214474627e-14]"
        ],
        [
         "9",
         "9",
         "[9098, 39466, 146858, 23039, 80426, 265629, 36282, 298105, 209500, 270458]",
         "[5.85042160116539e-13, 6.42747331049507e-23, 4.862924214992789e-23, 4.0370042021663043e-23, 3.4493921268311215e-23, 2.478015313868383e-23, 2.3878035473300238e-23, 2.3749703581238883e-23, 2.1562694006596738e-23, 1.7740151738934353e-23]"
        ],
        [
         "10",
         "10",
         "[9098, 112845, 668078, 209994, 126601, 486976, 91113, 170709, 15643, 886899]",
         "[0.9900980591773987, 1.011565776889295e-13, 9.89435923058786e-14, 9.374495130902785e-14, 9.347127835190178e-14, 9.277044329134357e-14, 9.170614300498675e-14, 9.162124997488114e-14, 9.080097649249649e-14, 9.078461181595554e-14]"
        ],
        [
         "11",
         "11",
         "[8910, 282821, 599686, 71400, 121690, 562501, 251445, 58436, 21729, 209500]",
         "[1.0153924115748122e-23, 8.240011086745344e-24, 8.039624639601102e-24, 6.064234496963093e-24, 5.9440917699588384e-24, 5.043850410238314e-24, 4.9425066330359286e-24, 4.723715666542428e-24, 4.414559500064503e-24, 4.238693610867699e-24]"
        ],
        [
         "12",
         "12",
         "[6366, 282821, 37377, 58616, 9106, 562231, 364746, 30291, 15626, 44365]",
         "[1.929778915072945e-23, 1.0092744797104611e-23, 1.0002925094436147e-23, 9.015294118065692e-24, 8.984899307387526e-24, 8.703757958236715e-24, 7.83068615138336e-24, 7.290633553390866e-24, 7.184825217895382e-24, 7.023007758129206e-24]"
        ],
        [
         "13",
         "13",
         "[9098, 112845, 668078, 209994, 126601, 486976, 91113, 170709, 886899, 15643]",
         "[0.9900984168052673, 1.011791900804894e-13, 9.893199811889658e-14, 9.375016225571936e-14, 9.345805786166103e-14, 9.27704636201343e-14, 9.170613622872317e-14, 9.162126352740829e-14, 9.078465924980059e-14, 9.07211046737022e-14]"
        ],
        [
         "14",
         "14",
         "[9098, 112845, 668078, 209994, 126601, 486976, 91113, 170709, 886899, 15643]",
         "[0.9900983572006226, 1.0115566966961004e-13, 9.894467650805108e-14, 9.373489533387805e-14, 9.345517794964037e-14, 9.277042296255283e-14, 9.170611589993244e-14, 9.162126352740829e-14, 9.078463892100985e-14, 9.076049509388132e-14]"
        ],
        [
         "15",
         "15",
         "[39466, 155827, 427770, 1536, 80426, 146858, 150671, 696106, 330585, 334251]",
         "[2.0486051278896946e-22, 1.0049967394569373e-22, 9.069985055763759e-23, 9.056441891742925e-23, 8.310485553435073e-23, 7.259460294771428e-23, 7.206080286125657e-23, 7.127633433355583e-23, 6.17478159880233e-23, 6.132672834770357e-23]"
        ],
        [
         "16",
         "16",
         "[15636, 8910, 270458, 64267, 23698, 428513, 112850, 1536, 359623, 7839]",
         "[7.983195999101014e-23, 5.579168265077672e-23, 4.384291380447716e-23, 4.2816750917191187e-23, 3.5041740990776516e-23, 3.30060254714249e-23, 3.191997226421454e-23, 3.1503469483475953e-23, 3.1469384381483164e-23, 3.008951519695781e-23]"
        ],
        [
         "17",
         "17",
         "[155827, 29336, 209500, 83132, 265629, 9616, 493656, 7076, 690843, 406580]",
         "[2.0772334265655807e-23, 1.8123533405706333e-23, 1.804667626543246e-23, 1.794169938933108e-23, 1.787938411098405e-23, 1.6929377855488112e-23, 1.475187878791931e-23, 1.4513759545956538e-23, 1.2657012111311506e-23, 1.2612077805289212e-23]"
        ],
        [
         "18",
         "18",
         "[112845, 83132, 6366, 64267, 15643, 368072, 29336, 9106, 155827, 83159]",
         "[1.079970647868994e-22, 5.654746819596362e-23, 5.1782786193752163e-23, 5.128800001222306e-23, 4.9466848348204317e-23, 4.7535811515531906e-23, 4.43930811769964e-23, 4.1662962957214935e-23, 4.051813014623475e-23, 4.048478657349287e-23]"
        ],
        [
         "19",
         "19",
         "[9098, 112845, 15643, 427770, 29336, 150671, 64267, 34954, 3448, 43524]",
         "[1.6297690193928238e-12, 1.7864917664159746e-22, 1.524437979717817e-22, 1.2979014877630955e-22, 9.465160824157518e-23, 9.152426069069148e-23, 7.426636959983313e-23, 7.135445680672167e-23, 6.9166036748781e-23, 6.839124281122188e-23]"
        ],
        [
         "20",
         "20",
         "[83145, 699153, 606716, 265629, 80426, 15643, 86615, 504691, 270458, 427412]",
         "[9.786607127994424e-23, 8.680230970599403e-23, 7.836501318432287e-23, 7.772263428287054e-23, 6.30694609268561e-23, 5.106120565741564e-23, 5.0681915023298137e-23, 4.600797726873606e-23, 4.240307856938053e-23, 3.9366459488928114e-23]"
        ],
        [
         "21",
         "21",
         "[1536, 43524, 15636, 112850, 64267, 699153, 350335, 169233, 83145, 571352]",
         "[1.7015335295164614e-23, 1.6128529419951362e-23, 1.558174468299371e-23, 1.27558413943785e-23, 1.0485941471259352e-23, 1.0302531310795466e-23, 9.936340500870062e-24, 9.64188160191731e-24, 9.282947523459034e-24, 9.279086049327977e-24]"
        ],
        [
         "22",
         "22",
         "[9098, 112845, 668078, 209994, 126601, 486976, 91113, 170709, 886899, 15643]",
         "[0.9900979995727539, 1.0113452772724657e-13, 9.89471701730478e-14, 9.373253719415289e-14, 9.343592658481517e-14, 9.277028743728127e-14, 9.17059735983973e-14, 9.162110089708242e-14, 9.07844695144204e-14, 9.077006995431708e-14]"
        ],
        [
         "23",
         "23",
         "[64267, 504691, 427412, 83145, 112850, 368072, 27812, 58616, 92014, 126601]",
         "[1.9826710921349275e-23, 1.822349943733775e-23, 1.2090176107864948e-23, 1.1889086785654155e-23, 1.1491014162244244e-23, 9.897398382283827e-24, 9.653531499765614e-24, 9.614185484395905e-24, 7.733362014923528e-24, 7.58283394357197e-24]"
        ],
        [
         "24",
         "24",
         "[368072, 27812, 6366, 696106, 83145, 23039, 1966, 58621, 83132, 71400]",
         "[8.200931075272876e-23, 6.917286512877659e-23, 6.208924760957744e-23, 5.512082902608953e-23, 4.8437845561659545e-23, 4.1398006667256543e-23, 3.972536911269833e-23, 3.73453852279774e-23, 3.0815103146692856e-23, 2.95535094554091e-23]"
        ],
        [
         "25",
         "25",
         "[58616, 568244, 15643, 330585, 83145, 29336, 7606, 690843, 696106, 126464]",
         "[1.3733555915853784e-22, 9.452093501034713e-23, 6.441060650726597e-23, 5.177799938577928e-23, 4.95525912177146e-23, 3.9697588587060065e-23, 3.599921618132309e-23, 3.111469358583407e-23, 2.9357029447467514e-23, 2.7333374033634915e-23]"
        ],
        [
         "26",
         "26",
         "[150671, 427770, 330585, 6366, 15636, 112845, 265629, 466556, 568244, 27812]",
         "[6.707450774266318e-23, 6.646058463178398e-23, 4.3996217877354193e-23, 3.1544483939660204e-23, 3.0119119569008946e-23, 3.0022774408932493e-23, 2.868512821549819e-23, 2.8595882803568727e-23, 2.782148960734947e-23, 2.7471513044469977e-23]"
        ],
        [
         "27",
         "27",
         "[9098, 15636, 4018, 80951, 493656, 244930, 126601, 278338, 590153, 71400]",
         "[1.5787317200061102e-13, 1.2267659556347908e-23, 1.1667517845482919e-23, 1.0591622800149095e-23, 9.193579049228356e-24, 8.829300438137208e-24, 8.551309010580944e-24, 8.227252839325204e-24, 7.090781953940364e-24, 7.067286520739262e-24]"
        ],
        [
         "28",
         "28",
         "[39466, 696106, 231021, 22738, 330585, 34954, 155827, 112845, 265629, 1536]",
         "[1.822502824977207e-23, 1.5649331129909427e-23, 1.2178510385448881e-23, 1.2001602016565828e-23, 1.129651103973114e-23, 1.1132495813483019e-23, 1.0615483475949315e-23, 1.0569436087189754e-23, 1.0346634157423657e-23, 9.856890374800728e-24]"
        ],
        [
         "29",
         "29",
         "[368072, 58616, 34954, 15643, 36282, 568244, 39466, 80426, 9616, 282821]",
         "[1.8942028659692878e-23, 1.3028095436571091e-23, 1.2658043941375535e-23, 1.226267079998329e-23, 1.1744342642459678e-23, 1.1553879276642211e-23, 1.1148513634163532e-23, 9.257165971354601e-24, 7.340110120505422e-24, 6.808813878560881e-24]"
        ],
        [
         "30",
         "30",
         "[9098, 64267, 27812, 83145, 427412, 504691, 92014, 112845, 126601, 715388]",
         "[9.45925873437406e-14, 5.943541223933085e-23, 4.8015492588447836e-23, 3.842814099660393e-23, 3.17481425818393e-23, 3.004993646762106e-23, 2.992229246226906e-23, 2.9573120537512895e-23, 2.8766671189549076e-23, 2.661382560299024e-23]"
        ],
        [
         "31",
         "31",
         "[58616, 568244, 1536, 71400, 83145, 9616, 231021, 36282, 696106, 126464]",
         "[5.2938427976855684e-24, 2.8345600509738804e-24, 1.5700384038327841e-24, 1.2550367780471714e-24, 1.1839720461851103e-24, 1.1634915407561492e-24, 1.1082948446102219e-24, 1.0043072986916013e-24, 8.982498803652938e-25, 8.032658997808001e-25]"
        ],
        [
         "32",
         "32",
         "[8910, 146858, 39466, 298105, 9616, 209500, 150671, 394794, 671909, 368072]",
         "[7.422083023749653e-23, 6.246477064401161e-23, 5.343081128806748e-23, 4.57681982634287e-23, 4.39286345858821e-23, 4.2961090374741286e-23, 4.101833106901729e-23, 4.098749607395401e-23, 4.0550120033663275e-23, 3.9370189223288e-23]"
        ],
        [
         "33",
         "33",
         "[9098, 599686, 58436, 23039, 427770, 408863, 350335, 493656, 282821, 406580]",
         "[3.630778352801825e-15, 6.920254680919643e-24, 4.6386113799349225e-24, 4.2257271041685815e-24, 4.0252582210597445e-24, 3.9264687754684646e-24, 3.584091309688967e-24, 3.1749239492928012e-24, 3.0866630357730535e-24, 3.062895642774876e-24]"
        ],
        [
         "34",
         "34",
         "[1536, 568244, 58616, 427770, 29336, 696106, 71400, 6080, 36282, 150671]",
         "[1.69717428415421e-22, 1.5541097520446931e-22, 1.5252832599549793e-22, 1.3903028481844224e-22, 1.3252254838182892e-22, 1.3208709716214692e-22, 1.1016753037063725e-22, 1.059246199038007e-22, 1.0044102687055598e-22, 7.432739587946103e-23]"
        ],
        [
         "35",
         "35",
         "[15643, 27812, 64267, 169233, 699153, 112845, 389293, 15636, 289481, 170424]",
         "[1.1580971126710216e-24, 9.251597007794193e-25, 7.78494188242663e-25, 6.3756014461279e-25, 6.236713609078557e-25, 5.925537071214748e-25, 4.5584810585500615e-25, 4.4832518313617255e-25, 4.227808316451781e-25, 4.0639293659250363e-25]"
        ],
        [
         "36",
         "36",
         "[493656, 39466, 6366, 169233, 146858, 427048, 30639, 244930, 27812, 7076]",
         "[6.546781895978144e-23, 4.8594150461420037e-23, 3.9426397140506806e-23, 3.840211489761888e-23, 3.7778006014731463e-23, 3.716502638149491e-23, 3.468253791074956e-23, 3.250311717801564e-23, 3.1947071214030695e-23, 3.052653782756301e-23]"
        ],
        [
         "37",
         "37",
         "[15643, 58616, 83145, 15636, 504691, 289481, 126601, 27812, 146858, 112845]",
         "[2.3432579919618226e-23, 2.3297201921951438e-23, 1.926520446217839e-23, 1.6397625651940353e-23, 1.53701516778299e-23, 1.4491078217209624e-23, 1.39561279715521e-23, 1.2014974786631134e-23, 1.1722887992420382e-23, 1.1296182084733663e-23]"
        ],
        [
         "38",
         "38",
         "[9098, 504691, 282821, 209500, 562501, 80426, 427412, 8910, 126601, 350335]",
         "[9.97961045398621e-13, 2.6177050674709283e-23, 2.3314334403091028e-23, 1.8336669422800757e-23, 1.614408575700232e-23, 1.6141846969753303e-23, 1.6031056188780443e-23, 1.601251953522956e-23, 1.360098436974341e-23, 1.2951131011214108e-23]"
        ],
        [
         "39",
         "39",
         "[9098, 58616, 83145, 15643, 568244, 29336, 427770, 562501, 80426, 504691]",
         "[2.894835521467798e-13, 1.3418940516367368e-23, 1.1012845335683622e-23, 1.0397842274225174e-23, 8.743918078060611e-24, 7.555417082811014e-24, 6.618143042325342e-24, 4.77612876837667e-24, 4.686064518827587e-24, 4.469309996760915e-24]"
        ],
        [
         "40",
         "40",
         "[9098, 112845, 668078, 209994, 126601, 486976, 91113, 170709, 886899, 15643]",
         "[0.9900983572006226, 1.0114573566720464e-13, 9.894033292309756e-14, 9.375562392416326e-14, 9.339408993348439e-14, 9.27702806610177e-14, 9.170598037466088e-14, 9.1621107673346e-14, 9.078448306694756e-14, 9.073452167558671e-14]"
        ],
        [
         "41",
         "41",
         "[427770, 562501, 6356, 80426, 599686, 43524, 42641, 58436, 350335, 126601]",
         "[1.1622963178771262e-24, 6.535896502954612e-25, 6.253044015892764e-25, 5.807393810782389e-25, 5.126248903940912e-25, 5.10512123674683e-25, 4.988045403726848e-25, 4.690571872824794e-25, 4.2113507058166075e-25, 4.158941252464052e-25]"
        ],
        [
         "42",
         "42",
         "[15643, 9106, 696106, 690843, 427770, 15626, 350335, 170424, 699153, 289481]",
         "[2.7397508425229383e-23, 2.2096721284995154e-23, 1.7645753487571986e-23, 1.617874830517773e-23, 1.432109289163079e-23, 1.381510961841298e-23, 1.3561735384265044e-23, 1.3109326810564414e-23, 1.2860890845683161e-23, 1.2784318484196073e-23]"
        ],
        [
         "43",
         "43",
         "[493656, 427770, 39466, 377703, 6366, 568244, 244930, 562231, 278338, 696106]",
         "[6.961641952767702e-23, 6.023031897452947e-23, 4.732817070350325e-23, 4.551745409153877e-23, 4.519574399261516e-23, 4.119094645685413e-23, 3.7041310903450907e-23, 3.595968793908427e-23, 3.348945521136244e-23, 3.3227846847085805e-23]"
        ],
        [
         "44",
         "44",
         "[9098, 15643, 146858, 150671, 8910, 568244, 64267, 92014, 58616, 112845]",
         "[1.7914214220111219e-13, 1.0197093108836712e-22, 8.227560495078241e-23, 8.176339440957878e-23, 8.062320641160854e-23, 7.982118730648844e-23, 7.728494900910496e-23, 7.60766160506981e-23, 7.054885942853549e-23, 6.573144365253182e-23]"
        ],
        [
         "45",
         "45",
         "[15636, 34954, 590153, 270458, 137673, 606716, 112842, 7839, 738851, 43524]",
         "[2.0271230885997695e-23, 8.675769962180379e-24, 7.449254548769086e-24, 7.270207577971978e-24, 7.097525925819099e-24, 6.375239358972404e-24, 5.875016348084518e-24, 5.811957173903866e-24, 5.740764449359933e-24, 5.732199392081496e-24]"
        ],
        [
         "46",
         "46",
         "[1536, 169233, 39466, 696106, 334251, 155827, 231021, 427770, 562501, 83145]",
         "[4.6160867978498754e-23, 4.497198517457103e-23, 4.146260490906328e-23, 4.1319420343878426e-23, 3.381045849091497e-23, 3.099532946454327e-23, 3.065085283989498e-23, 2.605536730235713e-23, 2.410348245368154e-23, 2.3578094779917105e-23]"
        ],
        [
         "47",
         "47",
         "[83145, 29336, 427770, 112845, 504691, 170424, 568244, 64267, 562501, 58436]",
         "[6.851540162909462e-24, 4.602350205135081e-24, 4.360074060632246e-24, 4.1271534120348795e-24, 3.8186303064333944e-24, 3.192537635584576e-24, 3.0671821157186206e-24, 2.731743273246221e-24, 2.6958380719298602e-24, 2.620205638211343e-24]"
        ],
        [
         "48",
         "48",
         "[9098, 27812, 126601, 368072, 372744, 493656, 9106, 39467, 1966, 121690]",
         "[7.022368797571232e-13, 4.4678109243827236e-23, 3.4283863386468964e-23, 3.02635126691006e-23, 2.6445280737424342e-23, 2.488948137153841e-23, 2.4620194235210355e-23, 2.4285545239719308e-23, 2.1880273629820613e-23, 2.1466990979297136e-23]"
        ],
        [
         "49",
         "49",
         "[9098, 58616, 15643, 504691, 29336, 126601, 112845, 330585, 568244, 265629]",
         "[7.721071910082519e-14, 7.923418644058263e-23, 4.5704322618211146e-23, 4.410396681067652e-23, 4.14741664544902e-23, 4.075969197718791e-23, 3.609792476867158e-23, 3.286571867082229e-23, 3.244282296130779e-23, 2.9466826263699795e-23]"
        ]
       ],
       "shape": {
        "columns": 3,
        "rows": 274644
       }
      },
      "text/html": [
       "<div>\n",
       "<style scoped>\n",
       "    .dataframe tbody tr th:only-of-type {\n",
       "        vertical-align: middle;\n",
       "    }\n",
       "\n",
       "    .dataframe tbody tr th {\n",
       "        vertical-align: top;\n",
       "    }\n",
       "\n",
       "    .dataframe thead th {\n",
       "        text-align: right;\n",
       "    }\n",
       "</style>\n",
       "<table border=\"1\" class=\"dataframe\">\n",
       "  <thead>\n",
       "    <tr style=\"text-align: right;\">\n",
       "      <th></th>\n",
       "      <th>user_id_enc</th>\n",
       "      <th>track_id_enc</th>\n",
       "      <th>score</th>\n",
       "    </tr>\n",
       "  </thead>\n",
       "  <tbody>\n",
       "    <tr>\n",
       "      <th>0</th>\n",
       "      <td>0</td>\n",
       "      <td>[9098, 126601, 265629, 15636, 377703, 696106, ...</td>\n",
       "      <td>[2.770947533925483e-13, 6.807570476002072e-23,...</td>\n",
       "    </tr>\n",
       "    <tr>\n",
       "      <th>1</th>\n",
       "      <td>1</td>\n",
       "      <td>[9098, 504691, 83145, 58616, 427412, 92014, 26...</td>\n",
       "      <td>[3.540543509414351e-12, 1.2764221306002482e-22...</td>\n",
       "    </tr>\n",
       "    <tr>\n",
       "      <th>2</th>\n",
       "      <td>2</td>\n",
       "      <td>[265629, 27812, 23039, 39466, 394794, 60200, 6...</td>\n",
       "      <td>[3.4989979093619534e-23, 2.1696775116935343e-2...</td>\n",
       "    </tr>\n",
       "    <tr>\n",
       "      <th>3</th>\n",
       "      <td>3</td>\n",
       "      <td>[112845, 330585, 27812, 169233, 6366, 427048, ...</td>\n",
       "      <td>[1.2621135821747322e-22, 8.151485273733623e-23...</td>\n",
       "    </tr>\n",
       "    <tr>\n",
       "      <th>4</th>\n",
       "      <td>4</td>\n",
       "      <td>[15636, 504691, 4018, 126601, 34954, 1966, 586...</td>\n",
       "      <td>[5.5377335432461645e-25, 4.752791304571838e-25...</td>\n",
       "    </tr>\n",
       "    <tr>\n",
       "      <th>...</th>\n",
       "      <td>...</td>\n",
       "      <td>...</td>\n",
       "      <td>...</td>\n",
       "    </tr>\n",
       "    <tr>\n",
       "      <th>274639</th>\n",
       "      <td>274639</td>\n",
       "      <td>[9098, 58616, 1536, 27812, 15643, 169233, 5682...</td>\n",
       "      <td>[3.1415866544488857e-13, 3.4204595487268736e-2...</td>\n",
       "    </tr>\n",
       "    <tr>\n",
       "      <th>274640</th>\n",
       "      <td>274640</td>\n",
       "      <td>[504691, 427412, 23039, 121690, 265629, 3448, ...</td>\n",
       "      <td>[7.854813462169545e-24, 7.720001866632705e-24,...</td>\n",
       "    </tr>\n",
       "    <tr>\n",
       "      <th>274641</th>\n",
       "      <td>274641</td>\n",
       "      <td>[9, 8, 7, 6, 5, 4, 3, 2, 1, 0]</td>\n",
       "      <td>[0.0, 0.0, 0.0, 0.0, 0.0, 0.0, 0.0, 0.0, 0.0, ...</td>\n",
       "    </tr>\n",
       "    <tr>\n",
       "      <th>274642</th>\n",
       "      <td>274642</td>\n",
       "      <td>[696106, 209500, 699153, 377703, 90461, 330585...</td>\n",
       "      <td>[6.094478714094452e-23, 4.304484531477041e-23,...</td>\n",
       "    </tr>\n",
       "    <tr>\n",
       "      <th>274643</th>\n",
       "      <td>274643</td>\n",
       "      <td>[9098, 83145, 7606, 64267, 150671, 427770, 350...</td>\n",
       "      <td>[4.817585675005731e-13, 1.4783595729474627e-23...</td>\n",
       "    </tr>\n",
       "  </tbody>\n",
       "</table>\n",
       "<p>274644 rows × 3 columns</p>\n",
       "</div>"
      ],
      "text/plain": [
       "        user_id_enc                                       track_id_enc  \\\n",
       "0                 0  [9098, 126601, 265629, 15636, 377703, 696106, ...   \n",
       "1                 1  [9098, 504691, 83145, 58616, 427412, 92014, 26...   \n",
       "2                 2  [265629, 27812, 23039, 39466, 394794, 60200, 6...   \n",
       "3                 3  [112845, 330585, 27812, 169233, 6366, 427048, ...   \n",
       "4                 4  [15636, 504691, 4018, 126601, 34954, 1966, 586...   \n",
       "...             ...                                                ...   \n",
       "274639       274639  [9098, 58616, 1536, 27812, 15643, 169233, 5682...   \n",
       "274640       274640  [504691, 427412, 23039, 121690, 265629, 3448, ...   \n",
       "274641       274641                     [9, 8, 7, 6, 5, 4, 3, 2, 1, 0]   \n",
       "274642       274642  [696106, 209500, 699153, 377703, 90461, 330585...   \n",
       "274643       274643  [9098, 83145, 7606, 64267, 150671, 427770, 350...   \n",
       "\n",
       "                                                    score  \n",
       "0       [2.770947533925483e-13, 6.807570476002072e-23,...  \n",
       "1       [3.540543509414351e-12, 1.2764221306002482e-22...  \n",
       "2       [3.4989979093619534e-23, 2.1696775116935343e-2...  \n",
       "3       [1.2621135821747322e-22, 8.151485273733623e-23...  \n",
       "4       [5.5377335432461645e-25, 4.752791304571838e-25...  \n",
       "...                                                   ...  \n",
       "274639  [3.1415866544488857e-13, 3.4204595487268736e-2...  \n",
       "274640  [7.854813462169545e-24, 7.720001866632705e-24,...  \n",
       "274641  [0.0, 0.0, 0.0, 0.0, 0.0, 0.0, 0.0, 0.0, 0.0, ...  \n",
       "274642  [6.094478714094452e-23, 4.304484531477041e-23,...  \n",
       "274643  [4.817585675005731e-13, 1.4783595729474627e-23...  \n",
       "\n",
       "[274644 rows x 3 columns]"
      ]
     },
     "execution_count": 11,
     "metadata": {},
     "output_type": "execute_result"
    }
   ],
   "source": [
    "personal_als"
   ]
  },
  {
   "cell_type": "code",
   "execution_count": 12,
   "id": "138de258",
   "metadata": {},
   "outputs": [
    {
     "data": {
      "application/vnd.microsoft.datawrangler.viewer.v0+json": {
       "columns": [
        {
         "name": "index",
         "rawType": "int64",
         "type": "integer"
        },
        {
         "name": "user_id",
         "rawType": "int32",
         "type": "integer"
        },
        {
         "name": "track_id",
         "rawType": "int64",
         "type": "integer"
        },
        {
         "name": "score",
         "rawType": "float64",
         "type": "float"
        }
       ],
       "ref": "00f35ba3-f129-4220-a5d7-712acd4cb618",
       "rows": [
        [
         "0",
         "4",
         "53404",
         "2.770947533925483e-13"
        ],
        [
         "1",
         "4",
         "2280250",
         "6.807570476002072e-23"
        ],
        [
         "2",
         "4",
         "16549426",
         "5.593083140357046e-23"
        ],
        [
         "3",
         "4",
         "96079",
         "4.955009210636686e-23"
        ],
        [
         "4",
         "4",
         "25427084",
         "4.884204842316393e-23"
        ],
        [
         "5",
         "4",
         "51241318",
         "4.689409210179634e-23"
        ],
        [
         "6",
         "4",
         "34976783",
         "4.2226335861287573e-23"
        ],
        [
         "7",
         "4",
         "137670",
         "3.0473980758613566e-23"
        ],
        [
         "8",
         "4",
         "366604",
         "3.011225016824628e-23"
        ],
        [
         "9",
         "4",
         "29569939",
         "2.8363187769190254e-23"
        ],
        [
         "10",
         "10",
         "53404",
         "3.540543509414351e-12"
        ],
        [
         "11",
         "10",
         "34976783",
         "1.2764221306002482e-22"
        ],
        [
         "12",
         "10",
         "732401",
         "9.522059783529299e-23"
        ],
        [
         "13",
         "10",
         "560468",
         "9.333419159719436e-23"
        ],
        [
         "14",
         "10",
         "29569939",
         "8.389065565925949e-23"
        ],
        [
         "15",
         "10",
         "805089",
         "6.565448238261846e-23"
        ],
        [
         "16",
         "10",
         "16549426",
         "6.164030371297254e-23"
        ],
        [
         "17",
         "10",
         "2280250",
         "6.029953678579718e-23"
        ],
        [
         "18",
         "10",
         "4816620",
         "5.440844345246426e-23"
        ],
        [
         "19",
         "10",
         "39089632",
         "5.420681691597701e-23"
        ],
        [
         "20",
         "13",
         "16549426",
         "3.4989979093619534e-23"
        ],
        [
         "21",
         "13",
         "198009",
         "2.1696775116935343e-23"
        ],
        [
         "22",
         "13",
         "137670",
         "2.093096788280851e-23"
        ],
        [
         "23",
         "13",
         "328683",
         "1.8132785166402765e-23"
        ],
        [
         "24",
         "13",
         "26696134",
         "1.5448289928213852e-23"
        ],
        [
         "25",
         "13",
         "582507",
         "1.4091218823849387e-23"
        ],
        [
         "26",
         "13",
         "595258",
         "1.355008864186036e-23"
        ],
        [
         "27",
         "13",
         "38633712",
         "1.3464295285252144e-23"
        ],
        [
         "28",
         "13",
         "648937",
         "1.3444600583892397e-23"
        ],
        [
         "29",
         "13",
         "41625041",
         "1.301777398048718e-23"
        ],
        [
         "30",
         "19",
         "1710811",
         "1.2621135821747322e-22"
        ],
        [
         "31",
         "19",
         "21519270",
         "8.151485273733623e-23"
        ],
        [
         "32",
         "19",
         "198009",
         "5.195727907054343e-23"
        ],
        [
         "33",
         "19",
         "4427406",
         "5.091360978204879e-23"
        ],
        [
         "34",
         "19",
         "36246",
         "5.0053562068740634e-23"
        ],
        [
         "35",
         "19",
         "29544272",
         "4.752350844085408e-23"
        ],
        [
         "36",
         "19",
         "43117",
         "4.6471502470313063e-23"
        ],
        [
         "37",
         "19",
         "366604",
         "4.454702264948485e-23"
        ],
        [
         "38",
         "19",
         "96079",
         "4.360664996336347e-23"
        ],
        [
         "39",
         "19",
         "654151",
         "4.330280283077768e-23"
        ],
        [
         "40",
         "27",
         "96079",
         "5.5377335432461645e-25"
        ],
        [
         "41",
         "27",
         "34976783",
         "4.752791304571838e-25"
        ],
        [
         "42",
         "27",
         "22771",
         "4.050869034082004e-25"
        ],
        [
         "43",
         "27",
         "2280250",
         "3.91074662971599e-25"
        ],
        [
         "44",
         "27",
         "280972",
         "3.592005408809177e-25"
        ],
        [
         "45",
         "27",
         "9769",
         "3.224459828886669e-25"
        ],
        [
         "46",
         "27",
         "560473",
         "2.8078318164793755e-25"
        ],
        [
         "47",
         "27",
         "17902234",
         "2.8010463800993104e-25"
        ],
        [
         "48",
         "27",
         "648937",
         "2.3454488854931316e-25"
        ],
        [
         "49",
         "27",
         "63827",
         "2.2363494223010657e-25"
        ]
       ],
       "shape": {
        "columns": 3,
        "rows": 2746440
       }
      },
      "text/html": [
       "<div>\n",
       "<style scoped>\n",
       "    .dataframe tbody tr th:only-of-type {\n",
       "        vertical-align: middle;\n",
       "    }\n",
       "\n",
       "    .dataframe tbody tr th {\n",
       "        vertical-align: top;\n",
       "    }\n",
       "\n",
       "    .dataframe thead th {\n",
       "        text-align: right;\n",
       "    }\n",
       "</style>\n",
       "<table border=\"1\" class=\"dataframe\">\n",
       "  <thead>\n",
       "    <tr style=\"text-align: right;\">\n",
       "      <th></th>\n",
       "      <th>user_id</th>\n",
       "      <th>track_id</th>\n",
       "      <th>score</th>\n",
       "    </tr>\n",
       "  </thead>\n",
       "  <tbody>\n",
       "    <tr>\n",
       "      <th>0</th>\n",
       "      <td>4</td>\n",
       "      <td>53404</td>\n",
       "      <td>2.770948e-13</td>\n",
       "    </tr>\n",
       "    <tr>\n",
       "      <th>1</th>\n",
       "      <td>4</td>\n",
       "      <td>2280250</td>\n",
       "      <td>6.807570e-23</td>\n",
       "    </tr>\n",
       "    <tr>\n",
       "      <th>2</th>\n",
       "      <td>4</td>\n",
       "      <td>16549426</td>\n",
       "      <td>5.593083e-23</td>\n",
       "    </tr>\n",
       "    <tr>\n",
       "      <th>3</th>\n",
       "      <td>4</td>\n",
       "      <td>96079</td>\n",
       "      <td>4.955009e-23</td>\n",
       "    </tr>\n",
       "    <tr>\n",
       "      <th>4</th>\n",
       "      <td>4</td>\n",
       "      <td>25427084</td>\n",
       "      <td>4.884205e-23</td>\n",
       "    </tr>\n",
       "    <tr>\n",
       "      <th>...</th>\n",
       "      <td>...</td>\n",
       "      <td>...</td>\n",
       "      <td>...</td>\n",
       "    </tr>\n",
       "    <tr>\n",
       "      <th>2746435</th>\n",
       "      <td>1374582</td>\n",
       "      <td>29611476</td>\n",
       "      <td>8.710325e-24</td>\n",
       "    </tr>\n",
       "    <tr>\n",
       "      <th>2746436</th>\n",
       "      <td>1374582</td>\n",
       "      <td>23559960</td>\n",
       "      <td>8.408570e-24</td>\n",
       "    </tr>\n",
       "    <tr>\n",
       "      <th>2746437</th>\n",
       "      <td>1374582</td>\n",
       "      <td>96079</td>\n",
       "      <td>8.009687e-24</td>\n",
       "    </tr>\n",
       "    <tr>\n",
       "      <th>2746438</th>\n",
       "      <td>1374582</td>\n",
       "      <td>4427406</td>\n",
       "      <td>7.241026e-24</td>\n",
       "    </tr>\n",
       "    <tr>\n",
       "      <th>2746439</th>\n",
       "      <td>1374582</td>\n",
       "      <td>41625041</td>\n",
       "      <td>7.240972e-24</td>\n",
       "    </tr>\n",
       "  </tbody>\n",
       "</table>\n",
       "<p>2746440 rows × 3 columns</p>\n",
       "</div>"
      ],
      "text/plain": [
       "         user_id  track_id         score\n",
       "0              4     53404  2.770948e-13\n",
       "1              4   2280250  6.807570e-23\n",
       "2              4  16549426  5.593083e-23\n",
       "3              4     96079  4.955009e-23\n",
       "4              4  25427084  4.884205e-23\n",
       "...          ...       ...           ...\n",
       "2746435  1374582  29611476  8.710325e-24\n",
       "2746436  1374582  23559960  8.408570e-24\n",
       "2746437  1374582     96079  8.009687e-24\n",
       "2746438  1374582   4427406  7.241026e-24\n",
       "2746439  1374582  41625041  7.240972e-24\n",
       "\n",
       "[2746440 rows x 3 columns]"
      ]
     },
     "execution_count": 12,
     "metadata": {},
     "output_type": "execute_result"
    }
   ],
   "source": [
    "# т.к. в track_id_enc и score у нас щас list разворачиваем их\n",
    "personal_als = personal_als.explode([\"track_id_enc\", \"score\"], ignore_index=True)\n",
    "\n",
    "# Исправляем типы данных\n",
    "personal_als['track_id_enc'] = personal_als['track_id_enc'].astype('int')\n",
    "personal_als['score'] = personal_als['score'].astype('float')\n",
    "\n",
    "# декодируем id в новые поля\n",
    "personal_als['user_id'] = u_encoder.inverse_transform(personal_als['user_id_enc'])\n",
    "personal_als['track_id'] = i_encoder.inverse_transform(personal_als['track_id_enc'])\n",
    "\n",
    "# удаляем уже ненужные поля\n",
    "personal_als = personal_als.drop(columns=['user_id_enc', 'track_id_enc'])\n",
    "\n",
    "personal_als = personal_als[['user_id', 'track_id', 'score']]\n",
    "personal_als"
   ]
  },
  {
   "cell_type": "code",
   "execution_count": 13,
   "id": "c20dd08f",
   "metadata": {},
   "outputs": [
    {
     "name": "stdout",
     "output_type": "stream",
     "text": [
      "Пользователь с user_id: 441150\n",
      "История (10 последних событий)\n"
     ]
    },
    {
     "data": {
      "application/vnd.microsoft.datawrangler.viewer.v0+json": {
       "columns": [
        {
         "name": "index",
         "rawType": "int64",
         "type": "integer"
        },
        {
         "name": "user_id",
         "rawType": "int32",
         "type": "integer"
        },
        {
         "name": "track_id",
         "rawType": "int32",
         "type": "integer"
        },
        {
         "name": "track",
         "rawType": "object",
         "type": "string"
        },
        {
         "name": "artist",
         "rawType": "object",
         "type": "string"
        },
        {
         "name": "album",
         "rawType": "object",
         "type": "string"
        },
        {
         "name": "genre",
         "rawType": "object",
         "type": "string"
        }
       ],
       "ref": "18f88de2-366d-43c2-af8a-366cd7d52a37",
       "rows": [
        [
         "340",
         "441150",
         "70110700",
         "Бойцовский клуб",
         "LOUNA",
         "The Best Of",
         "numetal"
        ],
        [
         "341",
         "441150",
         "70110746",
         "Мама",
         "LOUNA",
         "The Best Of",
         "numetal"
        ],
        [
         "342",
         "441150",
         "71239584",
         "Дед Агван (Стих)",
         "Игорь Растеряев",
         "Дождь над Медведицей",
         "rusbards"
        ],
        [
         "343",
         "441150",
         "75099809",
         "Колхозный панк",
         "Голос Омерики",
         "Трибьют Сектор Газа",
         "rusrock"
        ],
        [
         "344",
         "441150",
         "75099811",
         "Ночь перед Рождеством",
         "ДДТ",
         "Трибьют Сектор Газа",
         "rusrock"
        ],
        [
         "345",
         "441150",
         "75732979",
         "Наступает ночь",
         "Мираж",
         "Снова вмeстe",
         "rusestrada"
        ],
        [
         "346",
         "441150",
         "79986424",
         "Всё идёт по плану",
         "Александр Пушной",
         "Каверы Пушного",
         "rusrock"
        ],
        [
         "347",
         "441150",
         "81848875",
         "Федерико Феллини",
         "Galibri & Mavik",
         "Федерико Феллини",
         "pop"
        ],
        [
         "348",
         "441150",
         "82783144",
         "На часах ноль-ноль",
         "Dabro",
         "На часах ноль-ноль",
         "pop"
        ],
        [
         "349",
         "441150",
         "84245339",
         "Бухгалтер",
         "Комбинация",
         "Московская прописка",
         "rusestrada"
        ]
       ],
       "shape": {
        "columns": 6,
        "rows": 10
       }
      },
      "text/html": [
       "<div>\n",
       "<style scoped>\n",
       "    .dataframe tbody tr th:only-of-type {\n",
       "        vertical-align: middle;\n",
       "    }\n",
       "\n",
       "    .dataframe tbody tr th {\n",
       "        vertical-align: top;\n",
       "    }\n",
       "\n",
       "    .dataframe thead th {\n",
       "        text-align: right;\n",
       "    }\n",
       "</style>\n",
       "<table border=\"1\" class=\"dataframe\">\n",
       "  <thead>\n",
       "    <tr style=\"text-align: right;\">\n",
       "      <th></th>\n",
       "      <th>user_id</th>\n",
       "      <th>track_id</th>\n",
       "      <th>track</th>\n",
       "      <th>artist</th>\n",
       "      <th>album</th>\n",
       "      <th>genre</th>\n",
       "    </tr>\n",
       "  </thead>\n",
       "  <tbody>\n",
       "    <tr>\n",
       "      <th>340</th>\n",
       "      <td>441150</td>\n",
       "      <td>70110700</td>\n",
       "      <td>Бойцовский клуб</td>\n",
       "      <td>LOUNA</td>\n",
       "      <td>The Best Of</td>\n",
       "      <td>numetal</td>\n",
       "    </tr>\n",
       "    <tr>\n",
       "      <th>341</th>\n",
       "      <td>441150</td>\n",
       "      <td>70110746</td>\n",
       "      <td>Мама</td>\n",
       "      <td>LOUNA</td>\n",
       "      <td>The Best Of</td>\n",
       "      <td>numetal</td>\n",
       "    </tr>\n",
       "    <tr>\n",
       "      <th>342</th>\n",
       "      <td>441150</td>\n",
       "      <td>71239584</td>\n",
       "      <td>Дед Агван (Стих)</td>\n",
       "      <td>Игорь Растеряев</td>\n",
       "      <td>Дождь над Медведицей</td>\n",
       "      <td>rusbards</td>\n",
       "    </tr>\n",
       "    <tr>\n",
       "      <th>343</th>\n",
       "      <td>441150</td>\n",
       "      <td>75099809</td>\n",
       "      <td>Колхозный панк</td>\n",
       "      <td>Голос Омерики</td>\n",
       "      <td>Трибьют Сектор Газа</td>\n",
       "      <td>rusrock</td>\n",
       "    </tr>\n",
       "    <tr>\n",
       "      <th>344</th>\n",
       "      <td>441150</td>\n",
       "      <td>75099811</td>\n",
       "      <td>Ночь перед Рождеством</td>\n",
       "      <td>ДДТ</td>\n",
       "      <td>Трибьют Сектор Газа</td>\n",
       "      <td>rusrock</td>\n",
       "    </tr>\n",
       "    <tr>\n",
       "      <th>345</th>\n",
       "      <td>441150</td>\n",
       "      <td>75732979</td>\n",
       "      <td>Наступает ночь</td>\n",
       "      <td>Мираж</td>\n",
       "      <td>Снова вмeстe</td>\n",
       "      <td>rusestrada</td>\n",
       "    </tr>\n",
       "    <tr>\n",
       "      <th>346</th>\n",
       "      <td>441150</td>\n",
       "      <td>79986424</td>\n",
       "      <td>Всё идёт по плану</td>\n",
       "      <td>Александр Пушной</td>\n",
       "      <td>Каверы Пушного</td>\n",
       "      <td>rusrock</td>\n",
       "    </tr>\n",
       "    <tr>\n",
       "      <th>347</th>\n",
       "      <td>441150</td>\n",
       "      <td>81848875</td>\n",
       "      <td>Федерико Феллини</td>\n",
       "      <td>Galibri &amp; Mavik</td>\n",
       "      <td>Федерико Феллини</td>\n",
       "      <td>pop</td>\n",
       "    </tr>\n",
       "    <tr>\n",
       "      <th>348</th>\n",
       "      <td>441150</td>\n",
       "      <td>82783144</td>\n",
       "      <td>На часах ноль-ноль</td>\n",
       "      <td>Dabro</td>\n",
       "      <td>На часах ноль-ноль</td>\n",
       "      <td>pop</td>\n",
       "    </tr>\n",
       "    <tr>\n",
       "      <th>349</th>\n",
       "      <td>441150</td>\n",
       "      <td>84245339</td>\n",
       "      <td>Бухгалтер</td>\n",
       "      <td>Комбинация</td>\n",
       "      <td>Московская прописка</td>\n",
       "      <td>rusestrada</td>\n",
       "    </tr>\n",
       "  </tbody>\n",
       "</table>\n",
       "</div>"
      ],
      "text/plain": [
       "     user_id  track_id                  track            artist  \\\n",
       "340   441150  70110700        Бойцовский клуб             LOUNA   \n",
       "341   441150  70110746                   Мама             LOUNA   \n",
       "342   441150  71239584       Дед Агван (Стих)   Игорь Растеряев   \n",
       "343   441150  75099809         Колхозный панк     Голос Омерики   \n",
       "344   441150  75099811  Ночь перед Рождеством               ДДТ   \n",
       "345   441150  75732979         Наступает ночь             Мираж   \n",
       "346   441150  79986424      Всё идёт по плану  Александр Пушной   \n",
       "347   441150  81848875       Федерико Феллини   Galibri & Mavik   \n",
       "348   441150  82783144     На часах ноль-ноль             Dabro   \n",
       "349   441150  84245339              Бухгалтер        Комбинация   \n",
       "\n",
       "                    album       genre  \n",
       "340           The Best Of     numetal  \n",
       "341           The Best Of     numetal  \n",
       "342  Дождь над Медведицей    rusbards  \n",
       "343   Трибьют Сектор Газа     rusrock  \n",
       "344   Трибьют Сектор Газа     rusrock  \n",
       "345          Снова вмeстe  rusestrada  \n",
       "346        Каверы Пушного     rusrock  \n",
       "347      Федерико Феллини         pop  \n",
       "348    На часах ноль-ноль         pop  \n",
       "349   Московская прописка  rusestrada  "
      ]
     },
     "metadata": {},
     "output_type": "display_data"
    },
    {
     "name": "stdout",
     "output_type": "stream",
     "text": [
      "Рекомендации\n",
      "Рекомендации для пользователя с 'user_id=441150'\n"
     ]
    },
    {
     "data": {
      "application/vnd.microsoft.datawrangler.viewer.v0+json": {
       "columns": [
        {
         "name": "index",
         "rawType": "int64",
         "type": "integer"
        },
        {
         "name": "user_id",
         "rawType": "int32",
         "type": "integer"
        },
        {
         "name": "track_id",
         "rawType": "int64",
         "type": "integer"
        },
        {
         "name": "track",
         "rawType": "object",
         "type": "string"
        },
        {
         "name": "album",
         "rawType": "object",
         "type": "string"
        },
        {
         "name": "artist",
         "rawType": "object",
         "type": "string"
        },
        {
         "name": "genre",
         "rawType": "object",
         "type": "string"
        }
       ],
       "ref": "e741d8e7-d592-44c3-93cc-607f8f5f62a4",
       "rows": [
        [
         "0",
         "441150",
         "53404",
         "Smells Like Teen Spirit",
         "Nevermind",
         "Nirvana",
         "alternative"
        ],
        [
         "1",
         "441150",
         "34084451",
         "Моё сердце",
         "25-й кадр",
         "Сплин",
         "rusrock"
        ],
        [
         "2",
         "441150",
         "53412",
         "Come As You Are",
         "Nevermind",
         "Nirvana",
         "alternative"
        ],
        [
         "3",
         "441150",
         "16549426",
         "Happy",
         "Happy (From \"Despicable Me 2\")",
         "Pharrell Williams",
         "pop"
        ],
        [
         "4",
         "441150",
         "580880",
         "Мой рок-н-ролл",
         "Мяу кисс ми",
         "Би-2",
         "rusrock"
        ],
        [
         "5",
         "441150",
         "1710811",
         "We Will Rock You",
         "Greatest Hits",
         "Queen",
         "rock"
        ],
        [
         "6",
         "441150",
         "234701",
         "U Can't Touch This",
         "Hip To The Hop: 30th Anniversary Of Hip Hop Hip To Da Hop",
         "MC Hammer",
         "films"
        ],
        [
         "7",
         "441150",
         "732388",
         "ариведерчи",
         "земфира",
         "Земфира",
         "rusrock"
        ],
        [
         "8",
         "441150",
         "560468",
         "Варвара",
         "Би-2",
         "Би-2",
         "rusrock"
        ],
        [
         "9",
         "441150",
         "133049",
         "Dani California",
         "Dani California",
         "Red Hot Chili Peppers",
         "rock"
        ]
       ],
       "shape": {
        "columns": 6,
        "rows": 10
       }
      },
      "text/html": [
       "<div>\n",
       "<style scoped>\n",
       "    .dataframe tbody tr th:only-of-type {\n",
       "        vertical-align: middle;\n",
       "    }\n",
       "\n",
       "    .dataframe tbody tr th {\n",
       "        vertical-align: top;\n",
       "    }\n",
       "\n",
       "    .dataframe thead th {\n",
       "        text-align: right;\n",
       "    }\n",
       "</style>\n",
       "<table border=\"1\" class=\"dataframe\">\n",
       "  <thead>\n",
       "    <tr style=\"text-align: right;\">\n",
       "      <th></th>\n",
       "      <th>user_id</th>\n",
       "      <th>track_id</th>\n",
       "      <th>track</th>\n",
       "      <th>album</th>\n",
       "      <th>artist</th>\n",
       "      <th>genre</th>\n",
       "    </tr>\n",
       "  </thead>\n",
       "  <tbody>\n",
       "    <tr>\n",
       "      <th>0</th>\n",
       "      <td>441150</td>\n",
       "      <td>53404</td>\n",
       "      <td>Smells Like Teen Spirit</td>\n",
       "      <td>Nevermind</td>\n",
       "      <td>Nirvana</td>\n",
       "      <td>alternative</td>\n",
       "    </tr>\n",
       "    <tr>\n",
       "      <th>1</th>\n",
       "      <td>441150</td>\n",
       "      <td>34084451</td>\n",
       "      <td>Моё сердце</td>\n",
       "      <td>25-й кадр</td>\n",
       "      <td>Сплин</td>\n",
       "      <td>rusrock</td>\n",
       "    </tr>\n",
       "    <tr>\n",
       "      <th>2</th>\n",
       "      <td>441150</td>\n",
       "      <td>53412</td>\n",
       "      <td>Come As You Are</td>\n",
       "      <td>Nevermind</td>\n",
       "      <td>Nirvana</td>\n",
       "      <td>alternative</td>\n",
       "    </tr>\n",
       "    <tr>\n",
       "      <th>3</th>\n",
       "      <td>441150</td>\n",
       "      <td>16549426</td>\n",
       "      <td>Happy</td>\n",
       "      <td>Happy (From \"Despicable Me 2\")</td>\n",
       "      <td>Pharrell Williams</td>\n",
       "      <td>pop</td>\n",
       "    </tr>\n",
       "    <tr>\n",
       "      <th>4</th>\n",
       "      <td>441150</td>\n",
       "      <td>580880</td>\n",
       "      <td>Мой рок-н-ролл</td>\n",
       "      <td>Мяу кисс ми</td>\n",
       "      <td>Би-2</td>\n",
       "      <td>rusrock</td>\n",
       "    </tr>\n",
       "    <tr>\n",
       "      <th>5</th>\n",
       "      <td>441150</td>\n",
       "      <td>1710811</td>\n",
       "      <td>We Will Rock You</td>\n",
       "      <td>Greatest Hits</td>\n",
       "      <td>Queen</td>\n",
       "      <td>rock</td>\n",
       "    </tr>\n",
       "    <tr>\n",
       "      <th>6</th>\n",
       "      <td>441150</td>\n",
       "      <td>234701</td>\n",
       "      <td>U Can't Touch This</td>\n",
       "      <td>Hip To The Hop: 30th Anniversary Of Hip Hop Hi...</td>\n",
       "      <td>MC Hammer</td>\n",
       "      <td>films</td>\n",
       "    </tr>\n",
       "    <tr>\n",
       "      <th>7</th>\n",
       "      <td>441150</td>\n",
       "      <td>732388</td>\n",
       "      <td>ариведерчи</td>\n",
       "      <td>земфира</td>\n",
       "      <td>Земфира</td>\n",
       "      <td>rusrock</td>\n",
       "    </tr>\n",
       "    <tr>\n",
       "      <th>8</th>\n",
       "      <td>441150</td>\n",
       "      <td>560468</td>\n",
       "      <td>Варвара</td>\n",
       "      <td>Би-2</td>\n",
       "      <td>Би-2</td>\n",
       "      <td>rusrock</td>\n",
       "    </tr>\n",
       "    <tr>\n",
       "      <th>9</th>\n",
       "      <td>441150</td>\n",
       "      <td>133049</td>\n",
       "      <td>Dani California</td>\n",
       "      <td>Dani California</td>\n",
       "      <td>Red Hot Chili Peppers</td>\n",
       "      <td>rock</td>\n",
       "    </tr>\n",
       "  </tbody>\n",
       "</table>\n",
       "</div>"
      ],
      "text/plain": [
       "   user_id  track_id                    track  \\\n",
       "0   441150     53404  Smells Like Teen Spirit   \n",
       "1   441150  34084451               Моё сердце   \n",
       "2   441150     53412          Come As You Are   \n",
       "3   441150  16549426                    Happy   \n",
       "4   441150    580880           Мой рок-н-ролл   \n",
       "5   441150   1710811         We Will Rock You   \n",
       "6   441150    234701       U Can't Touch This   \n",
       "7   441150    732388               ариведерчи   \n",
       "8   441150    560468                  Варвара   \n",
       "9   441150    133049          Dani California   \n",
       "\n",
       "                                               album                 artist  \\\n",
       "0                                          Nevermind                Nirvana   \n",
       "1                                          25-й кадр                  Сплин   \n",
       "2                                          Nevermind                Nirvana   \n",
       "3                     Happy (From \"Despicable Me 2\")      Pharrell Williams   \n",
       "4                                        Мяу кисс ми                   Би-2   \n",
       "5                                      Greatest Hits                  Queen   \n",
       "6  Hip To The Hop: 30th Anniversary Of Hip Hop Hi...              MC Hammer   \n",
       "7                                            земфира                Земфира   \n",
       "8                                               Би-2                   Би-2   \n",
       "9                                    Dani California  Red Hot Chili Peppers   \n",
       "\n",
       "         genre  \n",
       "0  alternative  \n",
       "1      rusrock  \n",
       "2  alternative  \n",
       "3          pop  \n",
       "4      rusrock  \n",
       "5         rock  \n",
       "6        films  \n",
       "7      rusrock  \n",
       "8      rusrock  \n",
       "9         rock  "
      ]
     },
     "metadata": {},
     "output_type": "display_data"
    }
   ],
   "source": [
    "# Визуально посмотрим как рекомендации соответствуют истории последних прослушиваний пользователя\n",
    "user_id = events_train['user_id'].sample().iat[0]\n",
    "\n",
    "print(f\"Пользователь с user_id: {user_id}\")\n",
    "\n",
    "print(\"История (10 последних событий)\")\n",
    "user_history = events_train.query(\"user_id == @user_id\").merge(items[['track_id', 'track', 'artist', 'album', 'genre']], on=\"track_id\", how='left')\n",
    "\n",
    "\n",
    "# Берем последние 10 событий\n",
    "user_history_to_print = user_history[['user_id', 'track_id', 'track', 'artist', 'album', 'genre']].tail(10)\n",
    "display(user_history_to_print)\n",
    "\n",
    "print(\"Рекомендации\")\n",
    "user_recs = personal_als.query(\"user_id == @user_id\")\n",
    "user_recs = user_recs.merge(items, on=\"track_id\", how=\"left\").drop([\"score\", \"track_id_enc\"], axis=1)\n",
    "\n",
    "print(f\"Рекомендации для пользователя с 'user_id={user_id}'\")\n",
    "display(user_recs)"
   ]
  },
  {
   "cell_type": "code",
   "execution_count": 14,
   "id": "7b082e78",
   "metadata": {},
   "outputs": [],
   "source": [
    "# Сохраняем персональные рекомендации\n",
    "personal_als.to_parquet('personal_als.parquet')"
   ]
  },
  {
   "cell_type": "markdown",
   "id": "5f09dc7e-7c91-4355-860a-b9cfb9f33f15",
   "metadata": {},
   "source": [
    "# Похожие"
   ]
  },
  {
   "cell_type": "markdown",
   "id": "1dfcb683-b440-40a8-9975-894156a53872",
   "metadata": {},
   "source": [
    "Рассчитаем похожие, они позже пригодятся для онлайн-рекомендаций."
   ]
  },
  {
   "cell_type": "code",
   "execution_count": 57,
   "id": "a75d07ee-4b12-4ce5-aa85-e45cb7a7a4f0",
   "metadata": {},
   "outputs": [],
   "source": [
    "# Получим энкодированные идентификаторы всех объектов, известных нам из events_train\n",
    "train_track_ids_enc = events_train['track_id_enc'].unique()[:100000] # пришлось ограничить, иначе время расчета просто космос! \n",
    "\n",
    "# Искать будем 10 похожих\n",
    "max_similar_tracks = 10\n",
    "\n",
    "# получаем списки похожих объектов, используя ранее полученную ALS-модель\n",
    "similar_items = als_model.similar_items(train_track_ids_enc, N=max_similar_tracks+1) # Берем max_similar_tracks+1 т.к. трек будет похож сам на себя и это мы в дальнейшем учтем\n",
    "\n",
    "# преобразуем полученные списки в табличный формат\n",
    "sim_item_track_ids_enc = similar_items[0]\n",
    "sim_item_scores = similar_items[1]\n",
    "\n",
    "similar_items = pd.DataFrame({\n",
    "    \"track_id_enc\": train_track_ids_enc,\n",
    "    \"sim_track_id_enc\": sim_item_track_ids_enc.tolist(), \n",
    "    \"score\": sim_item_scores.tolist()}) \n",
    "\n",
    "similar_items = similar_items.explode([\"sim_track_id_enc\", \"score\"], ignore_index=True) \n",
    "\n",
    "# приводим типы данных\n",
    "similar_items[\"sim_track_id_enc\"] = similar_items[\"sim_track_id_enc\"].astype(\"int\")\n",
    "similar_items[\"score\"] = similar_items[\"score\"].astype(\"float\")\n",
    "\n",
    "# получаем изначальные идентификаторы\n",
    "similar_items[\"track_id_1\"] = i_encoder.inverse_transform(similar_items[\"track_id_enc\"])\n",
    "similar_items[\"track_id_2\"] = i_encoder.inverse_transform(similar_items[\"sim_track_id_enc\"])\n",
    "similar_items = similar_items.drop(columns=[\"track_id_enc\", \"sim_track_id_enc\"])\n",
    "\n",
    "# убираем пары с одинаковыми объектами\n",
    "similar_items = similar_items.query(\"track_id_1 != track_id_2\")"
   ]
  },
  {
   "cell_type": "code",
   "execution_count": 58,
   "id": "ce370904-4c49-4152-8706-416074ea9b9a",
   "metadata": {},
   "outputs": [
    {
     "data": {
      "application/vnd.microsoft.datawrangler.viewer.v0+json": {
       "columns": [
        {
         "name": "index",
         "rawType": "int64",
         "type": "integer"
        },
        {
         "name": "score",
         "rawType": "float64",
         "type": "float"
        },
        {
         "name": "track_id_1",
         "rawType": "int64",
         "type": "integer"
        },
        {
         "name": "track_id_2",
         "rawType": "int64",
         "type": "integer"
        }
       ],
       "ref": "6d6d8230-b54f-4733-92a6-333760b82be7",
       "rows": [
        [
         "1",
         "0.788443922996521",
         "6006252",
         "51400669"
        ],
        [
         "2",
         "0.783083438873291",
         "6006252",
         "17197809"
        ],
        [
         "3",
         "0.7619272470474243",
         "6006252",
         "48209004"
        ],
        [
         "4",
         "0.726467490196228",
         "6006252",
         "26181484"
        ],
        [
         "5",
         "0.7226884365081787",
         "6006252",
         "81283043"
        ],
        [
         "6",
         "0.72227942943573",
         "6006252",
         "45495054"
        ],
        [
         "7",
         "0.6996483206748962",
         "6006252",
         "9552028"
        ],
        [
         "8",
         "0.6923815011978149",
         "6006252",
         "27862170"
        ],
        [
         "9",
         "0.6843065619468689",
         "6006252",
         "56776952"
        ],
        [
         "10",
         "0.6767628192901611",
         "6006252",
         "46285569"
        ],
        [
         "12",
         "0.7840411067008972",
         "21642261",
         "3401739"
        ],
        [
         "13",
         "0.7355722188949585",
         "21642261",
         "51677889"
        ],
        [
         "14",
         "0.7318388223648071",
         "21642261",
         "61170830"
        ],
        [
         "15",
         "0.7310271859169006",
         "21642261",
         "59673"
        ],
        [
         "16",
         "0.7279541492462158",
         "21642261",
         "202860"
        ],
        [
         "17",
         "0.7231191992759705",
         "21642261",
         "27243424"
        ],
        [
         "18",
         "0.7215280532836914",
         "21642261",
         "88727"
        ],
        [
         "19",
         "0.7212399244308472",
         "21642261",
         "41026140"
        ],
        [
         "20",
         "0.7195563316345215",
         "21642261",
         "14556729"
        ],
        [
         "21",
         "0.7150482535362244",
         "21642261",
         "27538883"
        ],
        [
         "23",
         "0.8378469347953796",
         "21642265",
         "35050236"
        ],
        [
         "24",
         "0.8201953768730164",
         "21642265",
         "125807"
        ],
        [
         "25",
         "0.8158690333366394",
         "21642265",
         "589498"
        ],
        [
         "26",
         "0.7993409633636475",
         "21642265",
         "9966325"
        ],
        [
         "27",
         "0.7993056178092957",
         "21642265",
         "789045"
        ],
        [
         "28",
         "0.7969970703125",
         "21642265",
         "52998046"
        ],
        [
         "29",
         "0.7962969541549683",
         "21642265",
         "48605824"
        ],
        [
         "30",
         "0.7809210419654846",
         "21642265",
         "62834172"
        ],
        [
         "31",
         "0.7803146839141846",
         "21642265",
         "16533522"
        ],
        [
         "32",
         "0.7782195806503296",
         "21642265",
         "84761073"
        ],
        [
         "34",
         "0.7644228339195251",
         "24692821",
         "35355754"
        ],
        [
         "35",
         "0.7637124061584473",
         "24692821",
         "33944782"
        ],
        [
         "36",
         "0.7568287253379822",
         "24692821",
         "51400675"
        ],
        [
         "37",
         "0.7514744997024536",
         "24692821",
         "34448435"
        ],
        [
         "38",
         "0.7465056777000427",
         "24692821",
         "896705"
        ],
        [
         "39",
         "0.7463531494140625",
         "24692821",
         "16179546"
        ],
        [
         "40",
         "0.7409204244613647",
         "24692821",
         "45697349"
        ],
        [
         "41",
         "0.733092188835144",
         "24692821",
         "5158041"
        ],
        [
         "42",
         "0.725940465927124",
         "24692821",
         "20622968"
        ],
        [
         "43",
         "0.7190971374511719",
         "24692821",
         "35021402"
        ],
        [
         "45",
         "0.832141637802124",
         "25995209",
         "2828680"
        ],
        [
         "46",
         "0.826235294342041",
         "25995209",
         "40053703"
        ],
        [
         "47",
         "0.8210248351097107",
         "25995209",
         "35931197"
        ],
        [
         "48",
         "0.8172293901443481",
         "25995209",
         "48127364"
        ],
        [
         "49",
         "0.811218798160553",
         "25995209",
         "2758018"
        ],
        [
         "50",
         "0.7932946085929871",
         "25995209",
         "34867849"
        ],
        [
         "51",
         "0.7868621945381165",
         "25995209",
         "39274059"
        ],
        [
         "52",
         "0.7867856621742249",
         "25995209",
         "10892529"
        ],
        [
         "53",
         "0.7781437635421753",
         "25995209",
         "3712135"
        ],
        [
         "54",
         "0.7643968462944031",
         "25995209",
         "37696614"
        ]
       ],
       "shape": {
        "columns": 3,
        "rows": 1000000
       }
      },
      "text/html": [
       "<div>\n",
       "<style scoped>\n",
       "    .dataframe tbody tr th:only-of-type {\n",
       "        vertical-align: middle;\n",
       "    }\n",
       "\n",
       "    .dataframe tbody tr th {\n",
       "        vertical-align: top;\n",
       "    }\n",
       "\n",
       "    .dataframe thead th {\n",
       "        text-align: right;\n",
       "    }\n",
       "</style>\n",
       "<table border=\"1\" class=\"dataframe\">\n",
       "  <thead>\n",
       "    <tr style=\"text-align: right;\">\n",
       "      <th></th>\n",
       "      <th>score</th>\n",
       "      <th>track_id_1</th>\n",
       "      <th>track_id_2</th>\n",
       "    </tr>\n",
       "  </thead>\n",
       "  <tbody>\n",
       "    <tr>\n",
       "      <th>1</th>\n",
       "      <td>0.788444</td>\n",
       "      <td>6006252</td>\n",
       "      <td>51400669</td>\n",
       "    </tr>\n",
       "    <tr>\n",
       "      <th>2</th>\n",
       "      <td>0.783083</td>\n",
       "      <td>6006252</td>\n",
       "      <td>17197809</td>\n",
       "    </tr>\n",
       "    <tr>\n",
       "      <th>3</th>\n",
       "      <td>0.761927</td>\n",
       "      <td>6006252</td>\n",
       "      <td>48209004</td>\n",
       "    </tr>\n",
       "    <tr>\n",
       "      <th>4</th>\n",
       "      <td>0.726467</td>\n",
       "      <td>6006252</td>\n",
       "      <td>26181484</td>\n",
       "    </tr>\n",
       "    <tr>\n",
       "      <th>5</th>\n",
       "      <td>0.722688</td>\n",
       "      <td>6006252</td>\n",
       "      <td>81283043</td>\n",
       "    </tr>\n",
       "    <tr>\n",
       "      <th>...</th>\n",
       "      <td>...</td>\n",
       "      <td>...</td>\n",
       "      <td>...</td>\n",
       "    </tr>\n",
       "    <tr>\n",
       "      <th>1099995</th>\n",
       "      <td>0.724887</td>\n",
       "      <td>17189030</td>\n",
       "      <td>66408725</td>\n",
       "    </tr>\n",
       "    <tr>\n",
       "      <th>1099996</th>\n",
       "      <td>0.724290</td>\n",
       "      <td>17189030</td>\n",
       "      <td>32551797</td>\n",
       "    </tr>\n",
       "    <tr>\n",
       "      <th>1099997</th>\n",
       "      <td>0.722380</td>\n",
       "      <td>17189030</td>\n",
       "      <td>35512</td>\n",
       "    </tr>\n",
       "    <tr>\n",
       "      <th>1099998</th>\n",
       "      <td>0.720460</td>\n",
       "      <td>17189030</td>\n",
       "      <td>2431940</td>\n",
       "    </tr>\n",
       "    <tr>\n",
       "      <th>1099999</th>\n",
       "      <td>0.717084</td>\n",
       "      <td>17189030</td>\n",
       "      <td>66876945</td>\n",
       "    </tr>\n",
       "  </tbody>\n",
       "</table>\n",
       "<p>1000000 rows × 3 columns</p>\n",
       "</div>"
      ],
      "text/plain": [
       "            score  track_id_1  track_id_2\n",
       "1        0.788444     6006252    51400669\n",
       "2        0.783083     6006252    17197809\n",
       "3        0.761927     6006252    48209004\n",
       "4        0.726467     6006252    26181484\n",
       "5        0.722688     6006252    81283043\n",
       "...           ...         ...         ...\n",
       "1099995  0.724887    17189030    66408725\n",
       "1099996  0.724290    17189030    32551797\n",
       "1099997  0.722380    17189030       35512\n",
       "1099998  0.720460    17189030     2431940\n",
       "1099999  0.717084    17189030    66876945\n",
       "\n",
       "[1000000 rows x 3 columns]"
      ]
     },
     "execution_count": 58,
     "metadata": {},
     "output_type": "execute_result"
    }
   ],
   "source": [
    "similar_items"
   ]
  },
  {
   "cell_type": "code",
   "execution_count": 59,
   "id": "0929446d",
   "metadata": {},
   "outputs": [
    {
     "name": "stdout",
     "output_type": "stream",
     "text": [
      "<class 'pandas.core.frame.DataFrame'>\n",
      "Index: 1000000 entries, 1 to 1099999\n",
      "Data columns (total 3 columns):\n",
      " #   Column      Non-Null Count    Dtype  \n",
      "---  ------      --------------    -----  \n",
      " 0   score       1000000 non-null  float64\n",
      " 1   track_id_1  1000000 non-null  int64  \n",
      " 2   track_id_2  1000000 non-null  int64  \n",
      "dtypes: float64(1), int64(2)\n",
      "memory usage: 30.5 MB\n"
     ]
    }
   ],
   "source": [
    "similar_items.info()"
   ]
  },
  {
   "cell_type": "code",
   "execution_count": 62,
   "id": "7a09ad1b",
   "metadata": {},
   "outputs": [
    {
     "data": {
      "application/vnd.microsoft.datawrangler.viewer.v0+json": {
       "columns": [
        {
         "name": "index",
         "rawType": "int64",
         "type": "integer"
        },
        {
         "name": "track_id",
         "rawType": "int64",
         "type": "integer"
        },
        {
         "name": "track",
         "rawType": "object",
         "type": "string"
        },
        {
         "name": "album",
         "rawType": "object",
         "type": "string"
        },
        {
         "name": "artist",
         "rawType": "object",
         "type": "string"
        },
        {
         "name": "genre",
         "rawType": "object",
         "type": "string"
        },
        {
         "name": "track_id_enc",
         "rawType": "int64",
         "type": "integer"
        }
       ],
       "ref": "c3429dbc-d089-4dc6-8909-4eafcb03885e",
       "rows": [
        [
         "749869",
         "56920236",
         "Безболезненно",
         "Vinyl #1",
         "Zivert",
         "pop",
         "749869"
        ]
       ],
       "shape": {
        "columns": 6,
        "rows": 1
       }
      },
      "text/html": [
       "<div>\n",
       "<style scoped>\n",
       "    .dataframe tbody tr th:only-of-type {\n",
       "        vertical-align: middle;\n",
       "    }\n",
       "\n",
       "    .dataframe tbody tr th {\n",
       "        vertical-align: top;\n",
       "    }\n",
       "\n",
       "    .dataframe thead th {\n",
       "        text-align: right;\n",
       "    }\n",
       "</style>\n",
       "<table border=\"1\" class=\"dataframe\">\n",
       "  <thead>\n",
       "    <tr style=\"text-align: right;\">\n",
       "      <th></th>\n",
       "      <th>track_id</th>\n",
       "      <th>track</th>\n",
       "      <th>album</th>\n",
       "      <th>artist</th>\n",
       "      <th>genre</th>\n",
       "      <th>track_id_enc</th>\n",
       "    </tr>\n",
       "  </thead>\n",
       "  <tbody>\n",
       "    <tr>\n",
       "      <th>749869</th>\n",
       "      <td>56920236</td>\n",
       "      <td>Безболезненно</td>\n",
       "      <td>Vinyl #1</td>\n",
       "      <td>Zivert</td>\n",
       "      <td>pop</td>\n",
       "      <td>749869</td>\n",
       "    </tr>\n",
       "  </tbody>\n",
       "</table>\n",
       "</div>"
      ],
      "text/plain": [
       "        track_id          track     album  artist genre  track_id_enc\n",
       "749869  56920236  Безболезненно  Vinyl #1  Zivert   pop        749869"
      ]
     },
     "metadata": {},
     "output_type": "display_data"
    },
    {
     "data": {
      "application/vnd.microsoft.datawrangler.viewer.v0+json": {
       "columns": [
        {
         "name": "index",
         "rawType": "int64",
         "type": "integer"
        },
        {
         "name": "score",
         "rawType": "float64",
         "type": "float"
        },
        {
         "name": "track_id_1",
         "rawType": "int64",
         "type": "integer"
        },
        {
         "name": "track_id_2",
         "rawType": "int64",
         "type": "integer"
        },
        {
         "name": "track_id",
         "rawType": "int64",
         "type": "integer"
        },
        {
         "name": "track",
         "rawType": "object",
         "type": "string"
        },
        {
         "name": "album",
         "rawType": "object",
         "type": "string"
        },
        {
         "name": "artist",
         "rawType": "object",
         "type": "string"
        },
        {
         "name": "genre",
         "rawType": "object",
         "type": "string"
        },
        {
         "name": "track_id_enc",
         "rawType": "int64",
         "type": "integer"
        }
       ],
       "ref": "9c5ca9cb-2787-40a3-a991-3fb53ff66464",
       "rows": [
        [
         "0",
         "0.797860324382782",
         "56920236",
         "31518176",
         "31518176",
         "NO PARTY",
         "NO PARTY",
         "BOOGIE BITCHES",
         "electronics",
         "451488"
        ],
        [
         "1",
         "0.7848039269447327",
         "56920236",
         "50585688",
         "50585688",
         "Как твои дела?",
         "Магнит",
         "Юлия Савичева",
         "pop",
         "689623"
        ],
        [
         "2",
         "0.766231119632721",
         "56920236",
         "24442538",
         "24442538",
         "Как на войне",
         "Позорная звезда",
         "Агата Кристи",
         "rusrock",
         "364746"
        ],
        [
         "3",
         "0.7532785534858704",
         "56920236",
         "20723130",
         "20723130",
         "Changing",
         "Changing",
         "Sigma",
         "dance",
         "319861"
        ],
        [
         "4",
         "0.7509101033210754",
         "56920236",
         "58959898",
         "58959898",
         "Run for Your Life",
         "The Book of Fire",
         "Mono Inc.",
         "rock",
         "766978"
        ],
        [
         "5",
         "0.7507318258285522",
         "56920236",
         "35040673",
         "35040673",
         "Loco",
         "Loco",
         "Tolebi",
         "foreignrap",
         "505633"
        ],
        [
         "6",
         "0.7478711605072021",
         "56920236",
         "51152118",
         "51152118",
         "Я тебя люблю",
         "Блажь",
         "Николай Носков",
         "rusrock",
         "695203"
        ],
        [
         "7",
         "0.7467993497848511",
         "56920236",
         "18539252",
         "18539252",
         "Тук, тук, тук",
         "Чита Дрита",
         "Верка Сердючка",
         "estrada",
         "291000"
        ],
        [
         "8",
         "0.7442066073417664",
         "56920236",
         "2750810",
         "2750810",
         "School",
         "Nevermind",
         "Nirvana",
         "alternative",
         "137503"
        ],
        [
         "9",
         "0.74314945936203",
         "56920236",
         "2199165",
         "2199165",
         "Arlandria",
         "Wasting Light",
         "Foo Fighters",
         "alternative",
         "122730"
        ]
       ],
       "shape": {
        "columns": 9,
        "rows": 10
       }
      },
      "text/html": [
       "<div>\n",
       "<style scoped>\n",
       "    .dataframe tbody tr th:only-of-type {\n",
       "        vertical-align: middle;\n",
       "    }\n",
       "\n",
       "    .dataframe tbody tr th {\n",
       "        vertical-align: top;\n",
       "    }\n",
       "\n",
       "    .dataframe thead th {\n",
       "        text-align: right;\n",
       "    }\n",
       "</style>\n",
       "<table border=\"1\" class=\"dataframe\">\n",
       "  <thead>\n",
       "    <tr style=\"text-align: right;\">\n",
       "      <th></th>\n",
       "      <th>score</th>\n",
       "      <th>track_id_1</th>\n",
       "      <th>track_id_2</th>\n",
       "      <th>track_id</th>\n",
       "      <th>track</th>\n",
       "      <th>album</th>\n",
       "      <th>artist</th>\n",
       "      <th>genre</th>\n",
       "      <th>track_id_enc</th>\n",
       "    </tr>\n",
       "  </thead>\n",
       "  <tbody>\n",
       "    <tr>\n",
       "      <th>0</th>\n",
       "      <td>0.797860</td>\n",
       "      <td>56920236</td>\n",
       "      <td>31518176</td>\n",
       "      <td>31518176</td>\n",
       "      <td>NO PARTY</td>\n",
       "      <td>NO PARTY</td>\n",
       "      <td>BOOGIE BITCHES</td>\n",
       "      <td>electronics</td>\n",
       "      <td>451488</td>\n",
       "    </tr>\n",
       "    <tr>\n",
       "      <th>1</th>\n",
       "      <td>0.784804</td>\n",
       "      <td>56920236</td>\n",
       "      <td>50585688</td>\n",
       "      <td>50585688</td>\n",
       "      <td>Как твои дела?</td>\n",
       "      <td>Магнит</td>\n",
       "      <td>Юлия Савичева</td>\n",
       "      <td>pop</td>\n",
       "      <td>689623</td>\n",
       "    </tr>\n",
       "    <tr>\n",
       "      <th>2</th>\n",
       "      <td>0.766231</td>\n",
       "      <td>56920236</td>\n",
       "      <td>24442538</td>\n",
       "      <td>24442538</td>\n",
       "      <td>Как на войне</td>\n",
       "      <td>Позорная звезда</td>\n",
       "      <td>Агата Кристи</td>\n",
       "      <td>rusrock</td>\n",
       "      <td>364746</td>\n",
       "    </tr>\n",
       "    <tr>\n",
       "      <th>3</th>\n",
       "      <td>0.753279</td>\n",
       "      <td>56920236</td>\n",
       "      <td>20723130</td>\n",
       "      <td>20723130</td>\n",
       "      <td>Changing</td>\n",
       "      <td>Changing</td>\n",
       "      <td>Sigma</td>\n",
       "      <td>dance</td>\n",
       "      <td>319861</td>\n",
       "    </tr>\n",
       "    <tr>\n",
       "      <th>4</th>\n",
       "      <td>0.750910</td>\n",
       "      <td>56920236</td>\n",
       "      <td>58959898</td>\n",
       "      <td>58959898</td>\n",
       "      <td>Run for Your Life</td>\n",
       "      <td>The Book of Fire</td>\n",
       "      <td>Mono Inc.</td>\n",
       "      <td>rock</td>\n",
       "      <td>766978</td>\n",
       "    </tr>\n",
       "    <tr>\n",
       "      <th>5</th>\n",
       "      <td>0.750732</td>\n",
       "      <td>56920236</td>\n",
       "      <td>35040673</td>\n",
       "      <td>35040673</td>\n",
       "      <td>Loco</td>\n",
       "      <td>Loco</td>\n",
       "      <td>Tolebi</td>\n",
       "      <td>foreignrap</td>\n",
       "      <td>505633</td>\n",
       "    </tr>\n",
       "    <tr>\n",
       "      <th>6</th>\n",
       "      <td>0.747871</td>\n",
       "      <td>56920236</td>\n",
       "      <td>51152118</td>\n",
       "      <td>51152118</td>\n",
       "      <td>Я тебя люблю</td>\n",
       "      <td>Блажь</td>\n",
       "      <td>Николай Носков</td>\n",
       "      <td>rusrock</td>\n",
       "      <td>695203</td>\n",
       "    </tr>\n",
       "    <tr>\n",
       "      <th>7</th>\n",
       "      <td>0.746799</td>\n",
       "      <td>56920236</td>\n",
       "      <td>18539252</td>\n",
       "      <td>18539252</td>\n",
       "      <td>Тук, тук, тук</td>\n",
       "      <td>Чита Дрита</td>\n",
       "      <td>Верка Сердючка</td>\n",
       "      <td>estrada</td>\n",
       "      <td>291000</td>\n",
       "    </tr>\n",
       "    <tr>\n",
       "      <th>8</th>\n",
       "      <td>0.744207</td>\n",
       "      <td>56920236</td>\n",
       "      <td>2750810</td>\n",
       "      <td>2750810</td>\n",
       "      <td>School</td>\n",
       "      <td>Nevermind</td>\n",
       "      <td>Nirvana</td>\n",
       "      <td>alternative</td>\n",
       "      <td>137503</td>\n",
       "    </tr>\n",
       "    <tr>\n",
       "      <th>9</th>\n",
       "      <td>0.743149</td>\n",
       "      <td>56920236</td>\n",
       "      <td>2199165</td>\n",
       "      <td>2199165</td>\n",
       "      <td>Arlandria</td>\n",
       "      <td>Wasting Light</td>\n",
       "      <td>Foo Fighters</td>\n",
       "      <td>alternative</td>\n",
       "      <td>122730</td>\n",
       "    </tr>\n",
       "  </tbody>\n",
       "</table>\n",
       "</div>"
      ],
      "text/plain": [
       "      score  track_id_1  track_id_2  track_id              track  \\\n",
       "0  0.797860    56920236    31518176  31518176           NO PARTY   \n",
       "1  0.784804    56920236    50585688  50585688     Как твои дела?   \n",
       "2  0.766231    56920236    24442538  24442538       Как на войне   \n",
       "3  0.753279    56920236    20723130  20723130           Changing   \n",
       "4  0.750910    56920236    58959898  58959898  Run for Your Life   \n",
       "5  0.750732    56920236    35040673  35040673               Loco   \n",
       "6  0.747871    56920236    51152118  51152118       Я тебя люблю   \n",
       "7  0.746799    56920236    18539252  18539252      Тук, тук, тук   \n",
       "8  0.744207    56920236     2750810   2750810             School   \n",
       "9  0.743149    56920236     2199165   2199165          Arlandria   \n",
       "\n",
       "              album          artist        genre  track_id_enc  \n",
       "0          NO PARTY  BOOGIE BITCHES  electronics        451488  \n",
       "1            Магнит   Юлия Савичева          pop        689623  \n",
       "2   Позорная звезда    Агата Кристи      rusrock        364746  \n",
       "3          Changing           Sigma        dance        319861  \n",
       "4  The Book of Fire       Mono Inc.         rock        766978  \n",
       "5              Loco          Tolebi   foreignrap        505633  \n",
       "6             Блажь  Николай Носков      rusrock        695203  \n",
       "7        Чита Дрита  Верка Сердючка      estrada        291000  \n",
       "8         Nevermind         Nirvana  alternative        137503  \n",
       "9     Wasting Light    Foo Fighters  alternative        122730  "
      ]
     },
     "metadata": {},
     "output_type": "display_data"
    }
   ],
   "source": [
    "# Проверим как работает \n",
    "# Очень жаль что пришлось ограничить количество треков для которых подбираются похожие!\n",
    "# Придется покликать ячейку что-бы найти просчитанные варианты!\n",
    "\n",
    "track_id_rnd = events_train['track_id'].sample().iat[0]\n",
    "track_rnd = items.query(\"track_id == @track_id_rnd\")\n",
    "display(track_rnd)\n",
    "\n",
    "k_similar = similar_items.query(\"track_id_1 == @track_id_rnd\").merge(items, left_on='track_id_2', right_on='track_id')\n",
    "display(k_similar)"
   ]
  },
  {
   "cell_type": "code",
   "execution_count": 63,
   "id": "9bc00ccd",
   "metadata": {},
   "outputs": [],
   "source": [
    "similar_items.to_parquet(\"similar.parquet\")"
   ]
  },
  {
   "cell_type": "markdown",
   "id": "0087a3e7-ca9f-42cd-944c-944222c1baef",
   "metadata": {},
   "source": [
    "# Построение признаков"
   ]
  },
  {
   "cell_type": "markdown",
   "id": "e82a32e1-b90b-4eaf-9439-fc8deab9f34b",
   "metadata": {},
   "source": [
    "Построим три признака, можно больше, для ранжирующей модели."
   ]
  },
  {
   "cell_type": "code",
   "execution_count": 29,
   "id": "05b4ae84-406a-44a4-abec-4f80f93e3004",
   "metadata": {},
   "outputs": [],
   "source": [
    "# Перед построением признаков сначала определимся с кандидатами\n",
    "# Для этого используем events_test и разделим на данные для тренировки где мы определим таргеты и тренировочные данные\n",
    "# По заданию мы уже делили разбиение по отметке 16 декабря 2022\n",
    "# сейчас возьму дату на 10 дней позже 26.12.2022\n",
    "\n",
    "split_date_for_labels = pd.to_datetime('2022-12-26')\n",
    "split_date_for_labels_idx = events_test['started_at'] < split_date_for_labels\n",
    "events_label = events_test[split_date_for_labels_idx].copy()\t# Данные до указанной даты будем маркировать\n",
    "events_test_2 = events_test[~split_date_for_labels_idx].copy()"
   ]
  },
  {
   "cell_type": "code",
   "execution_count": null,
   "id": "502149d0",
   "metadata": {},
   "outputs": [],
   "source": [
    "# Checkpoint\n",
    "# personal_als = pd.read_parquet('personal_als.parquet')"
   ]
  },
  {
   "cell_type": "code",
   "execution_count": 8,
   "id": "00f84c35-f544-4c3d-ad53-9b1d2b684c75",
   "metadata": {},
   "outputs": [],
   "source": [
    "# В качестве кандидатов возмем уже подготовленные данные personal_als.parquet\n",
    "\n",
    "# Создаем поле target в событиях только прослушанные треки, ставим таргет 1\n",
    "events_label['target'] = 1\n",
    "\n",
    "# Добавляем target к рекомендациям\n",
    "candidates = personal_als.merge(\n",
    "\tevents_label[['user_id', 'track_id', 'target']], \n",
    "\ton=['user_id', 'track_id'],\n",
    "\thow='left'\n",
    ")"
   ]
  },
  {
   "cell_type": "code",
   "execution_count": 41,
   "id": "c5071516",
   "metadata": {},
   "outputs": [
    {
     "data": {
      "application/vnd.microsoft.datawrangler.viewer.v0+json": {
       "columns": [
        {
         "name": "index",
         "rawType": "int64",
         "type": "integer"
        },
        {
         "name": "user_id",
         "rawType": "int32",
         "type": "integer"
        },
        {
         "name": "track_id",
         "rawType": "int64",
         "type": "integer"
        },
        {
         "name": "score",
         "rawType": "float64",
         "type": "float"
        },
        {
         "name": "target",
         "rawType": "int64",
         "type": "integer"
        }
       ],
       "ref": "11f4ba4b-3275-4ab0-8ad6-79b3c5d08199",
       "rows": [
        [
         "0",
         "215",
         "28036311",
         "3.062895642774876e-24",
         "1"
        ],
        [
         "1",
         "951",
         "51516485",
         "4.255431267124226e-23",
         "1"
        ],
        [
         "2",
         "1148",
         "214489",
         "4.3683450305652167e-23",
         "1"
        ],
        [
         "3",
         "3198",
         "51241318",
         "1.7464370699634518e-23",
         "1"
        ],
        [
         "4",
         "4005",
         "39089632",
         "2.819434944736761e-23",
         "1"
        ]
       ],
       "shape": {
        "columns": 4,
        "rows": 5
       }
      },
      "text/html": [
       "<div>\n",
       "<style scoped>\n",
       "    .dataframe tbody tr th:only-of-type {\n",
       "        vertical-align: middle;\n",
       "    }\n",
       "\n",
       "    .dataframe tbody tr th {\n",
       "        vertical-align: top;\n",
       "    }\n",
       "\n",
       "    .dataframe thead th {\n",
       "        text-align: right;\n",
       "    }\n",
       "</style>\n",
       "<table border=\"1\" class=\"dataframe\">\n",
       "  <thead>\n",
       "    <tr style=\"text-align: right;\">\n",
       "      <th></th>\n",
       "      <th>user_id</th>\n",
       "      <th>track_id</th>\n",
       "      <th>score</th>\n",
       "      <th>target</th>\n",
       "    </tr>\n",
       "  </thead>\n",
       "  <tbody>\n",
       "    <tr>\n",
       "      <th>0</th>\n",
       "      <td>215</td>\n",
       "      <td>28036311</td>\n",
       "      <td>3.062896e-24</td>\n",
       "      <td>1</td>\n",
       "    </tr>\n",
       "    <tr>\n",
       "      <th>1</th>\n",
       "      <td>951</td>\n",
       "      <td>51516485</td>\n",
       "      <td>4.255431e-23</td>\n",
       "      <td>1</td>\n",
       "    </tr>\n",
       "    <tr>\n",
       "      <th>2</th>\n",
       "      <td>1148</td>\n",
       "      <td>214489</td>\n",
       "      <td>4.368345e-23</td>\n",
       "      <td>1</td>\n",
       "    </tr>\n",
       "    <tr>\n",
       "      <th>3</th>\n",
       "      <td>3198</td>\n",
       "      <td>51241318</td>\n",
       "      <td>1.746437e-23</td>\n",
       "      <td>1</td>\n",
       "    </tr>\n",
       "    <tr>\n",
       "      <th>4</th>\n",
       "      <td>4005</td>\n",
       "      <td>39089632</td>\n",
       "      <td>2.819435e-23</td>\n",
       "      <td>1</td>\n",
       "    </tr>\n",
       "  </tbody>\n",
       "</table>\n",
       "</div>"
      ],
      "text/plain": [
       "   user_id  track_id         score  target\n",
       "0      215  28036311  3.062896e-24       1\n",
       "1      951  51516485  4.255431e-23       1\n",
       "2     1148    214489  4.368345e-23       1\n",
       "3     3198  51241318  1.746437e-23       1\n",
       "4     4005  39089632  2.819435e-23       1"
      ]
     },
     "execution_count": 41,
     "metadata": {},
     "output_type": "execute_result"
    }
   ],
   "source": [
    "# Неопределенные таргеты определяем нулями\n",
    "candidates['target'] = candidates['target'].fillna(0).astype(int)\n",
    "\n",
    "# Избегаем ситуации когда у пользователя все таргеты 0\n",
    "candidates = candidates.groupby('user_id').filter(lambda x: x['target'].sum() > 0)\n",
    "\n",
    "# Сейчас у нас дисбаланс классов, т.к. пользователи прослушали далеко не весь список треков\n",
    "# Поэтому каждого пользователя оставим один положительный пример и 4 отрицательных\n",
    "\n",
    "candidates_for_train = pd.concat([\n",
    "\tcandidates.query(\"target == 1\"),\n",
    "\tcandidates.query(\"target == 0\").groupby('user_id').apply(lambda x: x.sample(4, random_state=RANDOM_STATE))\n",
    "\t])\n",
    "\t\n",
    "candidates_for_train = candidates_for_train.reset_index(drop=True)\n",
    "\n",
    "candidates_for_train.head()"
   ]
  },
  {
   "cell_type": "code",
   "execution_count": 42,
   "id": "6d7a5d5d",
   "metadata": {},
   "outputs": [
    {
     "data": {
      "application/vnd.microsoft.datawrangler.viewer.v0+json": {
       "columns": [
        {
         "name": "target",
         "rawType": "int64",
         "type": "integer"
        },
        {
         "name": "count",
         "rawType": "int64",
         "type": "integer"
        }
       ],
       "ref": "9c544036-472a-4985-b675-0bc6251ee610",
       "rows": [
        [
         "0",
         "4856"
        ],
        [
         "1",
         "1271"
        ]
       ],
       "shape": {
        "columns": 1,
        "rows": 2
       }
      },
      "text/plain": [
       "target\n",
       "0    4856\n",
       "1    1271\n",
       "Name: count, dtype: int64"
      ]
     },
     "execution_count": 42,
     "metadata": {},
     "output_type": "execute_result"
    }
   ],
   "source": [
    "candidates_for_train.target.value_counts()"
   ]
  },
  {
   "cell_type": "code",
   "execution_count": 43,
   "id": "3426a360",
   "metadata": {},
   "outputs": [],
   "source": [
    "# Добавим жанр в качестве признака\n",
    "candidates_for_train = candidates_for_train.merge(items[['track_id', 'genre']], on='track_id', how='left')"
   ]
  },
  {
   "cell_type": "code",
   "execution_count": 44,
   "id": "7266bb05",
   "metadata": {},
   "outputs": [
    {
     "data": {
      "application/vnd.microsoft.datawrangler.viewer.v0+json": {
       "columns": [
        {
         "name": "index",
         "rawType": "object",
         "type": "string"
        },
        {
         "name": "0",
         "rawType": "int64",
         "type": "integer"
        }
       ],
       "ref": "d18351f8-889f-45bd-aac5-b5fcdaf4aca7",
       "rows": [
        [
         "user_id",
         "0"
        ],
        [
         "track_id",
         "0"
        ],
        [
         "score",
         "0"
        ],
        [
         "target",
         "0"
        ],
        [
         "genre",
         "7"
        ]
       ],
       "shape": {
        "columns": 1,
        "rows": 5
       }
      },
      "text/plain": [
       "user_id     0\n",
       "track_id    0\n",
       "score       0\n",
       "target      0\n",
       "genre       7\n",
       "dtype: int64"
      ]
     },
     "execution_count": 44,
     "metadata": {},
     "output_type": "execute_result"
    }
   ],
   "source": [
    "candidates_for_train.isna().sum()"
   ]
  },
  {
   "cell_type": "code",
   "execution_count": 23,
   "id": "357283dd",
   "metadata": {},
   "outputs": [
    {
     "data": {
      "application/vnd.microsoft.datawrangler.viewer.v0+json": {
       "columns": [
        {
         "name": "index",
         "rawType": "int64",
         "type": "integer"
        },
        {
         "name": "genre",
         "rawType": "object",
         "type": "string"
        },
        {
         "name": "genre_share",
         "rawType": "float64",
         "type": "float"
        }
       ],
       "ref": "cafc1a89-8b9d-441c-aba7-4e535af378e6",
       "rows": [
        [
         "42",
         "pop",
         "0.24675820341113552"
        ],
        [
         "54",
         "rusrap",
         "0.11139800732651062"
        ],
        [
         "15",
         "electronics",
         "0.08409386225482667"
        ],
        [
         "13",
         "dance",
         "0.0681752938705179"
        ],
        [
         "55",
         "rusrock",
         "0.059995236723206655"
        ],
        [
         "26",
         "foreignrap",
         "0.05347737821846962"
        ],
        [
         "50",
         "rock",
         "0.04749428941242231"
        ],
        [
         "1",
         "alternative",
         "0.04529066737639411"
        ],
        [
         "35",
         "metal",
         "0.028842733919106685"
        ],
        [
         "30",
         "indie",
         "0.024907349702463343"
        ],
        [
         "53",
         "rusestrada",
         "0.022201193557542027"
        ],
        [
         "33",
         "local-indie",
         "0.018130333389741612"
        ],
        [
         "45",
         "punk",
         "0.016005354662948924"
        ],
        [
         "21",
         "folk",
         "0.01513902919230511"
        ],
        [
         "39",
         "numetal",
         "0.010367032936149392"
        ],
        [
         "60",
         "soundtrack",
         "0.01003211428597508"
        ],
        [
         "57",
         "shanson",
         "0.009961565905026795"
        ],
        [
         "20",
         "films",
         "0.009681534231518072"
        ],
        [
         "28",
         "hardrock",
         "0.009623764787806587"
        ],
        [
         "49",
         "rnb",
         "0.008801300857377813"
        ],
        [
         "10",
         "classicmetal",
         "0.008677859206137348"
        ],
        [
         "32",
         "jazz",
         "0.007845522826076382"
        ],
        [
         "17",
         "estrada",
         "0.0066389461412233505"
        ],
        [
         "16",
         "epicmetal",
         "0.00577156376599604"
        ],
        [
         "9",
         "classicalmusic",
         "0.005741970437658183"
        ],
        [
         "8",
         "classical",
         "0.005447886737300721"
        ],
        [
         "0",
         "allrock",
         "0.0054013829356269446"
        ],
        [
         "25",
         "foreignbard",
         "0.005025869541222942"
        ],
        [
         "71",
         "ukrrock",
         "0.0035579731981007904"
        ],
        [
         "23",
         "folkrock",
         "0.003526938636239985"
        ],
        [
         "59",
         "soul",
         "0.003440560707097991"
        ],
        [
         "52",
         "rusbards",
         "0.003435588451443822"
        ],
        [
         "38",
         "newage",
         "0.0033964829818545097"
        ],
        [
         "48",
         "relax",
         "0.0030948568260602883"
        ],
        [
         "34",
         "lounge",
         "0.0026386343543712194"
        ],
        [
         "47",
         "reggae",
         "0.0025543462138374992"
        ],
        [
         "58",
         "ska",
         "0.002531983073673095"
        ],
        [
         "70",
         "tvseries",
         "0.0024867043204938244"
        ],
        [
         "12",
         "country",
         "0.0022637454944938276"
        ],
        [
         "6",
         "blues",
         "0.0022023489464162585"
        ],
        [
         "72",
         "videogame",
         "0.0019633924283115434"
        ],
        [
         "24",
         "forchildren",
         "0.001763181071415403"
        ],
        [
         "22",
         "folkmetal",
         "0.0015494701605209868"
        ],
        [
         "46",
         "rap",
         "0.0012477719430506182"
        ],
        [
         "40",
         "podcasts",
         "0.0010670652798317024"
        ],
        [
         "2",
         "animated",
         "0.001024260644200158"
        ],
        [
         "43",
         "postrock",
         "0.0009368258104746691"
        ],
        [
         "44",
         "progmetal",
         "0.0006907832275487944"
        ],
        [
         "62",
         "spiritual",
         "0.0006827123198202878"
        ],
        [
         "66",
         "tatar",
         "0.0006057024085774533"
        ]
       ],
       "shape": {
        "columns": 2,
        "rows": 74
       }
      },
      "text/html": [
       "<div>\n",
       "<style scoped>\n",
       "    .dataframe tbody tr th:only-of-type {\n",
       "        vertical-align: middle;\n",
       "    }\n",
       "\n",
       "    .dataframe tbody tr th {\n",
       "        vertical-align: top;\n",
       "    }\n",
       "\n",
       "    .dataframe thead th {\n",
       "        text-align: right;\n",
       "    }\n",
       "</style>\n",
       "<table border=\"1\" class=\"dataframe\">\n",
       "  <thead>\n",
       "    <tr style=\"text-align: right;\">\n",
       "      <th></th>\n",
       "      <th>genre</th>\n",
       "      <th>genre_share</th>\n",
       "    </tr>\n",
       "  </thead>\n",
       "  <tbody>\n",
       "    <tr>\n",
       "      <th>42</th>\n",
       "      <td>pop</td>\n",
       "      <td>2.467582e-01</td>\n",
       "    </tr>\n",
       "    <tr>\n",
       "      <th>54</th>\n",
       "      <td>rusrap</td>\n",
       "      <td>1.113980e-01</td>\n",
       "    </tr>\n",
       "    <tr>\n",
       "      <th>15</th>\n",
       "      <td>electronics</td>\n",
       "      <td>8.409386e-02</td>\n",
       "    </tr>\n",
       "    <tr>\n",
       "      <th>13</th>\n",
       "      <td>dance</td>\n",
       "      <td>6.817529e-02</td>\n",
       "    </tr>\n",
       "    <tr>\n",
       "      <th>55</th>\n",
       "      <td>rusrock</td>\n",
       "      <td>5.999524e-02</td>\n",
       "    </tr>\n",
       "    <tr>\n",
       "      <th>...</th>\n",
       "      <td>...</td>\n",
       "      <td>...</td>\n",
       "    </tr>\n",
       "    <tr>\n",
       "      <th>5</th>\n",
       "      <td>bard</td>\n",
       "      <td>2.906488e-06</td>\n",
       "    </tr>\n",
       "    <tr>\n",
       "      <th>29</th>\n",
       "      <td>hls</td>\n",
       "      <td>2.402056e-06</td>\n",
       "    </tr>\n",
       "    <tr>\n",
       "      <th>4</th>\n",
       "      <td>audiobooks</td>\n",
       "      <td>1.032884e-06</td>\n",
       "    </tr>\n",
       "    <tr>\n",
       "      <th>67</th>\n",
       "      <td>technologies</td>\n",
       "      <td>3.603084e-07</td>\n",
       "    </tr>\n",
       "    <tr>\n",
       "      <th>61</th>\n",
       "      <td>soviet</td>\n",
       "      <td>2.402056e-08</td>\n",
       "    </tr>\n",
       "  </tbody>\n",
       "</table>\n",
       "<p>74 rows × 2 columns</p>\n",
       "</div>"
      ],
      "text/plain": [
       "           genre   genre_share\n",
       "42           pop  2.467582e-01\n",
       "54        rusrap  1.113980e-01\n",
       "15   electronics  8.409386e-02\n",
       "13         dance  6.817529e-02\n",
       "55       rusrock  5.999524e-02\n",
       "..           ...           ...\n",
       "5           bard  2.906488e-06\n",
       "29           hls  2.402056e-06\n",
       "4     audiobooks  1.032884e-06\n",
       "67  technologies  3.603084e-07\n",
       "61        soviet  2.402056e-08\n",
       "\n",
       "[74 rows x 2 columns]"
      ]
     },
     "execution_count": 23,
     "metadata": {},
     "output_type": "execute_result"
    }
   ],
   "source": [
    "# Посчитаем признак доля каждого жанра в датасете, нормализуем.\n",
    "\n",
    "genre_share = events_train.merge(\n",
    "\titems[['track_id', 'genre']],\n",
    "\ton='track_id',\n",
    "\thow='left'\n",
    "\t).groupby('genre')['track_id'].count()\n",
    "\t\n",
    "genre_share = genre_share / genre_share.sum()\n",
    "genre_share = genre_share.reset_index().rename(columns={'track_id': 'genre_share'})\n",
    "\n",
    "genre_share.sort_values(by='genre_share', ascending=False)"
   ]
  },
  {
   "cell_type": "code",
   "execution_count": 45,
   "id": "99f71261",
   "metadata": {},
   "outputs": [],
   "source": [
    "# Добавим новый признак\n",
    "candidates_for_train = candidates_for_train.merge(genre_share, on='genre', how='left')"
   ]
  },
  {
   "cell_type": "code",
   "execution_count": 46,
   "id": "671d8613",
   "metadata": {},
   "outputs": [
    {
     "data": {
      "application/vnd.microsoft.datawrangler.viewer.v0+json": {
       "columns": [
        {
         "name": "index",
         "rawType": "int64",
         "type": "integer"
        },
        {
         "name": "user_id",
         "rawType": "int32",
         "type": "integer"
        },
        {
         "name": "track_id",
         "rawType": "int64",
         "type": "integer"
        },
        {
         "name": "score",
         "rawType": "float64",
         "type": "float"
        },
        {
         "name": "target",
         "rawType": "int64",
         "type": "integer"
        },
        {
         "name": "genre",
         "rawType": "object",
         "type": "unknown"
        },
        {
         "name": "genre_share",
         "rawType": "float64",
         "type": "float"
        }
       ],
       "ref": "701d05d8-63aa-490d-b0cf-d716e76d04a3",
       "rows": [
        [
         "0",
         "215",
         "28036311",
         "3.062895642774876e-24",
         "1",
         "hardrock",
         "0.009623764787806587"
        ],
        [
         "1",
         "951",
         "51516485",
         "4.255431267124226e-23",
         "1",
         "indie",
         "0.024907349702463343"
        ],
        [
         "2",
         "1148",
         "214489",
         "4.3683450305652167e-23",
         "1",
         "rock",
         "0.04749428941242231"
        ],
        [
         "3",
         "3198",
         "51241318",
         "1.7464370699634518e-23",
         "1",
         "rnb",
         "0.008801300857377813"
        ],
        [
         "4",
         "4005",
         "39089632",
         "2.819434944736761e-23",
         "1",
         "rusrock",
         "0.059995236723206655"
        ],
        [
         "5",
         "4056",
         "42197229",
         "9.411960202481594e-24",
         "1",
         "rock",
         "0.04749428941242231"
        ],
        [
         "6",
         "5200",
         "51516485",
         "1.1386763038175666e-23",
         "1",
         "indie",
         "0.024907349702463343"
        ],
        [
         "7",
         "7238",
         "51516485",
         "2.5368239477195232e-23",
         "1",
         "indie",
         "0.024907349702463343"
        ],
        [
         "8",
         "12254",
         "51516485",
         "2.8451783159733815e-23",
         "1",
         "indie",
         "0.024907349702463343"
        ],
        [
         "9",
         "13648",
         "39257277",
         "1.1373541729404162e-23",
         "1",
         "dance",
         "0.0681752938705179"
        ],
        [
         "10",
         "14576",
         "51516485",
         "1.646760708056432e-23",
         "1",
         "indie",
         "0.024907349702463343"
        ],
        [
         "11",
         "15830",
         "47627256",
         "9.893598933814404e-14",
         "1",
         "electronics",
         "0.08409386225482667"
        ],
        [
         "12",
         "19374",
         "42197229",
         "4.2142909876255925e-24",
         "1",
         "rock",
         "0.04749428941242231"
        ],
        [
         "13",
         "20819",
         "51241318",
         "4.433436783754261e-23",
         "1",
         "rnb",
         "0.008801300857377813"
        ],
        [
         "14",
         "22041",
         "51516485",
         "6.734763032071242e-23",
         "1",
         "indie",
         "0.024907349702463343"
        ],
        [
         "15",
         "26771",
         "19174962",
         "2.133201687841382e-23",
         "1",
         "rusrock",
         "0.059995236723206655"
        ],
        [
         "16",
         "27634",
         "51516485",
         "7.559710063857227e-24",
         "1",
         "indie",
         "0.024907349702463343"
        ],
        [
         "17",
         "28615",
         "29611476",
         "1.0687643738393502e-23",
         "1",
         "films",
         "0.009681534231518072"
        ],
        [
         "18",
         "29178",
         "51516485",
         "8.647086979666543e-24",
         "1",
         "indie",
         "0.024907349702463343"
        ],
        [
         "19",
         "31280",
         "29611476",
         "1.0761074855756e-23",
         "1",
         "films",
         "0.009681534231518072"
        ],
        [
         "20",
         "32863",
         "24692821",
         "6.187877952006447e-23",
         "1",
         "indie",
         "0.024907349702463343"
        ],
        [
         "21",
         "33975",
         "47627256",
         "9.895065317252691e-14",
         "1",
         "electronics",
         "0.08409386225482667"
        ],
        [
         "22",
         "34592",
         "24692821",
         "1.68721870175814e-23",
         "1",
         "indie",
         "0.024907349702463343"
        ],
        [
         "23",
         "36418",
         "54798445",
         "5.982834701166505e-24",
         "1",
         "rusrap",
         "0.11139800732651062"
        ],
        [
         "24",
         "38272",
         "38646012",
         "1.0082330255433884e-23",
         "1",
         "allrock",
         "0.0054013829356269446"
        ],
        [
         "25",
         "41113",
         "51241318",
         "1.0655290974948578e-23",
         "1",
         "rnb",
         "0.008801300857377813"
        ],
        [
         "26",
         "41561",
         "17079396",
         "1.0586021296076347e-24",
         "1",
         "indie",
         "0.024907349702463343"
        ],
        [
         "27",
         "43485",
         "29611476",
         "6.14460672254454e-23",
         "1",
         "films",
         "0.009681534231518072"
        ],
        [
         "28",
         "45486",
         "51516485",
         "1.8645368049953653e-23",
         "1",
         "indie",
         "0.024907349702463343"
        ],
        [
         "29",
         "45980",
         "34976783",
         "8.724472814519094e-23",
         "1",
         "rock",
         "0.04749428941242231"
        ],
        [
         "30",
         "46034",
         "42197229",
         "1.1459205712823922e-23",
         "1",
         "rock",
         "0.04749428941242231"
        ],
        [
         "31",
         "46276",
         "34084451",
         "2.2493489921328735e-23",
         "1",
         "rusrock",
         "0.059995236723206655"
        ],
        [
         "32",
         "46276",
         "34976783",
         "1.3006544545501358e-23",
         "1",
         "rock",
         "0.04749428941242231"
        ],
        [
         "33",
         "46496",
         "51241318",
         "7.038477004936228e-23",
         "1",
         "rnb",
         "0.008801300857377813"
        ],
        [
         "34",
         "47498",
         "26696134",
         "1.0738746936694624e-23",
         "1",
         "folkrock",
         "0.003526938636239985"
        ],
        [
         "35",
         "50527",
         "16549426",
         "5.701051613669297e-24",
         "1",
         "pop",
         "0.24675820341113552"
        ],
        [
         "36",
         "50839",
         "50685843",
         "2.9474566566901824e-23",
         "1",
         "punk",
         "0.016005354662948924"
        ],
        [
         "37",
         "51932",
         "328683",
         "3.2861278961647705e-23",
         "1",
         "alternative",
         "0.04529066737639411"
        ],
        [
         "38",
         "52568",
         "51516485",
         "1.9118203387934076e-23",
         "1",
         "indie",
         "0.024907349702463343"
        ],
        [
         "39",
         "53376",
         "51241318",
         "9.929841075871946e-24",
         "1",
         "rnb",
         "0.008801300857377813"
        ],
        [
         "40",
         "55604",
         "29611476",
         "4.2162091029166374e-24",
         "1",
         "films",
         "0.009681534231518072"
        ],
        [
         "41",
         "56180",
         "39089632",
         "3.612865563409537e-23",
         "1",
         "rusrock",
         "0.059995236723206655"
        ],
        [
         "42",
         "57276",
         "52974547",
         "2.072209329232409e-23",
         "1",
         "metal",
         "0.028842733919106685"
        ],
        [
         "43",
         "57545",
         "10270285",
         "4.5998116507420797e-23",
         "1",
         "pop",
         "0.24675820341113552"
        ],
        [
         "44",
         "57763",
         "34976783",
         "3.3690781980705703e-23",
         "1",
         "rock",
         "0.04749428941242231"
        ],
        [
         "45",
         "59227",
         "51516485",
         "4.654665882647528e-23",
         "1",
         "indie",
         "0.024907349702463343"
        ],
        [
         "46",
         "61712",
         "51241318",
         "1.33776698381611e-22",
         "1",
         "rnb",
         "0.008801300857377813"
        ],
        [
         "47",
         "62904",
         "51241318",
         "3.539239912947812e-23",
         "1",
         "rnb",
         "0.008801300857377813"
        ],
        [
         "48",
         "64039",
         "51241318",
         "1.9200225989415336e-23",
         "1",
         "rnb",
         "0.008801300857377813"
        ],
        [
         "49",
         "65067",
         "9060176",
         "9.372863406633195e-14",
         "1",
         "indie",
         "0.024907349702463343"
        ]
       ],
       "shape": {
        "columns": 6,
        "rows": 6127
       }
      },
      "text/html": [
       "<div>\n",
       "<style scoped>\n",
       "    .dataframe tbody tr th:only-of-type {\n",
       "        vertical-align: middle;\n",
       "    }\n",
       "\n",
       "    .dataframe tbody tr th {\n",
       "        vertical-align: top;\n",
       "    }\n",
       "\n",
       "    .dataframe thead th {\n",
       "        text-align: right;\n",
       "    }\n",
       "</style>\n",
       "<table border=\"1\" class=\"dataframe\">\n",
       "  <thead>\n",
       "    <tr style=\"text-align: right;\">\n",
       "      <th></th>\n",
       "      <th>user_id</th>\n",
       "      <th>track_id</th>\n",
       "      <th>score</th>\n",
       "      <th>target</th>\n",
       "      <th>genre</th>\n",
       "      <th>genre_share</th>\n",
       "    </tr>\n",
       "  </thead>\n",
       "  <tbody>\n",
       "    <tr>\n",
       "      <th>0</th>\n",
       "      <td>215</td>\n",
       "      <td>28036311</td>\n",
       "      <td>3.062896e-24</td>\n",
       "      <td>1</td>\n",
       "      <td>hardrock</td>\n",
       "      <td>0.009624</td>\n",
       "    </tr>\n",
       "    <tr>\n",
       "      <th>1</th>\n",
       "      <td>951</td>\n",
       "      <td>51516485</td>\n",
       "      <td>4.255431e-23</td>\n",
       "      <td>1</td>\n",
       "      <td>indie</td>\n",
       "      <td>0.024907</td>\n",
       "    </tr>\n",
       "    <tr>\n",
       "      <th>2</th>\n",
       "      <td>1148</td>\n",
       "      <td>214489</td>\n",
       "      <td>4.368345e-23</td>\n",
       "      <td>1</td>\n",
       "      <td>rock</td>\n",
       "      <td>0.047494</td>\n",
       "    </tr>\n",
       "    <tr>\n",
       "      <th>3</th>\n",
       "      <td>3198</td>\n",
       "      <td>51241318</td>\n",
       "      <td>1.746437e-23</td>\n",
       "      <td>1</td>\n",
       "      <td>rnb</td>\n",
       "      <td>0.008801</td>\n",
       "    </tr>\n",
       "    <tr>\n",
       "      <th>4</th>\n",
       "      <td>4005</td>\n",
       "      <td>39089632</td>\n",
       "      <td>2.819435e-23</td>\n",
       "      <td>1</td>\n",
       "      <td>rusrock</td>\n",
       "      <td>0.059995</td>\n",
       "    </tr>\n",
       "    <tr>\n",
       "      <th>...</th>\n",
       "      <td>...</td>\n",
       "      <td>...</td>\n",
       "      <td>...</td>\n",
       "      <td>...</td>\n",
       "      <td>...</td>\n",
       "      <td>...</td>\n",
       "    </tr>\n",
       "    <tr>\n",
       "      <th>6122</th>\n",
       "      <td>1371839</td>\n",
       "      <td>52100</td>\n",
       "      <td>7.401475e-23</td>\n",
       "      <td>0</td>\n",
       "      <td>pop</td>\n",
       "      <td>0.246758</td>\n",
       "    </tr>\n",
       "    <tr>\n",
       "      <th>6123</th>\n",
       "      <td>1374153</td>\n",
       "      <td>41625041</td>\n",
       "      <td>7.508522e-24</td>\n",
       "      <td>0</td>\n",
       "      <td>rock</td>\n",
       "      <td>0.047494</td>\n",
       "    </tr>\n",
       "    <tr>\n",
       "      <th>6124</th>\n",
       "      <td>1374153</td>\n",
       "      <td>1710816</td>\n",
       "      <td>1.585841e-23</td>\n",
       "      <td>0</td>\n",
       "      <td>rock</td>\n",
       "      <td>0.047494</td>\n",
       "    </tr>\n",
       "    <tr>\n",
       "      <th>6125</th>\n",
       "      <td>1374153</td>\n",
       "      <td>39257277</td>\n",
       "      <td>1.019742e-23</td>\n",
       "      <td>0</td>\n",
       "      <td>dance</td>\n",
       "      <td>0.068175</td>\n",
       "    </tr>\n",
       "    <tr>\n",
       "      <th>6126</th>\n",
       "      <td>1374153</td>\n",
       "      <td>53404</td>\n",
       "      <td>6.066972e-14</td>\n",
       "      <td>0</td>\n",
       "      <td>alternative</td>\n",
       "      <td>0.045291</td>\n",
       "    </tr>\n",
       "  </tbody>\n",
       "</table>\n",
       "<p>6127 rows × 6 columns</p>\n",
       "</div>"
      ],
      "text/plain": [
       "      user_id  track_id         score  target        genre  genre_share\n",
       "0         215  28036311  3.062896e-24       1     hardrock     0.009624\n",
       "1         951  51516485  4.255431e-23       1        indie     0.024907\n",
       "2        1148    214489  4.368345e-23       1         rock     0.047494\n",
       "3        3198  51241318  1.746437e-23       1          rnb     0.008801\n",
       "4        4005  39089632  2.819435e-23       1      rusrock     0.059995\n",
       "...       ...       ...           ...     ...          ...          ...\n",
       "6122  1371839     52100  7.401475e-23       0          pop     0.246758\n",
       "6123  1374153  41625041  7.508522e-24       0         rock     0.047494\n",
       "6124  1374153   1710816  1.585841e-23       0         rock     0.047494\n",
       "6125  1374153  39257277  1.019742e-23       0        dance     0.068175\n",
       "6126  1374153     53404  6.066972e-14       0  alternative     0.045291\n",
       "\n",
       "[6127 rows x 6 columns]"
      ]
     },
     "execution_count": 46,
     "metadata": {},
     "output_type": "execute_result"
    }
   ],
   "source": [
    "candidates_for_train"
   ]
  },
  {
   "cell_type": "code",
   "execution_count": 47,
   "id": "601f45ac",
   "metadata": {},
   "outputs": [
    {
     "data": {
      "application/vnd.microsoft.datawrangler.viewer.v0+json": {
       "columns": [
        {
         "name": "index",
         "rawType": "int64",
         "type": "integer"
        },
        {
         "name": "user_id",
         "rawType": "int32",
         "type": "integer"
        },
        {
         "name": "track_id",
         "rawType": "int64",
         "type": "integer"
        },
        {
         "name": "score",
         "rawType": "float64",
         "type": "float"
        },
        {
         "name": "target",
         "rawType": "int64",
         "type": "integer"
        },
        {
         "name": "genre",
         "rawType": "object",
         "type": "string"
        },
        {
         "name": "genre_share",
         "rawType": "float64",
         "type": "float"
        },
        {
         "name": "listen_month",
         "rawType": "float64",
         "type": "float"
        },
        {
         "name": "tracks_listened",
         "rawType": "int64",
         "type": "integer"
        },
        {
         "name": "rating_avg",
         "rawType": "float64",
         "type": "float"
        },
        {
         "name": "rating_std",
         "rawType": "float64",
         "type": "float"
        },
        {
         "name": "tracks_per_month",
         "rawType": "float64",
         "type": "float"
        }
       ],
       "ref": "cbc1fb60-b6fb-4042-8b58-a5c22fde5885",
       "rows": [
        [
         "0",
         "215",
         "28036311",
         "3.062895642774876e-24",
         "1",
         "hardrock",
         "0.009623764787806587",
         "2.7540983606557377",
         "134",
         "0.08834474840650858",
         "0.11969228307831938",
         "48.654761904761905"
        ],
        [
         "1",
         "951",
         "51516485",
         "4.255431267124226e-23",
         "1",
         "indie",
         "0.024907349702463343",
         "0.5573770491803278",
         "29",
         "0.1242452100389584",
         "0.17724980959185235",
         "52.029411764705884"
        ],
        [
         "2",
         "1148",
         "214489",
         "4.3683450305652167e-23",
         "1",
         "rock",
         "0.04749428941242231",
         "0.06557377049180328",
         "2",
         "0.16958144135233555",
         "0.023079599116190872",
         "30.5"
        ],
        [
         "3",
         "3198",
         "51241318",
         "1.7464370699634518e-23",
         "1",
         "rnb",
         "0.008801300857377813",
         "2.557377049180328",
         "173",
         "0.015806492605714238",
         "0.03329103141347339",
         "67.6474358974359"
        ],
        [
         "4",
         "4005",
         "39089632",
         "2.819434944736761e-23",
         "1",
         "rusrock",
         "0.059995236723206655",
         "2.0",
         "490",
         "0.04914235801770243",
         "0.09356451569775415",
         "245.0"
        ]
       ],
       "shape": {
        "columns": 11,
        "rows": 5
       }
      },
      "text/html": [
       "<div>\n",
       "<style scoped>\n",
       "    .dataframe tbody tr th:only-of-type {\n",
       "        vertical-align: middle;\n",
       "    }\n",
       "\n",
       "    .dataframe tbody tr th {\n",
       "        vertical-align: top;\n",
       "    }\n",
       "\n",
       "    .dataframe thead th {\n",
       "        text-align: right;\n",
       "    }\n",
       "</style>\n",
       "<table border=\"1\" class=\"dataframe\">\n",
       "  <thead>\n",
       "    <tr style=\"text-align: right;\">\n",
       "      <th></th>\n",
       "      <th>user_id</th>\n",
       "      <th>track_id</th>\n",
       "      <th>score</th>\n",
       "      <th>target</th>\n",
       "      <th>genre</th>\n",
       "      <th>genre_share</th>\n",
       "      <th>listen_month</th>\n",
       "      <th>tracks_listened</th>\n",
       "      <th>rating_avg</th>\n",
       "      <th>rating_std</th>\n",
       "      <th>tracks_per_month</th>\n",
       "    </tr>\n",
       "  </thead>\n",
       "  <tbody>\n",
       "    <tr>\n",
       "      <th>0</th>\n",
       "      <td>215</td>\n",
       "      <td>28036311</td>\n",
       "      <td>3.062896e-24</td>\n",
       "      <td>1</td>\n",
       "      <td>hardrock</td>\n",
       "      <td>0.009624</td>\n",
       "      <td>2.754098</td>\n",
       "      <td>134</td>\n",
       "      <td>0.088345</td>\n",
       "      <td>0.119692</td>\n",
       "      <td>48.654762</td>\n",
       "    </tr>\n",
       "    <tr>\n",
       "      <th>1</th>\n",
       "      <td>951</td>\n",
       "      <td>51516485</td>\n",
       "      <td>4.255431e-23</td>\n",
       "      <td>1</td>\n",
       "      <td>indie</td>\n",
       "      <td>0.024907</td>\n",
       "      <td>0.557377</td>\n",
       "      <td>29</td>\n",
       "      <td>0.124245</td>\n",
       "      <td>0.177250</td>\n",
       "      <td>52.029412</td>\n",
       "    </tr>\n",
       "    <tr>\n",
       "      <th>2</th>\n",
       "      <td>1148</td>\n",
       "      <td>214489</td>\n",
       "      <td>4.368345e-23</td>\n",
       "      <td>1</td>\n",
       "      <td>rock</td>\n",
       "      <td>0.047494</td>\n",
       "      <td>0.065574</td>\n",
       "      <td>2</td>\n",
       "      <td>0.169581</td>\n",
       "      <td>0.023080</td>\n",
       "      <td>30.500000</td>\n",
       "    </tr>\n",
       "    <tr>\n",
       "      <th>3</th>\n",
       "      <td>3198</td>\n",
       "      <td>51241318</td>\n",
       "      <td>1.746437e-23</td>\n",
       "      <td>1</td>\n",
       "      <td>rnb</td>\n",
       "      <td>0.008801</td>\n",
       "      <td>2.557377</td>\n",
       "      <td>173</td>\n",
       "      <td>0.015806</td>\n",
       "      <td>0.033291</td>\n",
       "      <td>67.647436</td>\n",
       "    </tr>\n",
       "    <tr>\n",
       "      <th>4</th>\n",
       "      <td>4005</td>\n",
       "      <td>39089632</td>\n",
       "      <td>2.819435e-23</td>\n",
       "      <td>1</td>\n",
       "      <td>rusrock</td>\n",
       "      <td>0.059995</td>\n",
       "      <td>2.000000</td>\n",
       "      <td>490</td>\n",
       "      <td>0.049142</td>\n",
       "      <td>0.093565</td>\n",
       "      <td>245.000000</td>\n",
       "    </tr>\n",
       "  </tbody>\n",
       "</table>\n",
       "</div>"
      ],
      "text/plain": [
       "   user_id  track_id         score  target     genre  genre_share  \\\n",
       "0      215  28036311  3.062896e-24       1  hardrock     0.009624   \n",
       "1      951  51516485  4.255431e-23       1     indie     0.024907   \n",
       "2     1148    214489  4.368345e-23       1      rock     0.047494   \n",
       "3     3198  51241318  1.746437e-23       1       rnb     0.008801   \n",
       "4     4005  39089632  2.819435e-23       1   rusrock     0.059995   \n",
       "\n",
       "   listen_month  tracks_listened  rating_avg  rating_std  tracks_per_month  \n",
       "0      2.754098              134    0.088345    0.119692         48.654762  \n",
       "1      0.557377               29    0.124245    0.177250         52.029412  \n",
       "2      0.065574                2    0.169581    0.023080         30.500000  \n",
       "3      2.557377              173    0.015806    0.033291         67.647436  \n",
       "4      2.000000              490    0.049142    0.093565        245.000000  "
      ]
     },
     "execution_count": 47,
     "metadata": {},
     "output_type": "execute_result"
    }
   ],
   "source": [
    "# Генерируем дополнительные признаки\n",
    "def get_user_features(events):\n",
    "    user_features = events.groupby(\"user_id\").agg(\n",
    "        listen_month=(\"started_at\", lambda x: (x.max()-x.min()).days/30.5),\n",
    "        tracks_listened=(\"track_id\", \"count\"),\n",
    "        rating_avg=(\"tracks_rating\", \"mean\"),\n",
    "        rating_std=(\"tracks_rating\", \"std\"))\n",
    "    \n",
    "    user_features[\"tracks_per_month\"] = user_features[\"tracks_listened\"] / user_features[\"listen_month\"]\n",
    "    \n",
    "    return user_features\n",
    "\n",
    "user_features_for_train = get_user_features(events_train)\n",
    "candidates_for_train = candidates_for_train.merge(user_features_for_train, on=\"user_id\", how=\"left\")\n",
    "\n",
    "# Что получилось\n",
    "candidates_for_train.head()"
   ]
  },
  {
   "cell_type": "code",
   "execution_count": 38,
   "id": "0cb160e9",
   "metadata": {},
   "outputs": [],
   "source": [
    "# Сохраним\n",
    "candidates_for_train.to_parquet('candidates_for_train.parquet')"
   ]
  },
  {
   "cell_type": "code",
   "execution_count": null,
   "id": "3aea9f8a",
   "metadata": {},
   "outputs": [],
   "source": [
    "# Checkpoint\n",
    "# candidates_for_train = pd.read_parquet('candidates_for_train.parquet')"
   ]
  },
  {
   "cell_type": "code",
   "execution_count": 30,
   "id": "64ee1049",
   "metadata": {},
   "outputs": [
    {
     "data": {
      "text/plain": [
       "<Compressed Sparse Row sparse matrix of dtype 'int8'\n",
       "\twith 43736775 stored elements and shape (274644, 1000000)>"
      ]
     },
     "execution_count": 30,
     "metadata": {},
     "output_type": "execute_result"
    }
   ],
   "source": [
    "# К нам поступили \"новые\" данные!\n",
    "events_inference = pd.concat([events_train, events_label])\n",
    "\n",
    "# Создаем User-Item матрицу для обучения ALS на новых данныех\n",
    "user_item_matrix_train_new = scipy.sparse.csr_matrix(\n",
    "    (\n",
    "    events_inference[\"tracks_rating\"],\n",
    "    (events_inference[\"user_id_enc\"], events_inference[\"track_id_enc\"])\n",
    "    ),\n",
    "    dtype=np.int8\n",
    ")\n",
    "\n",
    "user_item_matrix_train_new"
   ]
  },
  {
   "cell_type": "code",
   "execution_count": 27,
   "id": "1c120da8",
   "metadata": {},
   "outputs": [
    {
     "name": "stderr",
     "output_type": "stream",
     "text": [
      "100%|██████████| 50/50 [04:16<00:00,  5.13s/it]\n"
     ]
    }
   ],
   "source": [
    "# Тренеруем ALS\n",
    "\n",
    "als_model_inference  = AlternatingLeastSquares(\n",
    "\tfactors = 50,\n",
    "\titerations = 50,\n",
    "\tregularization = 0.5,\n",
    "\trandom_state = RANDOM_STATE\n",
    "\t)\n",
    "\n",
    "als_model_inference .fit(user_item_matrix_train_new)"
   ]
  },
  {
   "cell_type": "code",
   "execution_count": 28,
   "id": "f0b227ed",
   "metadata": {},
   "outputs": [],
   "source": [
    "# Модель рекомендует!\n",
    "user_ids_enc = range(events_inference['user_id_enc'].max())\n",
    "\n",
    "als_recommendations_new = als_model_inference.recommend(\n",
    "    user_ids_enc, \n",
    "    user_item_matrix_train_new[user_ids_enc], \n",
    "    filter_already_liked_items=False, \n",
    "    N=10\n",
    ")"
   ]
  },
  {
   "cell_type": "code",
   "execution_count": 29,
   "id": "1d2cfc49",
   "metadata": {},
   "outputs": [],
   "source": [
    "# Преобразуем результат в датафрейм как уже делали\n",
    "track_ids_enc = als_recommendations_new[0]\n",
    "als_scores = als_recommendations_new[1]\n",
    "\n",
    "als_recommendations_new = pd.DataFrame({\n",
    "    \"user_id_enc\": user_ids_enc,\n",
    "    \"track_id_enc\": track_ids_enc.tolist(), \n",
    "    \"score\": als_scores.tolist()})\n",
    "\n",
    "als_recommendations_new = als_recommendations_new.explode([\"track_id_enc\", \"score\"], ignore_index=True)\n",
    "\n",
    "# Приводим типы данных\n",
    "als_recommendations_new[\"track_id_enc\"] = als_recommendations_new[\"track_id_enc\"].astype(\"int\")\n",
    "als_recommendations_new[\"score\"] = als_recommendations_new[\"score\"].astype(\"float\")\n",
    "\n",
    "# Получаем изначальные идентификаторы\n",
    "als_recommendations_new[\"user_id\"] = u_encoder.inverse_transform(als_recommendations_new[\"user_id_enc\"])\n",
    "als_recommendations_new[\"track_id\"] = i_encoder.inverse_transform(als_recommendations_new[\"track_id_enc\"])\n",
    "als_recommendations_new = als_recommendations_new.drop(columns=[\"user_id_enc\", \"track_id_enc\"])\n",
    "\n",
    "\n",
    "als_recommendations_new = als_recommendations_new[[\"user_id\", \"track_id\", \"score\"]]"
   ]
  },
  {
   "cell_type": "code",
   "execution_count": 30,
   "id": "a19354b7",
   "metadata": {},
   "outputs": [
    {
     "data": {
      "application/vnd.microsoft.datawrangler.viewer.v0+json": {
       "columns": [
        {
         "name": "index",
         "rawType": "int64",
         "type": "integer"
        },
        {
         "name": "user_id",
         "rawType": "int32",
         "type": "integer"
        },
        {
         "name": "track_id",
         "rawType": "int64",
         "type": "integer"
        },
        {
         "name": "score",
         "rawType": "float64",
         "type": "float"
        }
       ],
       "ref": "bd0e551b-0d60-46a3-bead-dc81074a0909",
       "rows": [
        [
         "0",
         "4",
         "53404",
         "2.3320310526403487e-13"
        ],
        [
         "1",
         "4",
         "39089632",
         "1.9790301835129705e-23"
        ],
        [
         "2",
         "4",
         "16549426",
         "1.7872661438349758e-23"
        ],
        [
         "3",
         "4",
         "38646012",
         "1.553616429989004e-23"
        ],
        [
         "4",
         "4",
         "628970",
         "1.5198519210680964e-23"
        ]
       ],
       "shape": {
        "columns": 3,
        "rows": 5
       }
      },
      "text/html": [
       "<div>\n",
       "<style scoped>\n",
       "    .dataframe tbody tr th:only-of-type {\n",
       "        vertical-align: middle;\n",
       "    }\n",
       "\n",
       "    .dataframe tbody tr th {\n",
       "        vertical-align: top;\n",
       "    }\n",
       "\n",
       "    .dataframe thead th {\n",
       "        text-align: right;\n",
       "    }\n",
       "</style>\n",
       "<table border=\"1\" class=\"dataframe\">\n",
       "  <thead>\n",
       "    <tr style=\"text-align: right;\">\n",
       "      <th></th>\n",
       "      <th>user_id</th>\n",
       "      <th>track_id</th>\n",
       "      <th>score</th>\n",
       "    </tr>\n",
       "  </thead>\n",
       "  <tbody>\n",
       "    <tr>\n",
       "      <th>0</th>\n",
       "      <td>4</td>\n",
       "      <td>53404</td>\n",
       "      <td>2.332031e-13</td>\n",
       "    </tr>\n",
       "    <tr>\n",
       "      <th>1</th>\n",
       "      <td>4</td>\n",
       "      <td>39089632</td>\n",
       "      <td>1.979030e-23</td>\n",
       "    </tr>\n",
       "    <tr>\n",
       "      <th>2</th>\n",
       "      <td>4</td>\n",
       "      <td>16549426</td>\n",
       "      <td>1.787266e-23</td>\n",
       "    </tr>\n",
       "    <tr>\n",
       "      <th>3</th>\n",
       "      <td>4</td>\n",
       "      <td>38646012</td>\n",
       "      <td>1.553616e-23</td>\n",
       "    </tr>\n",
       "    <tr>\n",
       "      <th>4</th>\n",
       "      <td>4</td>\n",
       "      <td>628970</td>\n",
       "      <td>1.519852e-23</td>\n",
       "    </tr>\n",
       "  </tbody>\n",
       "</table>\n",
       "</div>"
      ],
      "text/plain": [
       "   user_id  track_id         score\n",
       "0        4     53404  2.332031e-13\n",
       "1        4  39089632  1.979030e-23\n",
       "2        4  16549426  1.787266e-23\n",
       "3        4  38646012  1.553616e-23\n",
       "4        4    628970  1.519852e-23"
      ]
     },
     "execution_count": 30,
     "metadata": {},
     "output_type": "execute_result"
    }
   ],
   "source": [
    "# Что получилось?\n",
    "als_recommendations_new.head()"
   ]
  },
  {
   "cell_type": "code",
   "execution_count": 31,
   "id": "cd782935",
   "metadata": {},
   "outputs": [],
   "source": [
    "# Сохраняем\n",
    "als_recommendations_new.to_parquet(\"personal_als_inf.parquet\")"
   ]
  },
  {
   "cell_type": "code",
   "execution_count": null,
   "id": "246c51f9",
   "metadata": {},
   "outputs": [],
   "source": [
    "# Checkpoint\n",
    "# als_recommendations_new = pd.read_parquet(\"personal_als_inf.parquet\")"
   ]
  },
  {
   "cell_type": "code",
   "execution_count": 50,
   "id": "02639003",
   "metadata": {},
   "outputs": [
    {
     "data": {
      "application/vnd.microsoft.datawrangler.viewer.v0+json": {
       "columns": [
        {
         "name": "index",
         "rawType": "int64",
         "type": "integer"
        },
        {
         "name": "user_id",
         "rawType": "int32",
         "type": "integer"
        },
        {
         "name": "track_id",
         "rawType": "int64",
         "type": "integer"
        },
        {
         "name": "score",
         "rawType": "float64",
         "type": "float"
        }
       ],
       "ref": "fe317e28-fe77-4fdc-af70-3b750f92fc22",
       "rows": [
        [
         "0",
         "4",
         "53404",
         "2.3320310526403487e-13"
        ],
        [
         "1",
         "4",
         "39089632",
         "1.9790301835129705e-23"
        ],
        [
         "2",
         "4",
         "16549426",
         "1.7872661438349758e-23"
        ],
        [
         "3",
         "4",
         "38646012",
         "1.553616429989004e-23"
        ],
        [
         "4",
         "4",
         "628970",
         "1.5198519210680964e-23"
        ]
       ],
       "shape": {
        "columns": 3,
        "rows": 5
       }
      },
      "text/html": [
       "<div>\n",
       "<style scoped>\n",
       "    .dataframe tbody tr th:only-of-type {\n",
       "        vertical-align: middle;\n",
       "    }\n",
       "\n",
       "    .dataframe tbody tr th {\n",
       "        vertical-align: top;\n",
       "    }\n",
       "\n",
       "    .dataframe thead th {\n",
       "        text-align: right;\n",
       "    }\n",
       "</style>\n",
       "<table border=\"1\" class=\"dataframe\">\n",
       "  <thead>\n",
       "    <tr style=\"text-align: right;\">\n",
       "      <th></th>\n",
       "      <th>user_id</th>\n",
       "      <th>track_id</th>\n",
       "      <th>score</th>\n",
       "    </tr>\n",
       "  </thead>\n",
       "  <tbody>\n",
       "    <tr>\n",
       "      <th>0</th>\n",
       "      <td>4</td>\n",
       "      <td>53404</td>\n",
       "      <td>2.332031e-13</td>\n",
       "    </tr>\n",
       "    <tr>\n",
       "      <th>1</th>\n",
       "      <td>4</td>\n",
       "      <td>39089632</td>\n",
       "      <td>1.979030e-23</td>\n",
       "    </tr>\n",
       "    <tr>\n",
       "      <th>2</th>\n",
       "      <td>4</td>\n",
       "      <td>16549426</td>\n",
       "      <td>1.787266e-23</td>\n",
       "    </tr>\n",
       "    <tr>\n",
       "      <th>3</th>\n",
       "      <td>4</td>\n",
       "      <td>38646012</td>\n",
       "      <td>1.553616e-23</td>\n",
       "    </tr>\n",
       "    <tr>\n",
       "      <th>4</th>\n",
       "      <td>4</td>\n",
       "      <td>628970</td>\n",
       "      <td>1.519852e-23</td>\n",
       "    </tr>\n",
       "  </tbody>\n",
       "</table>\n",
       "</div>"
      ],
      "text/plain": [
       "   user_id  track_id         score\n",
       "0        4     53404  2.332031e-13\n",
       "1        4  39089632  1.979030e-23\n",
       "2        4  16549426  1.787266e-23\n",
       "3        4  38646012  1.553616e-23\n",
       "4        4    628970  1.519852e-23"
      ]
     },
     "execution_count": 50,
     "metadata": {},
     "output_type": "execute_result"
    }
   ],
   "source": [
    "# оставим только тех пользователей, что есть в тесте, для экономии ресурсов\n",
    "candidates_to_rank = als_recommendations_new[als_recommendations_new[\"user_id\"].isin(events_test_2[\"user_id\"].drop_duplicates())]\n",
    "candidates_to_rank.head()"
   ]
  },
  {
   "cell_type": "code",
   "execution_count": 51,
   "id": "3e396e0f",
   "metadata": {},
   "outputs": [
    {
     "data": {
      "application/vnd.microsoft.datawrangler.viewer.v0+json": {
       "columns": [
        {
         "name": "index",
         "rawType": "int64",
         "type": "integer"
        },
        {
         "name": "user_id",
         "rawType": "int32",
         "type": "integer"
        },
        {
         "name": "track_id",
         "rawType": "int64",
         "type": "integer"
        },
        {
         "name": "score",
         "rawType": "float64",
         "type": "float"
        },
        {
         "name": "genre",
         "rawType": "object",
         "type": "string"
        },
        {
         "name": "genre_share",
         "rawType": "float64",
         "type": "float"
        }
       ],
       "ref": "449572d6-8d6e-4dd0-a2a6-14adf4393330",
       "rows": [
        [
         "0",
         "4",
         "53404",
         "2.3320310526403487e-13",
         "alternative",
         "0.04529066737639411"
        ],
        [
         "1",
         "4",
         "39089632",
         "1.9790301835129705e-23",
         "rusrock",
         "0.059995236723206655"
        ],
        [
         "2",
         "4",
         "16549426",
         "1.7872661438349758e-23",
         "pop",
         "0.24675820341113552"
        ],
        [
         "3",
         "4",
         "38646012",
         "1.553616429989004e-23",
         "allrock",
         "0.0054013829356269446"
        ],
        [
         "4",
         "4",
         "628970",
         "1.5198519210680964e-23",
         "alternative",
         "0.04529066737639411"
        ]
       ],
       "shape": {
        "columns": 5,
        "rows": 5
       }
      },
      "text/html": [
       "<div>\n",
       "<style scoped>\n",
       "    .dataframe tbody tr th:only-of-type {\n",
       "        vertical-align: middle;\n",
       "    }\n",
       "\n",
       "    .dataframe tbody tr th {\n",
       "        vertical-align: top;\n",
       "    }\n",
       "\n",
       "    .dataframe thead th {\n",
       "        text-align: right;\n",
       "    }\n",
       "</style>\n",
       "<table border=\"1\" class=\"dataframe\">\n",
       "  <thead>\n",
       "    <tr style=\"text-align: right;\">\n",
       "      <th></th>\n",
       "      <th>user_id</th>\n",
       "      <th>track_id</th>\n",
       "      <th>score</th>\n",
       "      <th>genre</th>\n",
       "      <th>genre_share</th>\n",
       "    </tr>\n",
       "  </thead>\n",
       "  <tbody>\n",
       "    <tr>\n",
       "      <th>0</th>\n",
       "      <td>4</td>\n",
       "      <td>53404</td>\n",
       "      <td>2.332031e-13</td>\n",
       "      <td>alternative</td>\n",
       "      <td>0.045291</td>\n",
       "    </tr>\n",
       "    <tr>\n",
       "      <th>1</th>\n",
       "      <td>4</td>\n",
       "      <td>39089632</td>\n",
       "      <td>1.979030e-23</td>\n",
       "      <td>rusrock</td>\n",
       "      <td>0.059995</td>\n",
       "    </tr>\n",
       "    <tr>\n",
       "      <th>2</th>\n",
       "      <td>4</td>\n",
       "      <td>16549426</td>\n",
       "      <td>1.787266e-23</td>\n",
       "      <td>pop</td>\n",
       "      <td>0.246758</td>\n",
       "    </tr>\n",
       "    <tr>\n",
       "      <th>3</th>\n",
       "      <td>4</td>\n",
       "      <td>38646012</td>\n",
       "      <td>1.553616e-23</td>\n",
       "      <td>allrock</td>\n",
       "      <td>0.005401</td>\n",
       "    </tr>\n",
       "    <tr>\n",
       "      <th>4</th>\n",
       "      <td>4</td>\n",
       "      <td>628970</td>\n",
       "      <td>1.519852e-23</td>\n",
       "      <td>alternative</td>\n",
       "      <td>0.045291</td>\n",
       "    </tr>\n",
       "  </tbody>\n",
       "</table>\n",
       "</div>"
      ],
      "text/plain": [
       "   user_id  track_id         score        genre  genre_share\n",
       "0        4     53404  2.332031e-13  alternative     0.045291\n",
       "1        4  39089632  1.979030e-23      rusrock     0.059995\n",
       "2        4  16549426  1.787266e-23          pop     0.246758\n",
       "3        4  38646012  1.553616e-23      allrock     0.005401\n",
       "4        4    628970  1.519852e-23  alternative     0.045291"
      ]
     },
     "execution_count": 51,
     "metadata": {},
     "output_type": "execute_result"
    }
   ],
   "source": [
    "# добавляем те-же признаки что добавляли в candidates_for_train, теперь в candidates_to_rank\n",
    "candidates_to_rank = candidates_to_rank.merge(items[[\"track_id\", \"genre\"]], on=\"track_id\", how=\"left\")\n",
    "candidates_to_rank = candidates_to_rank.merge(genre_share, on=\"genre\", how=\"left\")\n",
    "\n",
    "candidates_to_rank.head()"
   ]
  },
  {
   "cell_type": "code",
   "execution_count": null,
   "id": "a2e1d446",
   "metadata": {},
   "outputs": [],
   "source": [
    "user_features_for_ranking = get_user_features(events_inference)\n",
    "candidates_to_rank = candidates_to_rank.merge(user_features_for_ranking, on=\"user_id\", how=\"left\")"
   ]
  },
  {
   "cell_type": "code",
   "execution_count": 50,
   "id": "71c7c265",
   "metadata": {},
   "outputs": [],
   "source": [
    "# Сохраним \n",
    "candidates_to_rank.to_parquet('candidates_to_rank.parquet')"
   ]
  },
  {
   "cell_type": "code",
   "execution_count": 53,
   "id": "ca826f27",
   "metadata": {},
   "outputs": [],
   "source": [
    "candidates_to_rank = pd.read_parquet('candidates_to_rank.parquet')"
   ]
  },
  {
   "cell_type": "code",
   "execution_count": null,
   "id": "e97a3ea0",
   "metadata": {},
   "outputs": [],
   "source": [
    "# Откуда выплыло 7 isna() в genre!!! CatBoost падал\n",
    "candidates_for_train = candidates_for_train[~candidates_for_train.genre.isna()]"
   ]
  },
  {
   "cell_type": "code",
   "execution_count": 59,
   "id": "219be881",
   "metadata": {},
   "outputs": [
    {
     "data": {
      "application/vnd.microsoft.datawrangler.viewer.v0+json": {
       "columns": [
        {
         "name": "index",
         "rawType": "object",
         "type": "string"
        },
        {
         "name": "0",
         "rawType": "int64",
         "type": "integer"
        }
       ],
       "ref": "fe79519e-14e5-464f-910c-66561d563b02",
       "rows": [
        [
         "user_id",
         "0"
        ],
        [
         "track_id",
         "0"
        ],
        [
         "score",
         "0"
        ],
        [
         "target",
         "0"
        ],
        [
         "genre",
         "0"
        ],
        [
         "genre_share",
         "0"
        ],
        [
         "listen_month",
         "0"
        ],
        [
         "tracks_listened",
         "0"
        ],
        [
         "rating_avg",
         "0"
        ],
        [
         "rating_std",
         "0"
        ],
        [
         "tracks_per_month",
         "0"
        ]
       ],
       "shape": {
        "columns": 1,
        "rows": 11
       }
      },
      "text/plain": [
       "user_id             0\n",
       "track_id            0\n",
       "score               0\n",
       "target              0\n",
       "genre               0\n",
       "genre_share         0\n",
       "listen_month        0\n",
       "tracks_listened     0\n",
       "rating_avg          0\n",
       "rating_std          0\n",
       "tracks_per_month    0\n",
       "dtype: int64"
      ]
     },
     "execution_count": 59,
     "metadata": {},
     "output_type": "execute_result"
    }
   ],
   "source": [
    "candidates_for_train.isna().sum()"
   ]
  },
  {
   "cell_type": "markdown",
   "id": "47bcf88d-b236-46f0-a6f3-38ddd64895fe",
   "metadata": {},
   "source": [
    "# Ранжирование рекомендаций"
   ]
  },
  {
   "cell_type": "markdown",
   "id": "e8cd8223-3418-4493-8c87-1f76286ebda0",
   "metadata": {},
   "source": [
    "Построим ранжирующую модель, чтобы сделать рекомендации более точными. Отранжируем рекомендации."
   ]
  },
  {
   "cell_type": "code",
   "execution_count": 60,
   "id": "79f1dd92-32a9-463d-827e-8bb9ee5bbb54",
   "metadata": {},
   "outputs": [
    {
     "name": "stdout",
     "output_type": "stream",
     "text": [
      "0:\tlearn: 0.6327806\ttotal: 55.8ms\tremaining: 55.8s\n",
      "100:\tlearn: 0.3564605\ttotal: 494ms\tremaining: 4.39s\n",
      "200:\tlearn: 0.3119843\ttotal: 951ms\tremaining: 3.78s\n",
      "300:\tlearn: 0.2807792\ttotal: 1.41s\tremaining: 3.27s\n",
      "400:\tlearn: 0.2552306\ttotal: 1.87s\tremaining: 2.79s\n",
      "500:\tlearn: 0.2333092\ttotal: 2.33s\tremaining: 2.32s\n",
      "600:\tlearn: 0.2149202\ttotal: 2.79s\tremaining: 1.85s\n",
      "700:\tlearn: 0.1975998\ttotal: 3.5s\tremaining: 1.5s\n",
      "800:\tlearn: 0.1821608\ttotal: 4.19s\tremaining: 1.04s\n",
      "900:\tlearn: 0.1674268\ttotal: 4.67s\tremaining: 513ms\n",
      "999:\tlearn: 0.1555668\ttotal: 5.13s\tremaining: 0us\n"
     ]
    },
    {
     "data": {
      "text/plain": [
       "<catboost.core.CatBoostClassifier at 0x7f4b75f91db0>"
      ]
     },
     "execution_count": 60,
     "metadata": {},
     "output_type": "execute_result"
    }
   ],
   "source": [
    "# Задаём имена колонок признаков и таргета\n",
    "features = [\"score\", \"genre\", \"genre_share\", \n",
    "            'listen_month','tracks_listened',\n",
    "            'rating_avg','rating_std','tracks_per_month']\n",
    "cat_features = [\"genre\"]\n",
    "target = [\"target\"]\n",
    "\n",
    "# создаём Pool\n",
    "train_data = Pool(\n",
    "    data=candidates_for_train[features],\n",
    "    label=candidates_for_train[target],\n",
    "    cat_features=cat_features,\n",
    ")\n",
    "\n",
    "# Инициализируем модель CatBoostClassifier\n",
    "cb_model = CatBoostClassifier(iterations=1000,\n",
    "                           learning_rate=0.1,\n",
    "                           depth=6,\n",
    "                           loss_function='Logloss',\n",
    "                           verbose=100,\n",
    "                           random_seed=RANDOM_STATE)\n",
    "\n",
    "# тренируем модель\n",
    "cb_model.fit(train_data)"
   ]
  },
  {
   "cell_type": "code",
   "execution_count": 63,
   "id": "6dbe4db4-1ac5-44da-a13c-8e7f9768ab73",
   "metadata": {},
   "outputs": [
    {
     "data": {
      "application/vnd.microsoft.datawrangler.viewer.v0+json": {
       "columns": [
        {
         "name": "index",
         "rawType": "int64",
         "type": "integer"
        },
        {
         "name": "user_id",
         "rawType": "int32",
         "type": "integer"
        },
        {
         "name": "track_id",
         "rawType": "int64",
         "type": "integer"
        },
        {
         "name": "score",
         "rawType": "float64",
         "type": "float"
        },
        {
         "name": "genre",
         "rawType": "object",
         "type": "string"
        },
        {
         "name": "genre_share",
         "rawType": "float64",
         "type": "float"
        },
        {
         "name": "listen_month",
         "rawType": "float64",
         "type": "float"
        },
        {
         "name": "tracks_listened",
         "rawType": "float64",
         "type": "float"
        },
        {
         "name": "rating_avg",
         "rawType": "float64",
         "type": "float"
        },
        {
         "name": "rating_std",
         "rawType": "float64",
         "type": "float"
        },
        {
         "name": "tracks_per_month",
         "rawType": "float64",
         "type": "float"
        },
        {
         "name": "cb_score",
         "rawType": "float64",
         "type": "float"
        },
        {
         "name": "rank",
         "rawType": "int64",
         "type": "integer"
        }
       ],
       "ref": "f2221a8f-d47f-439a-bcab-7a5a411d7d8a",
       "rows": [
        [
         "5",
         "4",
         "51516485",
         "1.4626886932930663e-23",
         "indie",
         "0.024907349702463343",
         "8.819672131147541",
         "250.0",
         "0.03573546733803893",
         "0.06601171957863712",
         "28.345724907063197",
         "0.8578355638288442",
         "1"
        ],
        [
         "7",
         "4",
         "2758009",
         "1.399439561406437e-23",
         "rock",
         "0.04749428941242231",
         "8.819672131147541",
         "250.0",
         "0.03573546733803893",
         "0.06601171957863712",
         "28.345724907063197",
         "0.28129983888050925",
         "2"
        ],
        [
         "8",
         "4",
         "9769",
         "1.2115814876145536e-23",
         "rock",
         "0.04749428941242231",
         "8.819672131147541",
         "250.0",
         "0.03573546733803893",
         "0.06601171957863712",
         "28.345724907063197",
         "0.14897638084646542",
         "3"
        ],
        [
         "1",
         "4",
         "39089632",
         "1.9790301835129705e-23",
         "rusrock",
         "0.059995236723206655",
         "8.819672131147541",
         "250.0",
         "0.03573546733803893",
         "0.06601171957863712",
         "28.345724907063197",
         "0.13589891126315976",
         "4"
        ],
        [
         "9",
         "4",
         "560468",
         "9.702608114401223e-24",
         "rusrock",
         "0.059995236723206655",
         "8.819672131147541",
         "250.0",
         "0.03573546733803893",
         "0.06601171957863712",
         "28.345724907063197",
         "0.12830588344124197",
         "5"
        ]
       ],
       "shape": {
        "columns": 12,
        "rows": 5
       }
      },
      "text/html": [
       "<div>\n",
       "<style scoped>\n",
       "    .dataframe tbody tr th:only-of-type {\n",
       "        vertical-align: middle;\n",
       "    }\n",
       "\n",
       "    .dataframe tbody tr th {\n",
       "        vertical-align: top;\n",
       "    }\n",
       "\n",
       "    .dataframe thead th {\n",
       "        text-align: right;\n",
       "    }\n",
       "</style>\n",
       "<table border=\"1\" class=\"dataframe\">\n",
       "  <thead>\n",
       "    <tr style=\"text-align: right;\">\n",
       "      <th></th>\n",
       "      <th>user_id</th>\n",
       "      <th>track_id</th>\n",
       "      <th>score</th>\n",
       "      <th>genre</th>\n",
       "      <th>genre_share</th>\n",
       "      <th>listen_month</th>\n",
       "      <th>tracks_listened</th>\n",
       "      <th>rating_avg</th>\n",
       "      <th>rating_std</th>\n",
       "      <th>tracks_per_month</th>\n",
       "      <th>cb_score</th>\n",
       "      <th>rank</th>\n",
       "    </tr>\n",
       "  </thead>\n",
       "  <tbody>\n",
       "    <tr>\n",
       "      <th>5</th>\n",
       "      <td>4</td>\n",
       "      <td>51516485</td>\n",
       "      <td>1.462689e-23</td>\n",
       "      <td>indie</td>\n",
       "      <td>0.024907</td>\n",
       "      <td>8.819672</td>\n",
       "      <td>250.0</td>\n",
       "      <td>0.035735</td>\n",
       "      <td>0.066012</td>\n",
       "      <td>28.345725</td>\n",
       "      <td>0.857836</td>\n",
       "      <td>1</td>\n",
       "    </tr>\n",
       "    <tr>\n",
       "      <th>7</th>\n",
       "      <td>4</td>\n",
       "      <td>2758009</td>\n",
       "      <td>1.399440e-23</td>\n",
       "      <td>rock</td>\n",
       "      <td>0.047494</td>\n",
       "      <td>8.819672</td>\n",
       "      <td>250.0</td>\n",
       "      <td>0.035735</td>\n",
       "      <td>0.066012</td>\n",
       "      <td>28.345725</td>\n",
       "      <td>0.281300</td>\n",
       "      <td>2</td>\n",
       "    </tr>\n",
       "    <tr>\n",
       "      <th>8</th>\n",
       "      <td>4</td>\n",
       "      <td>9769</td>\n",
       "      <td>1.211581e-23</td>\n",
       "      <td>rock</td>\n",
       "      <td>0.047494</td>\n",
       "      <td>8.819672</td>\n",
       "      <td>250.0</td>\n",
       "      <td>0.035735</td>\n",
       "      <td>0.066012</td>\n",
       "      <td>28.345725</td>\n",
       "      <td>0.148976</td>\n",
       "      <td>3</td>\n",
       "    </tr>\n",
       "    <tr>\n",
       "      <th>1</th>\n",
       "      <td>4</td>\n",
       "      <td>39089632</td>\n",
       "      <td>1.979030e-23</td>\n",
       "      <td>rusrock</td>\n",
       "      <td>0.059995</td>\n",
       "      <td>8.819672</td>\n",
       "      <td>250.0</td>\n",
       "      <td>0.035735</td>\n",
       "      <td>0.066012</td>\n",
       "      <td>28.345725</td>\n",
       "      <td>0.135899</td>\n",
       "      <td>4</td>\n",
       "    </tr>\n",
       "    <tr>\n",
       "      <th>9</th>\n",
       "      <td>4</td>\n",
       "      <td>560468</td>\n",
       "      <td>9.702608e-24</td>\n",
       "      <td>rusrock</td>\n",
       "      <td>0.059995</td>\n",
       "      <td>8.819672</td>\n",
       "      <td>250.0</td>\n",
       "      <td>0.035735</td>\n",
       "      <td>0.066012</td>\n",
       "      <td>28.345725</td>\n",
       "      <td>0.128306</td>\n",
       "      <td>5</td>\n",
       "    </tr>\n",
       "  </tbody>\n",
       "</table>\n",
       "</div>"
      ],
      "text/plain": [
       "   user_id  track_id         score    genre  genre_share  listen_month  \\\n",
       "5        4  51516485  1.462689e-23    indie     0.024907      8.819672   \n",
       "7        4   2758009  1.399440e-23     rock     0.047494      8.819672   \n",
       "8        4      9769  1.211581e-23     rock     0.047494      8.819672   \n",
       "1        4  39089632  1.979030e-23  rusrock     0.059995      8.819672   \n",
       "9        4    560468  9.702608e-24  rusrock     0.059995      8.819672   \n",
       "\n",
       "   tracks_listened  rating_avg  rating_std  tracks_per_month  cb_score  rank  \n",
       "5            250.0    0.035735    0.066012         28.345725  0.857836     1  \n",
       "7            250.0    0.035735    0.066012         28.345725  0.281300     2  \n",
       "8            250.0    0.035735    0.066012         28.345725  0.148976     3  \n",
       "1            250.0    0.035735    0.066012         28.345725  0.135899     4  \n",
       "9            250.0    0.035735    0.066012         28.345725  0.128306     5  "
      ]
     },
     "execution_count": 63,
     "metadata": {},
     "output_type": "execute_result"
    }
   ],
   "source": [
    "# Можно использовать модель для ранжирования (candidates_to_rank)\n",
    "\n",
    "inference_data = Pool(data=candidates_to_rank[features], cat_features=cat_features)\n",
    "predictions = cb_model.predict_proba(inference_data)\n",
    "candidates_to_rank[\"cb_score\"] = predictions[:, 1]\n",
    "\n",
    "# Сортируем датафрейм для построения ранжирования\n",
    "candidates_to_rank = candidates_to_rank.sort_values([\"user_id\", \"cb_score\"], ascending=[True, False])\n",
    "\n",
    "# Ранжируем рекомендации\n",
    "candidates_to_rank[\"rank\"] = candidates_to_rank.groupby(\"user_id\").cumcount() + 1\n",
    "\n",
    "candidates_to_rank.head()"
   ]
  },
  {
   "cell_type": "code",
   "execution_count": 64,
   "id": "5398956b",
   "metadata": {},
   "outputs": [],
   "source": [
    "# Сохраним рекомендации\n",
    "candidates_to_rank.to_parquet(\"recommendations.parquet\")"
   ]
  },
  {
   "cell_type": "markdown",
   "id": "b3c84071-45b5-4a15-a683-e0ab034a3128",
   "metadata": {},
   "source": [
    "# Оценка качества"
   ]
  },
  {
   "cell_type": "markdown",
   "id": "1b107fe4-554e-42b1-87d9-c435a52bb77a",
   "metadata": {},
   "source": [
    "Проверим оценку качества трёх типов рекомендаций: \n",
    "\n",
    "- топ популярных,\n",
    "- персональных, полученных при помощи ALS,\n",
    "- итоговых\n",
    "  \n",
    "по четырем метрикам: recall, precision, coverage, novelty."
   ]
  },
  {
   "cell_type": "code",
   "execution_count": 12,
   "id": "9b422837",
   "metadata": {},
   "outputs": [],
   "source": [
    "# Загрузим рекомендации\n",
    "top_popular = pd.read_parquet('top_popular.parquet')\n"
   ]
  },
  {
   "cell_type": "markdown",
   "id": "00ef9e16",
   "metadata": {},
   "source": [
    "Топ популярных"
   ]
  },
  {
   "cell_type": "code",
   "execution_count": 15,
   "id": "94d6f388-aecb-443e-8647-14014e932d4d",
   "metadata": {},
   "outputs": [
    {
     "data": {
      "application/vnd.microsoft.datawrangler.viewer.v0+json": {
       "columns": [
        {
         "name": "index",
         "rawType": "int64",
         "type": "integer"
        },
        {
         "name": "user_id",
         "rawType": "int32",
         "type": "integer"
        },
        {
         "name": "track_id",
         "rawType": "int32",
         "type": "integer"
        },
        {
         "name": "started_at",
         "rawType": "datetime64[ns]",
         "type": "datetime"
        },
        {
         "name": "user_id_enc",
         "rawType": "int64",
         "type": "integer"
        },
        {
         "name": "track_id_enc",
         "rawType": "int64",
         "type": "integer"
        },
        {
         "name": "tracks_rating",
         "rawType": "float64",
         "type": "float"
        }
       ],
       "ref": "61aaf360-1376-4aed-82b1-15f6916062f4",
       "rows": [
        [
         "0",
         "83",
         "1660785",
         "2022-12-26 00:00:00",
         "14",
         "109818",
         null
        ],
        [
         "1",
         "83",
         "15496134",
         "2022-12-26 00:00:00",
         "14",
         "250928",
         null
        ],
        [
         "2",
         "83",
         "28523442",
         "2022-12-26 00:00:00",
         "14",
         "415575",
         null
        ],
        [
         "3",
         "83",
         "43855816",
         "2022-12-26 00:00:00",
         "14",
         "629315",
         null
        ],
        [
         "4",
         "83",
         "44484514",
         "2022-12-26 00:00:00",
         "14",
         "637232",
         null
        ]
       ],
       "shape": {
        "columns": 6,
        "rows": 5
       }
      },
      "text/html": [
       "<div>\n",
       "<style scoped>\n",
       "    .dataframe tbody tr th:only-of-type {\n",
       "        vertical-align: middle;\n",
       "    }\n",
       "\n",
       "    .dataframe tbody tr th {\n",
       "        vertical-align: top;\n",
       "    }\n",
       "\n",
       "    .dataframe thead th {\n",
       "        text-align: right;\n",
       "    }\n",
       "</style>\n",
       "<table border=\"1\" class=\"dataframe\">\n",
       "  <thead>\n",
       "    <tr style=\"text-align: right;\">\n",
       "      <th></th>\n",
       "      <th>user_id</th>\n",
       "      <th>track_id</th>\n",
       "      <th>started_at</th>\n",
       "      <th>user_id_enc</th>\n",
       "      <th>track_id_enc</th>\n",
       "      <th>tracks_rating</th>\n",
       "    </tr>\n",
       "  </thead>\n",
       "  <tbody>\n",
       "    <tr>\n",
       "      <th>0</th>\n",
       "      <td>83</td>\n",
       "      <td>1660785</td>\n",
       "      <td>2022-12-26</td>\n",
       "      <td>14</td>\n",
       "      <td>109818</td>\n",
       "      <td>NaN</td>\n",
       "    </tr>\n",
       "    <tr>\n",
       "      <th>1</th>\n",
       "      <td>83</td>\n",
       "      <td>15496134</td>\n",
       "      <td>2022-12-26</td>\n",
       "      <td>14</td>\n",
       "      <td>250928</td>\n",
       "      <td>NaN</td>\n",
       "    </tr>\n",
       "    <tr>\n",
       "      <th>2</th>\n",
       "      <td>83</td>\n",
       "      <td>28523442</td>\n",
       "      <td>2022-12-26</td>\n",
       "      <td>14</td>\n",
       "      <td>415575</td>\n",
       "      <td>NaN</td>\n",
       "    </tr>\n",
       "    <tr>\n",
       "      <th>3</th>\n",
       "      <td>83</td>\n",
       "      <td>43855816</td>\n",
       "      <td>2022-12-26</td>\n",
       "      <td>14</td>\n",
       "      <td>629315</td>\n",
       "      <td>NaN</td>\n",
       "    </tr>\n",
       "    <tr>\n",
       "      <th>4</th>\n",
       "      <td>83</td>\n",
       "      <td>44484514</td>\n",
       "      <td>2022-12-26</td>\n",
       "      <td>14</td>\n",
       "      <td>637232</td>\n",
       "      <td>NaN</td>\n",
       "    </tr>\n",
       "  </tbody>\n",
       "</table>\n",
       "</div>"
      ],
      "text/plain": [
       "   user_id  track_id started_at  user_id_enc  track_id_enc  tracks_rating\n",
       "0       83   1660785 2022-12-26           14        109818            NaN\n",
       "1       83  15496134 2022-12-26           14        250928            NaN\n",
       "2       83  28523442 2022-12-26           14        415575            NaN\n",
       "3       83  43855816 2022-12-26           14        629315            NaN\n",
       "4       83  44484514 2022-12-26           14        637232            NaN"
      ]
     },
     "execution_count": 15,
     "metadata": {},
     "output_type": "execute_result"
    }
   ],
   "source": [
    "# Наиболее популярные\n",
    "\n",
    "# Сколько из рекомендаций наиболее популярных треков было в events cold_users\n",
    "\n",
    "events_cold = events[events.user_id.isin(cold_users)].drop('tracks_rating', axis=1)\n",
    "\n",
    "events_cold_top = events_cold.merge(\n",
    "    top_popular[['track_id', 'tracks_rating']],\n",
    "    on='track_id',\n",
    "    how=\"left\",\n",
    ")\n",
    "events_cold_top.head()"
   ]
  },
  {
   "cell_type": "code",
   "execution_count": 16,
   "id": "f61fb6a8",
   "metadata": {},
   "outputs": [
    {
     "name": "stdout",
     "output_type": "stream",
     "text": [
      "Recall для топ популярных треков: 0.0588179917286623\n"
     ]
    }
   ],
   "source": [
    "top_listened_share = events_cold_top.groupby(\"user_id\")[\"tracks_rating\"].apply(lambda x: x.notnull().mean())\n",
    "recall_top = top_listened_share.mean()\n",
    "print(f\"Recall для топ популярных треков: {recall_top}\")"
   ]
  },
  {
   "cell_type": "markdown",
   "id": "30415dae",
   "metadata": {},
   "source": [
    "Персональные, полученные при помощи ALS"
   ]
  },
  {
   "cell_type": "code",
   "execution_count": 17,
   "id": "26df411f-14c1-4848-8797-f37afe449cc6",
   "metadata": {},
   "outputs": [],
   "source": [
    "# Персональные рекомендации ALS\n",
    "\n",
    "als_recommendations = pd.read_parquet('personal_als.parquet')"
   ]
  },
  {
   "cell_type": "code",
   "execution_count": 19,
   "id": "53980849",
   "metadata": {},
   "outputs": [],
   "source": [
    "def process_events_recs_for_binary_metrics(events_train, events_test, recs, top_k=None):\n",
    "\n",
    "    \"\"\"\n",
    "    Размечает пары <user_id, item_id> для общего множества пользователей признаками\n",
    "    - gt (ground truth)\n",
    "    - pr (prediction)\n",
    "    top_k: расчёт ведётся только для top k-рекомендаций\n",
    "    \"\"\"\n",
    "    \n",
    "    events_test[\"gt\"] = True\n",
    "    common_users = set(events_test[\"user_id\"]) & set(recs[\"user_id\"])\n",
    "\n",
    "    print(f\"Common users: {len(common_users)}\")\n",
    "    \n",
    "    events_for_common_users = events_test[events_test[\"user_id\"].isin(common_users)].copy()\n",
    "    recs_for_common_users = recs[recs[\"user_id\"].isin(common_users)].copy()\n",
    "\n",
    "    recs_for_common_users = recs_for_common_users.sort_values([\"user_id\", \"score\"], ascending=[True, False])\n",
    "\n",
    "    events_for_common_users = events_for_common_users[events_for_common_users[\"track_id\"].isin(\n",
    "        events_train[\"track_id\"].unique()\n",
    "    )\n",
    "    ]\n",
    "\n",
    "    if top_k is not None:\n",
    "        recs_for_common_users = recs_for_common_users.groupby(\"user_id\").head(top_k)\n",
    "    \n",
    "    events_recs_common = events_for_common_users[[\"user_id\", \"track_id\", \"gt\"]].merge(\n",
    "        recs_for_common_users[[\"user_id\", \"track_id\", \"score\"]], \n",
    "        on=[\"user_id\", \"track_id\"], \n",
    "        how=\"outer\",\n",
    "    )    \n",
    "\n",
    "    events_recs_common[\"gt\"] = events_recs_common[\"gt\"].fillna(False)\n",
    "    events_recs_common[\"pr\"] = ~events_recs_common[\"score\"].isnull()\n",
    "    \n",
    "    events_recs_common[\"tp\"] = events_recs_common[\"gt\"] & events_recs_common[\"pr\"]\n",
    "    events_recs_common[\"fp\"] = ~events_recs_common[\"gt\"] & events_recs_common[\"pr\"]\n",
    "    events_recs_common[\"fn\"] = events_recs_common[\"gt\"] & ~events_recs_common[\"pr\"]\n",
    "\n",
    "    return events_recs_common"
   ]
  },
  {
   "cell_type": "code",
   "execution_count": 20,
   "id": "6afc069f",
   "metadata": {},
   "outputs": [
    {
     "name": "stdout",
     "output_type": "stream",
     "text": [
      "Common users: 31443\n"
     ]
    }
   ],
   "source": [
    "events_recs_for_binary_metrics = process_events_recs_for_binary_metrics(\n",
    "    events_train,\n",
    "    events_test, \n",
    "    als_recommendations, \n",
    "    top_k=5)\t# Не забываем про топ=5"
   ]
  },
  {
   "cell_type": "code",
   "execution_count": 22,
   "id": "203b2e43",
   "metadata": {},
   "outputs": [],
   "source": [
    "def compute_cls_metrics(events_recs_for_binary_metric):\n",
    "    \n",
    "    \"\"\"Расчет precision и recall\"\"\"\n",
    "    \n",
    "    groupper = events_recs_for_binary_metric.groupby(\"user_id\")\n",
    "\n",
    "    # Computing precision\n",
    "    precision = groupper[\"tp\"].sum()/(groupper[\"tp\"].sum()+groupper[\"fp\"].sum())\n",
    "    precision = precision.fillna(0).mean()\n",
    "    \n",
    "    # Computing recall\n",
    "    recall = groupper[\"tp\"].sum()/(groupper[\"tp\"].sum()+groupper[\"fn\"].sum())\n",
    "    recall = recall.fillna(0).mean()\n",
    "\n",
    "    return precision, recall"
   ]
  },
  {
   "cell_type": "code",
   "execution_count": 23,
   "id": "54166d11",
   "metadata": {},
   "outputs": [
    {
     "name": "stdout",
     "output_type": "stream",
     "text": [
      "Персональные рекомендации precision: 0.001043157459529943\n",
      "Персональные рекомендации recall: 0.0003002649961987588\n"
     ]
    }
   ],
   "source": [
    "# Считаем precision, recall\n",
    "precision, recall = compute_cls_metrics(events_recs_for_binary_metrics)\n",
    "\n",
    "print(f\"Персональные рекомендации precision: {precision}\")\n",
    "print(f\"Персональные рекомендации recall: {recall}\")"
   ]
  },
  {
   "cell_type": "code",
   "execution_count": 24,
   "id": "20f180ef",
   "metadata": {},
   "outputs": [
    {
     "name": "stdout",
     "output_type": "stream",
     "text": [
      "Персональные рекомендации Coverage: 0.0010559123811188303\n"
     ]
    }
   ],
   "source": [
    "# Расчёт Coverage\n",
    "cov_als = als_recommendations['track_id'].nunique() / als_recommendations['user_id'].nunique()\n",
    "\n",
    "print(f\"Персональные рекомендации Coverage: {cov_als}\") "
   ]
  },
  {
   "cell_type": "code",
   "execution_count": 25,
   "id": "0fbe8a18",
   "metadata": {},
   "outputs": [
    {
     "name": "stdout",
     "output_type": "stream",
     "text": [
      "Персональные рекомендации, novelty_5: 0.990658452396557\n"
     ]
    }
   ],
   "source": [
    "# разметим каждую рекомендацию признаком listened\n",
    "events_train[\"listened\"] = True\n",
    "\n",
    "als_recommendations = als_recommendations.merge(events_train, on=[\"user_id\", \"track_id\"], how=\"left\")\n",
    "als_recommendations[\"listened\"] = als_recommendations[\"listened\"].fillna(False).astype(\"bool\")\n",
    "\n",
    "# Проставим ранги\n",
    "als_recommendations = als_recommendations.sort_values(by=[\"user_id\", \"score\"], ascending=[True, False])\n",
    "als_recommendations[\"rank\"] = als_recommendations.groupby(\"user_id\").cumcount() + 1\n",
    "\n",
    "# Посчитаем novelty по пользователям\n",
    "novelty_5_als = (1-als_recommendations.query(\"rank <= 5\").groupby(\"user_id\")[\"listened\"].mean()).mean()\n",
    "\n",
    "print(f\"Персональные рекомендации, novelty_5: {novelty_5_als}\")"
   ]
  },
  {
   "cell_type": "markdown",
   "id": "07a1c1aa",
   "metadata": {},
   "source": [
    "Итоговые"
   ]
  },
  {
   "cell_type": "code",
   "execution_count": 37,
   "id": "78e7ce30",
   "metadata": {},
   "outputs": [],
   "source": [
    "# Загрузим рекомендации\n",
    "final_recommendations = pd.read_parquet(\"recommendations.parquet\")"
   ]
  },
  {
   "cell_type": "code",
   "execution_count": 38,
   "id": "05e1d276",
   "metadata": {},
   "outputs": [
    {
     "name": "stdout",
     "output_type": "stream",
     "text": [
      "Common users: 19749\n",
      "Итоговые рекомендации precision: 0.0008000405083801712\n",
      "Итоговые рекомендации recall: 0.000741683807135899\n"
     ]
    }
   ],
   "source": [
    "# Получим метрики для финальных рекомендаций\n",
    "\n",
    "# Щас это лишнее\n",
    "final_recommendations = final_recommendations.drop(columns='score')\n",
    "\n",
    "cb_events_recs_for_binary_metrics_5 = process_events_recs_for_binary_metrics(\n",
    "    events_inference,\n",
    "    events_test_2,\n",
    "    final_recommendations.rename(columns={'cb_score': 'score'}), \n",
    "    top_k=5)\n",
    "\n",
    "cb_precision_5, cb_recall_5 = compute_cls_metrics(cb_events_recs_for_binary_metrics_5)\n",
    "\n",
    "print(f\"Итоговые рекомендации precision: {cb_precision_5}\")\n",
    "print(f\"Итоговые рекомендации recall: {cb_recall_5}\")"
   ]
  },
  {
   "cell_type": "code",
   "execution_count": 39,
   "id": "54764fb5",
   "metadata": {},
   "outputs": [
    {
     "name": "stdout",
     "output_type": "stream",
     "text": [
      "Итоговые рекомендации Coverage: 0.0027798914421955055\n"
     ]
    }
   ],
   "source": [
    "# Расчёт покрытия по объектам\n",
    "cov_final = final_recommendations['track_id'].nunique() / final_recommendations['user_id'].nunique()\n",
    "\n",
    "print(f\"Итоговые рекомендации Coverage: {cov_final}\") "
   ]
  },
  {
   "cell_type": "code",
   "execution_count": 40,
   "id": "3fe2485f",
   "metadata": {},
   "outputs": [],
   "source": [
    "# разметим каждую рекомендацию признаком listened\n",
    "events_train['listened'] = True\n",
    "\n",
    "final_recommendations = final_recommendations.merge(events_train, on=['user_id', 'track_id'], how='left')\n",
    "final_recommendations['listened'] = final_recommendations['listened'].fillna(False).astype('bool')"
   ]
  },
  {
   "cell_type": "code",
   "execution_count": 41,
   "id": "b90a1170",
   "metadata": {},
   "outputs": [
    {
     "name": "stdout",
     "output_type": "stream",
     "text": [
      "Итоговые рекомендации novelty_5: 0.9937564044031858\n"
     ]
    }
   ],
   "source": [
    "# Проставим ранги\n",
    "final_recommendations = final_recommendations.sort_values(by=['user_id', 'cb_score'], ascending=[True, False])\n",
    "final_recommendations['rank'] = final_recommendations.groupby('user_id').cumcount() + 1\n",
    "\n",
    "# Посчитаем novelty по пользователям\n",
    "novelty_5_final = (1-final_recommendations.query('rank <= 5').groupby('user_id')['listened'].mean()).mean()\n",
    "\n",
    "print(f\"Итоговые рекомендации novelty_5: {novelty_5_final}\")"
   ]
  },
  {
   "cell_type": "markdown",
   "id": "f1c8d38c-32b0-46a4-96f0-cd01dac708bc",
   "metadata": {},
   "source": [
    "# === Выводы, метрики ==="
   ]
  },
  {
   "cell_type": "markdown",
   "id": "f7d7d5d8-7d1e-4fdf-a6cd-83e5ce92c684",
   "metadata": {},
   "source": [
    "Основные выводы при работе над расчётом рекомендаций, рассчитанные метрики."
   ]
  },
  {
   "cell_type": "code",
   "execution_count": 43,
   "id": "6403097d-db36-46d9-8952-613c9bd51b05",
   "metadata": {},
   "outputs": [
    {
     "data": {
      "application/vnd.microsoft.datawrangler.viewer.v0+json": {
       "columns": [
        {
         "name": "index",
         "rawType": "object",
         "type": "string"
        },
        {
         "name": "top_popular",
         "rawType": "float64",
         "type": "float"
        },
        {
         "name": "personal_als",
         "rawType": "float64",
         "type": "float"
        },
        {
         "name": "final_recs",
         "rawType": "float64",
         "type": "float"
        }
       ],
       "ref": "70cc5472-edc7-4467-b848-7208e2fe8819",
       "rows": [
        [
         "recall_top",
         "0.0588179917286623",
         null,
         null
        ],
        [
         "precision",
         null,
         "0.001043157459529943",
         "0.0008000405083801712"
        ],
        [
         "recall",
         null,
         "0.0003002649961987588",
         "0.000741683807135899"
        ],
        [
         "coverage",
         null,
         "0.0010559123811188303",
         "0.0027798914421955055"
        ],
        [
         "novelty",
         null,
         "0.990658452396557",
         "0.9937564044031858"
        ]
       ],
       "shape": {
        "columns": 3,
        "rows": 5
       }
      },
      "text/html": [
       "<div>\n",
       "<style scoped>\n",
       "    .dataframe tbody tr th:only-of-type {\n",
       "        vertical-align: middle;\n",
       "    }\n",
       "\n",
       "    .dataframe tbody tr th {\n",
       "        vertical-align: top;\n",
       "    }\n",
       "\n",
       "    .dataframe thead th {\n",
       "        text-align: right;\n",
       "    }\n",
       "</style>\n",
       "<table border=\"1\" class=\"dataframe\">\n",
       "  <thead>\n",
       "    <tr style=\"text-align: right;\">\n",
       "      <th></th>\n",
       "      <th>top_popular</th>\n",
       "      <th>personal_als</th>\n",
       "      <th>final_recs</th>\n",
       "    </tr>\n",
       "  </thead>\n",
       "  <tbody>\n",
       "    <tr>\n",
       "      <th>recall_top</th>\n",
       "      <td>0.058818</td>\n",
       "      <td>NaN</td>\n",
       "      <td>NaN</td>\n",
       "    </tr>\n",
       "    <tr>\n",
       "      <th>precision</th>\n",
       "      <td>NaN</td>\n",
       "      <td>0.001043</td>\n",
       "      <td>0.000800</td>\n",
       "    </tr>\n",
       "    <tr>\n",
       "      <th>recall</th>\n",
       "      <td>NaN</td>\n",
       "      <td>0.000300</td>\n",
       "      <td>0.000742</td>\n",
       "    </tr>\n",
       "    <tr>\n",
       "      <th>coverage</th>\n",
       "      <td>NaN</td>\n",
       "      <td>0.001056</td>\n",
       "      <td>0.002780</td>\n",
       "    </tr>\n",
       "    <tr>\n",
       "      <th>novelty</th>\n",
       "      <td>NaN</td>\n",
       "      <td>0.990658</td>\n",
       "      <td>0.993756</td>\n",
       "    </tr>\n",
       "  </tbody>\n",
       "</table>\n",
       "</div>"
      ],
      "text/plain": [
       "            top_popular  personal_als  final_recs\n",
       "recall_top     0.058818           NaN         NaN\n",
       "precision           NaN      0.001043    0.000800\n",
       "recall              NaN      0.000300    0.000742\n",
       "coverage            NaN      0.001056    0.002780\n",
       "novelty             NaN      0.990658    0.993756"
      ]
     },
     "execution_count": 43,
     "metadata": {},
     "output_type": "execute_result"
    }
   ],
   "source": [
    "popular_metrics = pd.Series([recall_top], index=['recall_top'], name='top_popular')\n",
    "\n",
    "personal_als_metrics = pd.Series([precision, recall, cov_als, novelty_5_als], \n",
    "                                 index=['precision', 'recall', 'coverage', 'novelty'],\n",
    "                                 name='personal_als')\n",
    "\n",
    "final_recs_metrics = pd.Series([cb_precision_5, cb_recall_5,cov_final,novelty_5_final], \n",
    "                               index=['precision', 'recall', 'coverage', 'novelty'],\n",
    "                               name='final_recs')\n",
    "\n",
    "pd.concat([popular_metrics, personal_als_metrics, final_recs_metrics], axis=1)"
   ]
  },
  {
   "cell_type": "markdown",
   "id": "30827405",
   "metadata": {},
   "source": [
    "Все метрики оказались ожидаемо ужасны, ввиду усечения данных, заниженных параметров моделей, и вероятно моих кривых рук!\n",
    "За novelty можно было бы порадоваться, но я понимаю что она тоже из-за качества данных завышена."
   ]
  },
  {
   "cell_type": "code",
   "execution_count": null,
   "id": "986cfdd5-6f2e-4de6-8666-85804c87d04b",
   "metadata": {},
   "outputs": [],
   "source": []
  }
 ],
 "metadata": {
  "kernelspec": {
   "display_name": "env_recsys_start_s4",
   "language": "python",
   "name": "python3"
  },
  "language_info": {
   "codemirror_mode": {
    "name": "ipython",
    "version": 3
   },
   "file_extension": ".py",
   "mimetype": "text/x-python",
   "name": "python",
   "nbconvert_exporter": "python",
   "pygments_lexer": "ipython3",
   "version": "3.10.12"
  }
 },
 "nbformat": 4,
 "nbformat_minor": 5
}
